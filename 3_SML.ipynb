{
 "cells": [
  {
   "cell_type": "code",
   "execution_count": 1,
   "id": "34e2fbf5",
   "metadata": {},
   "outputs": [],
   "source": [
    "from sklearn.naive_bayes import MultinomialNB\n",
    "from sklearn import metrics\n",
    "from sklearn.feature_extraction.text import CountVectorizer, TfidfVectorizer\n",
    "from sklearn.linear_model import LogisticRegression\n",
    "from nltk.tokenize import TreebankWordTokenizer\n",
    "from sklearn.pipeline import make_pipeline,Pipeline\n",
    "from sklearn.model_selection import train_test_split\n",
    "from sklearn.model_selection import GridSearchCV\n",
    "from sklearn.svm import SVC\n",
    "import pandas as pd"
   ]
  },
  {
   "cell_type": "markdown",
   "id": "e8d10a6e",
   "metadata": {},
   "source": [
    "### Read benchmark datasets"
   ]
  },
  {
   "cell_type": "code",
   "execution_count": 2,
   "id": "570a2be0",
   "metadata": {},
   "outputs": [],
   "source": [
    "df = pd.read_csv(\"3_SML_benchmark.csv\")\n",
    "df.drop(labels = ['Unnamed: 0'], axis = 1, inplace = True)"
   ]
  },
  {
   "cell_type": "code",
   "execution_count": 3,
   "id": "8003ab57",
   "metadata": {},
   "outputs": [
    {
     "data": {
      "text/plain": [
       "480"
      ]
     },
     "execution_count": 3,
     "metadata": {},
     "output_type": "execute_result"
    }
   ],
   "source": [
    "len(df)"
   ]
  },
  {
   "cell_type": "code",
   "execution_count": 4,
   "id": "b72075c3",
   "metadata": {},
   "outputs": [
    {
     "data": {
      "text/plain": [
       "1    248\n",
       "0    232\n",
       "Name: RA, dtype: int64"
      ]
     },
     "execution_count": 4,
     "metadata": {},
     "output_type": "execute_result"
    }
   ],
   "source": [
    "df[\"RA\"].value_counts()"
   ]
  },
  {
   "cell_type": "markdown",
   "id": "1ca5c72c",
   "metadata": {},
   "source": [
    "### Classifier training"
   ]
  },
  {
   "cell_type": "code",
   "execution_count": 5,
   "id": "d46277cb",
   "metadata": {},
   "outputs": [],
   "source": [
    "X_news, news_test, y_news, y_test = train_test_split(df[\"text_clean\"], df[\"RA\"],test_size=0.15, random_state=42)"
   ]
  },
  {
   "cell_type": "code",
   "execution_count": 6,
   "id": "08008b4a",
   "metadata": {},
   "outputs": [],
   "source": [
    "news_train, news_val, y_train, y_val = train_test_split(X_news, y_news,test_size=0.2, random_state=42)"
   ]
  },
  {
   "cell_type": "code",
   "execution_count": 7,
   "id": "f6f21dbf",
   "metadata": {},
   "outputs": [
    {
     "name": "stdout",
     "output_type": "stream",
     "text": [
      "We have 326 train, 82 validation and 72 test cases.\n"
     ]
    }
   ],
   "source": [
    "print(f\"We have {len(news_train)} train, {len(news_val)} validation and {len(news_test)} test cases.\")"
   ]
  },
  {
   "cell_type": "code",
   "execution_count": 8,
   "id": "4ccf2284",
   "metadata": {},
   "outputs": [],
   "source": [
    "configurations = [('NB with Count', CountVectorizer(min_df=5, max_df=.75), MultinomialNB()),\n",
    "                 ('NB with TfIdf', TfidfVectorizer(min_df=5, max_df=.75), MultinomialNB()),\n",
    "                 ('LogReg with Count', CountVectorizer(min_df=5, max_df=.75), LogisticRegression()),\n",
    "                 ('LogReg with TfIdf', TfidfVectorizer(min_df=5, max_df=.75), LogisticRegression()),\n",
    "                 ('SVC with Count', CountVectorizer(min_df=5, max_df=.75), SVC()),\n",
    "                 ('SVC with TfIdf', TfidfVectorizer(min_df=5, max_df=.75), SVC())]"
   ]
  },
  {
   "cell_type": "code",
   "execution_count": 9,
   "id": "b8f6f4ce",
   "metadata": {},
   "outputs": [
    {
     "name": "stdout",
     "output_type": "stream",
     "text": [
      "NB with Count\n",
      "              precision    recall  f1-score   support\n",
      "\n",
      "           0       0.91      0.78      0.84        40\n",
      "           1       0.81      0.93      0.87        42\n",
      "\n",
      "    accuracy                           0.85        82\n",
      "   macro avg       0.86      0.85      0.85        82\n",
      "weighted avg       0.86      0.85      0.85        82\n",
      "\n",
      "\n",
      "\n",
      "NB with TfIdf\n",
      "              precision    recall  f1-score   support\n",
      "\n",
      "           0       0.88      0.57      0.70        40\n",
      "           1       0.70      0.93      0.80        42\n",
      "\n",
      "    accuracy                           0.76        82\n",
      "   macro avg       0.79      0.75      0.75        82\n",
      "weighted avg       0.79      0.76      0.75        82\n",
      "\n",
      "\n",
      "\n",
      "LogReg with Count\n",
      "Intel MKL WARNING: Support of Intel(R) Streaming SIMD Extensions 4.2 (Intel(R) SSE4.2) enabled only processors has been deprecated. Intel oneAPI Math Kernel Library 2025.0 will require Intel(R) Advanced Vector Extensions (Intel(R) AVX) instructions.\n",
      "              precision    recall  f1-score   support\n",
      "\n",
      "           0       0.76      0.88      0.81        40\n",
      "           1       0.86      0.74      0.79        42\n",
      "\n",
      "    accuracy                           0.80        82\n",
      "   macro avg       0.81      0.81      0.80        82\n",
      "weighted avg       0.81      0.80      0.80        82\n",
      "\n",
      "\n",
      "\n",
      "LogReg with TfIdf\n",
      "              precision    recall  f1-score   support\n",
      "\n",
      "           0       0.85      0.88      0.86        40\n",
      "           1       0.88      0.86      0.87        42\n",
      "\n",
      "    accuracy                           0.87        82\n",
      "   macro avg       0.87      0.87      0.87        82\n",
      "weighted avg       0.87      0.87      0.87        82\n",
      "\n",
      "\n",
      "\n",
      "SVC with Count\n",
      "              precision    recall  f1-score   support\n",
      "\n",
      "           0       0.87      0.82      0.85        40\n",
      "           1       0.84      0.88      0.86        42\n",
      "\n",
      "    accuracy                           0.85        82\n",
      "   macro avg       0.85      0.85      0.85        82\n",
      "weighted avg       0.85      0.85      0.85        82\n",
      "\n",
      "\n",
      "\n",
      "SVC with TfIdf\n",
      "              precision    recall  f1-score   support\n",
      "\n",
      "           0       0.83      0.88      0.85        40\n",
      "           1       0.88      0.83      0.85        42\n",
      "\n",
      "    accuracy                           0.85        82\n",
      "   macro avg       0.85      0.85      0.85        82\n",
      "weighted avg       0.85      0.85      0.85        82\n",
      "\n",
      "\n"
     ]
    }
   ],
   "source": [
    "for description, vectorizer, classifier in configurations:\n",
    "    print(description)\n",
    "    X_train = vectorizer.fit_transform(news_train)\n",
    "    X_val = vectorizer.transform(news_val)\n",
    "    classifier.fit(X_train, y_train)\n",
    "    y_pred = classifier.predict(X_val)\n",
    "    print(metrics.classification_report(y_val, y_pred))\n",
    "    print('\\n')"
   ]
  },
  {
   "cell_type": "code",
   "execution_count": 10,
   "id": "95da1978",
   "metadata": {},
   "outputs": [],
   "source": [
    "pipeline = Pipeline(steps = [('vectorizer', TfidfVectorizer()), ('classifier',LogisticRegression(max_iter=1000))])\n",
    "grid = {\n",
    "    'vectorizer__ngram_range' : [(1,1), (1,2)],\n",
    "    'vectorizer__max_df': [0.75, 1.0],\n",
    "    'vectorizer__min_df': [0, 2, 5],\n",
    "    'classifier__C':[1,2.5,5,10],\n",
    "    'classifier__solver':['lbfgs','sag','saga']\n",
    "}"
   ]
  },
  {
   "cell_type": "code",
   "execution_count": 11,
   "id": "7ee88333",
   "metadata": {},
   "outputs": [
    {
     "name": "stdout",
     "output_type": "stream",
     "text": [
      "Fitting 3 folds for each of 144 candidates, totalling 432 fits\n",
      "Intel MKL WARNING: Support of Intel(R) Streaming SIMD Extensions 4.2 (Intel(R) SSE4.2) enabled only processors has been deprecated. Intel oneAPI Math Kernel Library 2025.0 will require Intel(R) Advanced Vector Extensions (Intel(R) AVX) instructions.\n",
      "Intel MKL WARNING: Support of Intel(R) Streaming SIMD Extensions 4.2 (Intel(R) SSE4.2) enabled only processors has been deprecated. Intel oneAPI Math Kernel Library 2025.0 will require Intel(R) Advanced Vector Extensions (Intel(R) AVX) instructions.\n",
      "Intel MKL WARNING: Support of Intel(R) Streaming SIMD Extensions 4.2 (Intel(R) SSE4.2) enabled only processors has been deprecated. Intel oneAPI Math Kernel Library 2025.0 will require Intel(R) Advanced Vector Extensions (Intel(R) AVX) instructions.\n",
      "Intel MKL WARNING: Support of Intel(R) Streaming SIMD Extensions 4.2 (Intel(R) SSE4.2) enabled only processors has been deprecated. Intel oneAPI Math Kernel Library 2025.0 will require Intel(R) Advanced Vector Extensions (Intel(R) AVX) instructions.\n",
      "Intel MKL WARNING: Support of Intel(R) Streaming SIMD Extensions 4.2 (Intel(R) SSE4.2) enabled only processors has been deprecated. Intel oneAPI Math Kernel Library 2025.0 will require Intel(R) Advanced Vector Extensions (Intel(R) AVX) instructions.\n",
      "Intel MKL WARNING: Support of Intel(R) Streaming SIMD Extensions 4.2 (Intel(R) SSE4.2) enabled only processors has been deprecated. Intel oneAPI Math Kernel Library 2025.0 will require Intel(R) Advanced Vector Extensions (Intel(R) AVX) instructions.\n",
      "Intel MKL WARNING: Support of Intel(R) Streaming SIMD Extensions 4.2 (Intel(R) SSE4.2) enabled only processors has been deprecated. Intel oneAPI Math Kernel Library 2025.0 will require Intel(R) Advanced Vector Extensions (Intel(R) AVX) instructions.\n",
      "Intel MKL WARNING: Support of Intel(R) Streaming SIMD Extensions 4.2 (Intel(R) SSE4.2) enabled only processors has been deprecated. Intel oneAPI Math Kernel Library 2025.0 will require Intel(R) Advanced Vector Extensions (Intel(R) AVX) instructions.\n",
      "Using these hyperparameters {'classifier__C': 2.5, 'classifier__solver': 'saga', 'vectorizer__max_df': 1.0, 'vectorizer__min_df': 2, 'vectorizer__ngram_range': (1, 1)}, we get the best performance:\n"
     ]
    }
   ],
   "source": [
    "search = GridSearchCV(estimator=pipeline,\n",
    "                      param_grid=grid,\n",
    "                      scoring='accuracy',\n",
    "                      cv=3,\n",
    "                      n_jobs=-1,\n",
    "                      verbose=10)\n",
    "search.fit(news_train, y_train)\n",
    "print(f'Using these hyperparameters {search.best_params_}, we get the best performance:')"
   ]
  },
  {
   "cell_type": "code",
   "execution_count": 12,
   "id": "92f0a668",
   "metadata": {},
   "outputs": [],
   "source": [
    "vectorizer = TfidfVectorizer(min_df=2, max_df=1.0,ngram_range = (1,1))\n",
    "X_train = vectorizer.fit_transform(news_train)\n",
    "X_val = vectorizer.transform(news_val)"
   ]
  },
  {
   "cell_type": "code",
   "execution_count": 13,
   "id": "8cc802b6",
   "metadata": {},
   "outputs": [
    {
     "name": "stdout",
     "output_type": "stream",
     "text": [
      "              precision    recall  f1-score   support\n",
      "\n",
      "           0       0.88      0.90      0.89        40\n",
      "           1       0.90      0.88      0.89        42\n",
      "\n",
      "    accuracy                           0.89        82\n",
      "   macro avg       0.89      0.89      0.89        82\n",
      "weighted avg       0.89      0.89      0.89        82\n"
     ]
    }
   ],
   "source": [
    "lg = LogisticRegression(C=2.5,solver='saga',max_iter=1000)\n",
    "lg.fit(X_train, y_train)\n",
    "y_pred = lg.predict(X_val)\n",
    "print(metrics.classification_report(y_val, y_pred))"
   ]
  },
  {
   "cell_type": "code",
   "execution_count": 14,
   "id": "c2ff4445",
   "metadata": {},
   "outputs": [],
   "source": [
    "vectorizer = TfidfVectorizer(min_df=2, max_df=1.0,ngram_range = (1,1))\n",
    "X_train = vectorizer.fit_transform(news_train)\n",
    "X_test = vectorizer.transform(news_test)"
   ]
  },
  {
   "cell_type": "code",
   "execution_count": 15,
   "id": "fd02cd77",
   "metadata": {},
   "outputs": [
    {
     "name": "stdout",
     "output_type": "stream",
     "text": [
      "              precision    recall  f1-score   support\n",
      "\n",
      "           0       0.89      0.82      0.85        38\n",
      "           1       0.81      0.88      0.85        34\n",
      "\n",
      "    accuracy                           0.85        72\n",
      "   macro avg       0.85      0.85      0.85        72\n",
      "weighted avg       0.85      0.85      0.85        72\n"
     ]
    }
   ],
   "source": [
    "lg = LogisticRegression(C=2.5,solver='saga',max_iter=1000)\n",
    "lg.fit(X_train, y_train)\n",
    "y_pred = lg.predict(X_test)\n",
    "print(metrics.classification_report(y_test, y_pred))"
   ]
  },
  {
   "cell_type": "markdown",
   "id": "13705a3d",
   "metadata": {},
   "source": [
    "### Making predictions for the final dataset"
   ]
  },
  {
   "cell_type": "code",
   "execution_count": 16,
   "id": "e2c2d108",
   "metadata": {},
   "outputs": [],
   "source": [
    "pred = pd.read_csv(\"data_dedup.csv\", header = 0, delimiter = \",\")\n",
    "pred.drop(labels = [\"Unnamed: 0\"], axis = 1, inplace = True)"
   ]
  },
  {
   "cell_type": "code",
   "execution_count": 17,
   "id": "5b7fd9ec",
   "metadata": {},
   "outputs": [],
   "source": [
    "news_pred = pred[\"text_clean\"]"
   ]
  },
  {
   "cell_type": "code",
   "execution_count": 18,
   "id": "cad741f4",
   "metadata": {},
   "outputs": [
    {
     "data": {
      "text/plain": [
       "118608"
      ]
     },
     "execution_count": 18,
     "metadata": {},
     "output_type": "execute_result"
    }
   ],
   "source": [
    "len(news_pred)"
   ]
  },
  {
   "cell_type": "code",
   "execution_count": 19,
   "id": "a7b0ec40",
   "metadata": {},
   "outputs": [],
   "source": [
    "X_train = vectorizer.fit_transform(news_train)\n",
    "X_pred = vectorizer.transform(news_pred)"
   ]
  },
  {
   "cell_type": "code",
   "execution_count": 20,
   "id": "b48ba093",
   "metadata": {},
   "outputs": [],
   "source": [
    "lg.fit(X_train, y_train)\n",
    "y_pred = lg.predict(X_pred)"
   ]
  },
  {
   "cell_type": "code",
   "execution_count": 21,
   "id": "8d51d922",
   "metadata": {},
   "outputs": [],
   "source": [
    "pred[\"keep\"] = y_pred"
   ]
  },
  {
   "cell_type": "code",
   "execution_count": 22,
   "id": "8f873e32",
   "metadata": {},
   "outputs": [
    {
     "name": "stdout",
     "output_type": "stream",
     "text": [
      "1    59541\n",
      "0    59067\n",
      "Name: keep, dtype: int64\n"
     ]
    }
   ],
   "source": [
    "print(pred[\"keep\"].value_counts())"
   ]
  },
  {
   "cell_type": "code",
   "execution_count": 23,
   "id": "79066742",
   "metadata": {},
   "outputs": [],
   "source": [
    "pre = pred.loc[pred[\"keep\"]==1]"
   ]
  },
  {
   "cell_type": "code",
   "execution_count": 24,
   "id": "2a03fe86",
   "metadata": {},
   "outputs": [
    {
     "data": {
      "text/plain": [
       "59541"
      ]
     },
     "execution_count": 24,
     "metadata": {},
     "output_type": "execute_result"
    }
   ],
   "source": [
    "len(pre)"
   ]
  },
  {
   "cell_type": "code",
   "execution_count": 25,
   "id": "a046ccc8",
   "metadata": {},
   "outputs": [],
   "source": [
    "pre.to_csv(\"3_SML_data_final.csv\")"
   ]
  }
 ],
 "metadata": {
  "kernelspec": {
   "display_name": "Python 3 (ipykernel)",
   "language": "python",
   "name": "python3"
  },
  "language_info": {
   "codemirror_mode": {
    "name": "ipython",
    "version": 3
   },
   "file_extension": ".py",
   "mimetype": "text/x-python",
   "name": "python",
   "nbconvert_exporter": "python",
   "pygments_lexer": "ipython3",
   "version": "3.8.0"
  }
 },
 "nbformat": 4,
 "nbformat_minor": 5
}
