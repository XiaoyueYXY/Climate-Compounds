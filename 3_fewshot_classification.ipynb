{
 "cells": [
  {
   "cell_type": "code",
   "execution_count": 1,
   "id": "f4f4c2a3-aa98-4e13-80a3-0e7c75a717ef",
   "metadata": {
    "execution": {
     "iopub.execute_input": "2024-03-20T18:09:15.154859Z",
     "iopub.status.busy": "2024-03-20T18:09:15.154507Z",
     "iopub.status.idle": "2024-03-20T18:09:18.554629Z",
     "shell.execute_reply": "2024-03-20T18:09:18.554207Z",
     "shell.execute_reply.started": "2024-03-20T18:09:15.154843Z"
    }
   },
   "outputs": [
    {
     "name": "stderr",
     "output_type": "stream",
     "text": [
      "/home/xiyan/data/conda/envs/GPU/lib/python3.11/site-packages/transformers/utils/generic.py:462: UserWarning: torch.utils._pytree._register_pytree_node is deprecated. Please use torch.utils._pytree.register_pytree_node instead.\n",
      "  _torch_pytree._register_pytree_node(\n",
      "/home/xiyan/data/conda/envs/GPU/lib/python3.11/site-packages/transformers/utils/generic.py:319: UserWarning: torch.utils._pytree._register_pytree_node is deprecated. Please use torch.utils._pytree.register_pytree_node instead.\n",
      "  _torch_pytree._register_pytree_node(\n"
     ]
    }
   ],
   "source": [
    "from setfit import SetFitModel, sample_dataset\n",
    "import pandas as pd\n",
    "from datasets import load_dataset\n",
    "import numpy as np\n",
    "import torch"
   ]
  },
  {
   "cell_type": "markdown",
   "id": "b2f7f2bc-7b7d-40af-9612-1e63a9d6d81d",
   "metadata": {},
   "source": [
    "### Data preperation and model training"
   ]
  },
  {
   "cell_type": "code",
   "execution_count": 45,
   "id": "2b06a68e-6714-4dbe-a43d-afcdefa653db",
   "metadata": {
    "execution": {
     "iopub.execute_input": "2024-03-18T13:24:28.605402Z",
     "iopub.status.busy": "2024-03-18T13:24:28.604897Z",
     "iopub.status.idle": "2024-03-18T13:24:28.774968Z",
     "shell.execute_reply": "2024-03-18T13:24:28.774584Z",
     "shell.execute_reply.started": "2024-03-18T13:24:28.605387Z"
    }
   },
   "outputs": [],
   "source": [
    "dataset = pd.read_csv(\"scratch/3_SML_benchmark.csv\")"
   ]
  },
  {
   "cell_type": "code",
   "execution_count": 46,
   "id": "146dbc25-b733-4170-b52b-fdfe964da4c7",
   "metadata": {
    "execution": {
     "iopub.execute_input": "2024-03-18T13:24:30.486297Z",
     "iopub.status.busy": "2024-03-18T13:24:30.485912Z",
     "iopub.status.idle": "2024-03-18T13:24:30.500089Z",
     "shell.execute_reply": "2024-03-18T13:24:30.499698Z",
     "shell.execute_reply.started": "2024-03-18T13:24:30.486284Z"
    }
   },
   "outputs": [
    {
     "data": {
      "text/html": [
       "<div>\n",
       "<style scoped>\n",
       "    .dataframe tbody tr th:only-of-type {\n",
       "        vertical-align: middle;\n",
       "    }\n",
       "\n",
       "    .dataframe tbody tr th {\n",
       "        vertical-align: top;\n",
       "    }\n",
       "\n",
       "    .dataframe thead th {\n",
       "        text-align: right;\n",
       "    }\n",
       "</style>\n",
       "<table border=\"1\" class=\"dataframe\">\n",
       "  <thead>\n",
       "    <tr style=\"text-align: right;\">\n",
       "      <th></th>\n",
       "      <th>Unnamed: 0</th>\n",
       "      <th>index</th>\n",
       "      <th>filename</th>\n",
       "      <th>text_original</th>\n",
       "      <th>text_clean</th>\n",
       "      <th>date</th>\n",
       "      <th>year</th>\n",
       "      <th>month</th>\n",
       "      <th>outlet</th>\n",
       "      <th>country</th>\n",
       "      <th>south</th>\n",
       "      <th>RA</th>\n",
       "    </tr>\n",
       "  </thead>\n",
       "  <tbody>\n",
       "    <tr>\n",
       "      <th>475</th>\n",
       "      <td>475</td>\n",
       "      <td>101008</td>\n",
       "      <td>newsarticle/Toronto Star/Neutral &amp; Urgent 2006...</td>\n",
       "      <td>\\n   Business\\nTime to invest in foreign stude...</td>\n",
       "      <td>Business Time to invest in foreign students Da...</td>\n",
       "      <td>2022-09-10</td>\n",
       "      <td>2022</td>\n",
       "      <td>9</td>\n",
       "      <td>Toronto Star</td>\n",
       "      <td>Canada</td>\n",
       "      <td>0</td>\n",
       "      <td>0</td>\n",
       "    </tr>\n",
       "    <tr>\n",
       "      <th>476</th>\n",
       "      <td>476</td>\n",
       "      <td>100986</td>\n",
       "      <td>newsarticle/Toronto Star/Neutral &amp; Urgent 2006...</td>\n",
       "      <td>\\n   Politics\\nMeet the Greens who might take ...</td>\n",
       "      <td>Politics Meet the Greens who might take a run ...</td>\n",
       "      <td>2022-07-04</td>\n",
       "      <td>2022</td>\n",
       "      <td>7</td>\n",
       "      <td>Toronto Star</td>\n",
       "      <td>Canada</td>\n",
       "      <td>0</td>\n",
       "      <td>0</td>\n",
       "    </tr>\n",
       "    <tr>\n",
       "      <th>477</th>\n",
       "      <td>477</td>\n",
       "      <td>2962</td>\n",
       "      <td>A cautionary flag for oil development;Study ca...</td>\n",
       "      <td>\\nMarch 1, 2020 Sunday\\n\\n\\nCopyright 2020 Tor...</td>\n",
       "      <td>March 1, 2020 Sunday Copyright 2020 Toronto St...</td>\n",
       "      <td>2020-03-01</td>\n",
       "      <td>2020</td>\n",
       "      <td>3</td>\n",
       "      <td>Toronto Star</td>\n",
       "      <td>Canada</td>\n",
       "      <td>0</td>\n",
       "      <td>0</td>\n",
       "    </tr>\n",
       "    <tr>\n",
       "      <th>478</th>\n",
       "      <td>478</td>\n",
       "      <td>74551</td>\n",
       "      <td>The Toronto Star_2018-8-68.txt</td>\n",
       "      <td>\"\";\"x\"\\n\"1\";\" 82\\n\\n\\n                        ...</td>\n",
       "      <td>\"\";\"x\" \"1\";\" 82 The Toronto Star August 5, 201...</td>\n",
       "      <td>2018-08-01</td>\n",
       "      <td>2018</td>\n",
       "      <td>8</td>\n",
       "      <td>Toronto Star</td>\n",
       "      <td>Canada</td>\n",
       "      <td>0</td>\n",
       "      <td>1</td>\n",
       "    </tr>\n",
       "    <tr>\n",
       "      <th>479</th>\n",
       "      <td>479</td>\n",
       "      <td>72479</td>\n",
       "      <td>The Toronto Star_2011-7-21_39703.txt</td>\n",
       "      <td>\"\";\"x\"\\n\"1\";\"DATE: 21.7.2011\\nHEADLINE: Securi...</td>\n",
       "      <td>\"\";\"x\" \"1\";\"DATE: 21.7.2011 HEADLINE: Security...</td>\n",
       "      <td>2011-07-01</td>\n",
       "      <td>2011</td>\n",
       "      <td>7</td>\n",
       "      <td>Toronto Star</td>\n",
       "      <td>Canada</td>\n",
       "      <td>0</td>\n",
       "      <td>1</td>\n",
       "    </tr>\n",
       "  </tbody>\n",
       "</table>\n",
       "</div>"
      ],
      "text/plain": [
       "     Unnamed: 0   index                                           filename  \\\n",
       "475         475  101008  newsarticle/Toronto Star/Neutral & Urgent 2006...   \n",
       "476         476  100986  newsarticle/Toronto Star/Neutral & Urgent 2006...   \n",
       "477         477    2962  A cautionary flag for oil development;Study ca...   \n",
       "478         478   74551                     The Toronto Star_2018-8-68.txt   \n",
       "479         479   72479               The Toronto Star_2011-7-21_39703.txt   \n",
       "\n",
       "                                         text_original  \\\n",
       "475  \\n   Business\\nTime to invest in foreign stude...   \n",
       "476  \\n   Politics\\nMeet the Greens who might take ...   \n",
       "477  \\nMarch 1, 2020 Sunday\\n\\n\\nCopyright 2020 Tor...   \n",
       "478  \"\";\"x\"\\n\"1\";\" 82\\n\\n\\n                        ...   \n",
       "479  \"\";\"x\"\\n\"1\";\"DATE: 21.7.2011\\nHEADLINE: Securi...   \n",
       "\n",
       "                                            text_clean        date  year  \\\n",
       "475  Business Time to invest in foreign students Da...  2022-09-10  2022   \n",
       "476  Politics Meet the Greens who might take a run ...  2022-07-04  2022   \n",
       "477  March 1, 2020 Sunday Copyright 2020 Toronto St...  2020-03-01  2020   \n",
       "478  \"\";\"x\" \"1\";\" 82 The Toronto Star August 5, 201...  2018-08-01  2018   \n",
       "479  \"\";\"x\" \"1\";\"DATE: 21.7.2011 HEADLINE: Security...  2011-07-01  2011   \n",
       "\n",
       "     month        outlet country  south  RA  \n",
       "475      9  Toronto Star  Canada      0   0  \n",
       "476      7  Toronto Star  Canada      0   0  \n",
       "477      3  Toronto Star  Canada      0   0  \n",
       "478      8  Toronto Star  Canada      0   1  \n",
       "479      7  Toronto Star  Canada      0   1  "
      ]
     },
     "execution_count": 46,
     "metadata": {},
     "output_type": "execute_result"
    }
   ],
   "source": [
    "dataset.tail()"
   ]
  },
  {
   "cell_type": "code",
   "execution_count": 47,
   "id": "7ad8fdb0-cc28-44de-bc4f-4ea455317c38",
   "metadata": {
    "execution": {
     "iopub.execute_input": "2024-03-18T13:24:32.698294Z",
     "iopub.status.busy": "2024-03-18T13:24:32.697947Z",
     "iopub.status.idle": "2024-03-18T13:24:32.701690Z",
     "shell.execute_reply": "2024-03-18T13:24:32.701331Z",
     "shell.execute_reply.started": "2024-03-18T13:24:32.698280Z"
    }
   },
   "outputs": [
    {
     "name": "stderr",
     "output_type": "stream",
     "text": [
      "/sctmp/xiyan/ipykernel_2848872/675981800.py:2: SettingWithCopyWarning: \n",
      "A value is trying to be set on a copy of a slice from a DataFrame\n",
      "\n",
      "See the caveats in the documentation: https://pandas.pydata.org/pandas-docs/stable/user_guide/indexing.html#returning-a-view-versus-a-copy\n",
      "  df.rename(columns={'RA': 'label','text_clean':'text'}, inplace=True)\n"
     ]
    }
   ],
   "source": [
    "df = dataset[[\"text_clean\", \"RA\"]]\n",
    "df.rename(columns={'RA': 'label','text_clean':'text'}, inplace=True)"
   ]
  },
  {
   "cell_type": "code",
   "execution_count": 63,
   "id": "9308be27-1b08-4d17-a57f-5da3075814bc",
   "metadata": {
    "execution": {
     "iopub.execute_input": "2024-03-18T13:58:41.823273Z",
     "iopub.status.busy": "2024-03-18T13:58:41.822910Z",
     "iopub.status.idle": "2024-03-18T13:58:41.828375Z",
     "shell.execute_reply": "2024-03-18T13:58:41.828059Z",
     "shell.execute_reply.started": "2024-03-18T13:58:41.823258Z"
    }
   },
   "outputs": [],
   "source": [
    "#train = df.sample(frac = 0.7)\n",
    "train = df.groupby('label').sample(n=150)\n",
    "df2 = df.drop(train.index)\n",
    "validation = df2.sample(frac = 0.5)\n",
    "test = df2.drop(validation.index)"
   ]
  },
  {
   "cell_type": "code",
   "execution_count": 64,
   "id": "eca629dc-dd79-4344-b842-7c6748522f4c",
   "metadata": {
    "execution": {
     "iopub.execute_input": "2024-03-18T13:58:43.621757Z",
     "iopub.status.busy": "2024-03-18T13:58:43.621613Z",
     "iopub.status.idle": "2024-03-18T13:58:43.668029Z",
     "shell.execute_reply": "2024-03-18T13:58:43.667684Z",
     "shell.execute_reply.started": "2024-03-18T13:58:43.621746Z"
    }
   },
   "outputs": [],
   "source": [
    "train.to_csv(\"scratch/train.csv\")\n",
    "validation.to_csv(\"scratch/validation.csv\")\n",
    "test.to_csv(\"scratch/test.csv\")"
   ]
  },
  {
   "cell_type": "code",
   "execution_count": 65,
   "id": "5e5306ab-6f1e-437d-bf74-0cc7056d23e3",
   "metadata": {
    "execution": {
     "iopub.execute_input": "2024-03-18T13:58:46.002261Z",
     "iopub.status.busy": "2024-03-18T13:58:46.002022Z",
     "iopub.status.idle": "2024-03-18T13:58:46.004412Z",
     "shell.execute_reply": "2024-03-18T13:58:46.004115Z",
     "shell.execute_reply.started": "2024-03-18T13:58:46.002250Z"
    }
   },
   "outputs": [
    {
     "name": "stdout",
     "output_type": "stream",
     "text": [
      "300 90 90\n"
     ]
    }
   ],
   "source": [
    "print(len(train),len(validation),len(test))"
   ]
  },
  {
   "cell_type": "code",
   "execution_count": 2,
   "id": "f4f91899-d2cc-45ee-ad61-5531ab28c14a",
   "metadata": {
    "execution": {
     "iopub.execute_input": "2024-03-20T18:09:24.146238Z",
     "iopub.status.busy": "2024-03-20T18:09:24.145994Z",
     "iopub.status.idle": "2024-03-20T18:09:24.596570Z",
     "shell.execute_reply": "2024-03-20T18:09:24.596209Z",
     "shell.execute_reply.started": "2024-03-20T18:09:24.146224Z"
    }
   },
   "outputs": [],
   "source": [
    "dataset = load_dataset(\"csv\", data_files={'train':'scratch/train.csv','validation':'scratch/validation.csv','test': 'scratch/test.csv'})"
   ]
  },
  {
   "cell_type": "code",
   "execution_count": 3,
   "id": "3f4fff83-3224-496b-b5d6-1fd356efdf56",
   "metadata": {
    "execution": {
     "iopub.execute_input": "2024-03-20T18:09:24.953932Z",
     "iopub.status.busy": "2024-03-20T18:09:24.953688Z",
     "iopub.status.idle": "2024-03-20T18:09:24.956575Z",
     "shell.execute_reply": "2024-03-20T18:09:24.956282Z",
     "shell.execute_reply.started": "2024-03-20T18:09:24.953918Z"
    }
   },
   "outputs": [
    {
     "data": {
      "text/plain": [
       "DatasetDict({\n",
       "    train: Dataset({\n",
       "        features: ['Unnamed: 0', 'text', 'label'],\n",
       "        num_rows: 300\n",
       "    })\n",
       "    validation: Dataset({\n",
       "        features: ['Unnamed: 0', 'text', 'label'],\n",
       "        num_rows: 90\n",
       "    })\n",
       "    test: Dataset({\n",
       "        features: ['Unnamed: 0', 'text', 'label'],\n",
       "        num_rows: 90\n",
       "    })\n",
       "})"
      ]
     },
     "execution_count": 3,
     "metadata": {},
     "output_type": "execute_result"
    }
   ],
   "source": [
    "dataset"
   ]
  },
  {
   "cell_type": "code",
   "execution_count": 4,
   "id": "af54eb5d-0b7f-4362-ba1f-9924e59a8b8f",
   "metadata": {
    "execution": {
     "iopub.execute_input": "2024-03-20T18:09:31.321994Z",
     "iopub.status.busy": "2024-03-20T18:09:31.321730Z",
     "iopub.status.idle": "2024-03-20T18:09:31.324186Z",
     "shell.execute_reply": "2024-03-20T18:09:31.323852Z",
     "shell.execute_reply.started": "2024-03-20T18:09:31.321979Z"
    }
   },
   "outputs": [],
   "source": [
    "#train_dataset = sample_dataset(dataset[\"train\"], label_column=\"label\", num_samples=50)\n",
    "#train_dataset = dataset[\"train\"]\n",
    "eval_dataset = dataset[\"validation\"]\n",
    "test_dataset = dataset[\"test\"]"
   ]
  },
  {
   "cell_type": "code",
   "execution_count": 8,
   "id": "eaeabeee-d205-4da6-b371-63eab9929168",
   "metadata": {
    "execution": {
     "iopub.execute_input": "2024-03-20T18:10:18.674877Z",
     "iopub.status.busy": "2024-03-20T18:10:18.674482Z",
     "iopub.status.idle": "2024-03-20T18:10:18.678051Z",
     "shell.execute_reply": "2024-03-20T18:10:18.677581Z",
     "shell.execute_reply.started": "2024-03-20T18:10:18.674863Z"
    }
   },
   "outputs": [],
   "source": [
    "from sklearn.metrics import accuracy_score, precision_score, recall_score, f1_score\n",
    "\n",
    "# Define custom function for computing metrics\n",
    "def compute_metrics(y_pred, y_test):\n",
    "    accuracy = accuracy_score(y_test, y_pred)\n",
    "    precision = precision_score(y_test, y_pred, average='macro')\n",
    "    recall = recall_score(y_test, y_pred, average='macro')\n",
    "    f1 = f1_score(y_test, y_pred, average='macro')\n",
    "    return {\n",
    "        'accuracy': accuracy,\n",
    "        'precision': precision,\n",
    "        'recall': recall,\n",
    "        'f1': f1\n",
    "    }"
   ]
  },
  {
   "cell_type": "code",
   "execution_count": 9,
   "id": "7cd5a139-e877-4e32-8b93-3733d48ad70e",
   "metadata": {
    "execution": {
     "iopub.execute_input": "2024-03-20T18:10:21.580810Z",
     "iopub.status.busy": "2024-03-20T18:10:21.580550Z",
     "iopub.status.idle": "2024-03-20T18:10:21.583007Z",
     "shell.execute_reply": "2024-03-20T18:10:21.582633Z",
     "shell.execute_reply.started": "2024-03-20T18:10:21.580797Z"
    }
   },
   "outputs": [],
   "source": [
    "torch.cuda.empty_cache()"
   ]
  },
  {
   "cell_type": "code",
   "execution_count": 10,
   "id": "28068c7b-ba09-4a38-8cbb-38eeb1f79415",
   "metadata": {
    "execution": {
     "iopub.execute_input": "2024-03-20T18:10:22.434709Z",
     "iopub.status.busy": "2024-03-20T18:10:22.434452Z",
     "iopub.status.idle": "2024-03-20T18:10:22.437904Z",
     "shell.execute_reply": "2024-03-20T18:10:22.437565Z",
     "shell.execute_reply.started": "2024-03-20T18:10:22.434696Z"
    }
   },
   "outputs": [],
   "source": [
    "from setfit import TrainingArguments\n",
    "\n",
    "args = TrainingArguments(\n",
    "    batch_size=16,\n",
    "    num_epochs=1,\n",
    "    max_length=512,\n",
    ")"
   ]
  },
  {
   "cell_type": "code",
   "execution_count": 10,
   "id": "5bf5c8b9-a0c4-4768-873b-85b4d7dd39a5",
   "metadata": {
    "execution": {
     "iopub.execute_input": "2024-03-19T14:36:55.917049Z",
     "iopub.status.busy": "2024-03-19T14:36:55.916649Z",
     "iopub.status.idle": "2024-03-19T15:12:57.863143Z",
     "shell.execute_reply": "2024-03-19T15:12:57.862623Z",
     "shell.execute_reply.started": "2024-03-19T14:36:55.917035Z"
    }
   },
   "outputs": [
    {
     "name": "stdout",
     "output_type": "stream",
     "text": [
      "5\n"
     ]
    },
    {
     "name": "stderr",
     "output_type": "stream",
     "text": [
      "model_head.pkl not found on HuggingFace Hub, initialising classification head with random weights. You should TRAIN this model on a downstream task to use it for predictions and inference.\n"
     ]
    },
    {
     "data": {
      "application/vnd.jupyter.widget-view+json": {
       "model_id": "eecb98b1d5304d7886cf252a33e634ae",
       "version_major": 2,
       "version_minor": 0
      },
      "text/plain": [
       "Map:   0%|          | 0/10 [00:00<?, ? examples/s]"
      ]
     },
     "metadata": {},
     "output_type": "display_data"
    },
    {
     "name": "stderr",
     "output_type": "stream",
     "text": [
      "***** Running training *****\n",
      "  Num unique pairs = 60\n",
      "  Batch size = 16\n",
      "  Num epochs = 1\n",
      "  Total optimization steps = 4\n"
     ]
    },
    {
     "data": {
      "text/html": [
       "\n",
       "    <div>\n",
       "      \n",
       "      <progress value='4' max='4' style='width:300px; height:20px; vertical-align: middle;'></progress>\n",
       "      [4/4 00:00, Epoch 1/0]\n",
       "    </div>\n",
       "    <table border=\"1\" class=\"dataframe\">\n",
       "  <thead>\n",
       " <tr style=\"text-align: left;\">\n",
       "      <th>Step</th>\n",
       "      <th>Training Loss</th>\n",
       "    </tr>\n",
       "  </thead>\n",
       "  <tbody>\n",
       "  </tbody>\n",
       "</table><p>"
      ],
      "text/plain": [
       "<IPython.core.display.HTML object>"
      ]
     },
     "metadata": {},
     "output_type": "display_data"
    },
    {
     "name": "stderr",
     "output_type": "stream",
     "text": [
      "***** Running evaluation *****\n"
     ]
    },
    {
     "name": "stdout",
     "output_type": "stream",
     "text": [
      "{'accuracy': 0.6777777777777778, 'precision': 0.6945187165775402, 'recall': 0.6463046757164403, 'f1': 0.6404463424714149}\n",
      "10\n"
     ]
    },
    {
     "name": "stderr",
     "output_type": "stream",
     "text": [
      "model_head.pkl not found on HuggingFace Hub, initialising classification head with random weights. You should TRAIN this model on a downstream task to use it for predictions and inference.\n"
     ]
    },
    {
     "data": {
      "application/vnd.jupyter.widget-view+json": {
       "model_id": "fb25611090f14de3ae3a24729218e88b",
       "version_major": 2,
       "version_minor": 0
      },
      "text/plain": [
       "Map:   0%|          | 0/20 [00:00<?, ? examples/s]"
      ]
     },
     "metadata": {},
     "output_type": "display_data"
    },
    {
     "name": "stderr",
     "output_type": "stream",
     "text": [
      "***** Running training *****\n",
      "  Num unique pairs = 220\n",
      "  Batch size = 16\n",
      "  Num epochs = 1\n",
      "  Total optimization steps = 14\n"
     ]
    },
    {
     "data": {
      "text/html": [
       "\n",
       "    <div>\n",
       "      \n",
       "      <progress value='14' max='14' style='width:300px; height:20px; vertical-align: middle;'></progress>\n",
       "      [14/14 00:03, Epoch 1/0]\n",
       "    </div>\n",
       "    <table border=\"1\" class=\"dataframe\">\n",
       "  <thead>\n",
       " <tr style=\"text-align: left;\">\n",
       "      <th>Step</th>\n",
       "      <th>Training Loss</th>\n",
       "    </tr>\n",
       "  </thead>\n",
       "  <tbody>\n",
       "  </tbody>\n",
       "</table><p>"
      ],
      "text/plain": [
       "<IPython.core.display.HTML object>"
      ]
     },
     "metadata": {},
     "output_type": "display_data"
    },
    {
     "name": "stderr",
     "output_type": "stream",
     "text": [
      "***** Running evaluation *****\n"
     ]
    },
    {
     "name": "stdout",
     "output_type": "stream",
     "text": [
      "{'accuracy': 0.6777777777777778, 'precision': 0.6712962962962963, 'recall': 0.6674208144796381, 'f1': 0.6685714285714286}\n",
      "25\n"
     ]
    },
    {
     "name": "stderr",
     "output_type": "stream",
     "text": [
      "model_head.pkl not found on HuggingFace Hub, initialising classification head with random weights. You should TRAIN this model on a downstream task to use it for predictions and inference.\n"
     ]
    },
    {
     "data": {
      "application/vnd.jupyter.widget-view+json": {
       "model_id": "af1955c3a6354fa5ab769f8dba74ef2f",
       "version_major": 2,
       "version_minor": 0
      },
      "text/plain": [
       "Map:   0%|          | 0/50 [00:00<?, ? examples/s]"
      ]
     },
     "metadata": {},
     "output_type": "display_data"
    },
    {
     "name": "stderr",
     "output_type": "stream",
     "text": [
      "***** Running training *****\n",
      "  Num unique pairs = 1300\n",
      "  Batch size = 16\n",
      "  Num epochs = 1\n",
      "  Total optimization steps = 82\n"
     ]
    },
    {
     "data": {
      "text/html": [
       "\n",
       "    <div>\n",
       "      \n",
       "      <progress value='82' max='82' style='width:300px; height:20px; vertical-align: middle;'></progress>\n",
       "      [82/82 00:24, Epoch 1/0]\n",
       "    </div>\n",
       "    <table border=\"1\" class=\"dataframe\">\n",
       "  <thead>\n",
       " <tr style=\"text-align: left;\">\n",
       "      <th>Step</th>\n",
       "      <th>Training Loss</th>\n",
       "    </tr>\n",
       "  </thead>\n",
       "  <tbody>\n",
       "  </tbody>\n",
       "</table><p>"
      ],
      "text/plain": [
       "<IPython.core.display.HTML object>"
      ]
     },
     "metadata": {},
     "output_type": "display_data"
    },
    {
     "name": "stderr",
     "output_type": "stream",
     "text": [
      "***** Running evaluation *****\n"
     ]
    },
    {
     "name": "stdout",
     "output_type": "stream",
     "text": [
      "{'accuracy': 0.7888888888888889, 'precision': 0.7899159663865546, 'recall': 0.777526395173454, 'f1': 0.7810779669696581}\n",
      "50\n"
     ]
    },
    {
     "name": "stderr",
     "output_type": "stream",
     "text": [
      "model_head.pkl not found on HuggingFace Hub, initialising classification head with random weights. You should TRAIN this model on a downstream task to use it for predictions and inference.\n"
     ]
    },
    {
     "data": {
      "application/vnd.jupyter.widget-view+json": {
       "model_id": "d8a767d5f60f412fb1d4320bb93f7b42",
       "version_major": 2,
       "version_minor": 0
      },
      "text/plain": [
       "Map:   0%|          | 0/100 [00:00<?, ? examples/s]"
      ]
     },
     "metadata": {},
     "output_type": "display_data"
    },
    {
     "name": "stderr",
     "output_type": "stream",
     "text": [
      "***** Running training *****\n",
      "  Num unique pairs = 5100\n",
      "  Batch size = 16\n",
      "  Num epochs = 1\n",
      "  Total optimization steps = 319\n"
     ]
    },
    {
     "data": {
      "text/html": [
       "\n",
       "    <div>\n",
       "      \n",
       "      <progress value='319' max='319' style='width:300px; height:20px; vertical-align: middle;'></progress>\n",
       "      [319/319 01:34, Epoch 1/0]\n",
       "    </div>\n",
       "    <table border=\"1\" class=\"dataframe\">\n",
       "  <thead>\n",
       " <tr style=\"text-align: left;\">\n",
       "      <th>Step</th>\n",
       "      <th>Training Loss</th>\n",
       "    </tr>\n",
       "  </thead>\n",
       "  <tbody>\n",
       "  </tbody>\n",
       "</table><p>"
      ],
      "text/plain": [
       "<IPython.core.display.HTML object>"
      ]
     },
     "metadata": {},
     "output_type": "display_data"
    },
    {
     "name": "stderr",
     "output_type": "stream",
     "text": [
      "***** Running evaluation *****\n"
     ]
    },
    {
     "name": "stdout",
     "output_type": "stream",
     "text": [
      "{'accuracy': 0.7555555555555555, 'precision': 0.7599781301257518, 'recall': 0.7390648567119156, 'f1': 0.7428571428571429}\n",
      "75\n"
     ]
    },
    {
     "name": "stderr",
     "output_type": "stream",
     "text": [
      "model_head.pkl not found on HuggingFace Hub, initialising classification head with random weights. You should TRAIN this model on a downstream task to use it for predictions and inference.\n"
     ]
    },
    {
     "data": {
      "application/vnd.jupyter.widget-view+json": {
       "model_id": "42aaa45f140f483fa5a46c26febfd584",
       "version_major": 2,
       "version_minor": 0
      },
      "text/plain": [
       "Map:   0%|          | 0/150 [00:00<?, ? examples/s]"
      ]
     },
     "metadata": {},
     "output_type": "display_data"
    },
    {
     "name": "stderr",
     "output_type": "stream",
     "text": [
      "***** Running training *****\n",
      "  Num unique pairs = 11400\n",
      "  Batch size = 16\n",
      "  Num epochs = 1\n",
      "  Total optimization steps = 713\n"
     ]
    },
    {
     "data": {
      "text/html": [
       "\n",
       "    <div>\n",
       "      \n",
       "      <progress value='713' max='713' style='width:300px; height:20px; vertical-align: middle;'></progress>\n",
       "      [713/713 03:32, Epoch 1/0]\n",
       "    </div>\n",
       "    <table border=\"1\" class=\"dataframe\">\n",
       "  <thead>\n",
       " <tr style=\"text-align: left;\">\n",
       "      <th>Step</th>\n",
       "      <th>Training Loss</th>\n",
       "    </tr>\n",
       "  </thead>\n",
       "  <tbody>\n",
       "  </tbody>\n",
       "</table><p>"
      ],
      "text/plain": [
       "<IPython.core.display.HTML object>"
      ]
     },
     "metadata": {},
     "output_type": "display_data"
    },
    {
     "name": "stderr",
     "output_type": "stream",
     "text": [
      "***** Running evaluation *****\n"
     ]
    },
    {
     "name": "stdout",
     "output_type": "stream",
     "text": [
      "{'accuracy': 0.7888888888888889, 'precision': 0.7941810344827587, 'recall': 0.7745098039215685, 'f1': 0.7790412197958392}\n",
      "100\n"
     ]
    },
    {
     "name": "stderr",
     "output_type": "stream",
     "text": [
      "model_head.pkl not found on HuggingFace Hub, initialising classification head with random weights. You should TRAIN this model on a downstream task to use it for predictions and inference.\n"
     ]
    },
    {
     "data": {
      "application/vnd.jupyter.widget-view+json": {
       "model_id": "2e9e73f7c03b4a76a525620cd80ee232",
       "version_major": 2,
       "version_minor": 0
      },
      "text/plain": [
       "Map:   0%|          | 0/200 [00:00<?, ? examples/s]"
      ]
     },
     "metadata": {},
     "output_type": "display_data"
    },
    {
     "name": "stderr",
     "output_type": "stream",
     "text": [
      "***** Running training *****\n",
      "  Num unique pairs = 20200\n",
      "  Batch size = 16\n",
      "  Num epochs = 1\n",
      "  Total optimization steps = 1263\n"
     ]
    },
    {
     "data": {
      "text/html": [
       "\n",
       "    <div>\n",
       "      \n",
       "      <progress value='1263' max='1263' style='width:300px; height:20px; vertical-align: middle;'></progress>\n",
       "      [1263/1263 06:16, Epoch 1/0]\n",
       "    </div>\n",
       "    <table border=\"1\" class=\"dataframe\">\n",
       "  <thead>\n",
       " <tr style=\"text-align: left;\">\n",
       "      <th>Step</th>\n",
       "      <th>Training Loss</th>\n",
       "    </tr>\n",
       "  </thead>\n",
       "  <tbody>\n",
       "  </tbody>\n",
       "</table><p>"
      ],
      "text/plain": [
       "<IPython.core.display.HTML object>"
      ]
     },
     "metadata": {},
     "output_type": "display_data"
    },
    {
     "name": "stderr",
     "output_type": "stream",
     "text": [
      "***** Running evaluation *****\n"
     ]
    },
    {
     "name": "stdout",
     "output_type": "stream",
     "text": [
      "{'accuracy': 0.8555555555555555, 'precision': 0.8984375, 'recall': 0.8333333333333333, 'f1': 0.8434782608695652}\n",
      "125\n"
     ]
    },
    {
     "name": "stderr",
     "output_type": "stream",
     "text": [
      "model_head.pkl not found on HuggingFace Hub, initialising classification head with random weights. You should TRAIN this model on a downstream task to use it for predictions and inference.\n"
     ]
    },
    {
     "data": {
      "application/vnd.jupyter.widget-view+json": {
       "model_id": "50168d2e6f2f43d2b5dee24efa095fa5",
       "version_major": 2,
       "version_minor": 0
      },
      "text/plain": [
       "Map:   0%|          | 0/250 [00:00<?, ? examples/s]"
      ]
     },
     "metadata": {},
     "output_type": "display_data"
    },
    {
     "name": "stderr",
     "output_type": "stream",
     "text": [
      "***** Running training *****\n",
      "  Num unique pairs = 31500\n",
      "  Batch size = 16\n",
      "  Num epochs = 1\n",
      "  Total optimization steps = 1969\n"
     ]
    },
    {
     "data": {
      "text/html": [
       "\n",
       "    <div>\n",
       "      \n",
       "      <progress value='1969' max='1969' style='width:300px; height:20px; vertical-align: middle;'></progress>\n",
       "      [1969/1969 09:47, Epoch 1/0]\n",
       "    </div>\n",
       "    <table border=\"1\" class=\"dataframe\">\n",
       "  <thead>\n",
       " <tr style=\"text-align: left;\">\n",
       "      <th>Step</th>\n",
       "      <th>Training Loss</th>\n",
       "    </tr>\n",
       "  </thead>\n",
       "  <tbody>\n",
       "  </tbody>\n",
       "</table><p>"
      ],
      "text/plain": [
       "<IPython.core.display.HTML object>"
      ]
     },
     "metadata": {},
     "output_type": "display_data"
    },
    {
     "name": "stderr",
     "output_type": "stream",
     "text": [
      "***** Running evaluation *****\n"
     ]
    },
    {
     "name": "stdout",
     "output_type": "stream",
     "text": [
      "{'accuracy': 0.8555555555555555, 'precision': 0.875, 'recall': 0.8393665158371041, 'f1': 0.847238542890717}\n",
      "150\n"
     ]
    },
    {
     "name": "stderr",
     "output_type": "stream",
     "text": [
      "model_head.pkl not found on HuggingFace Hub, initialising classification head with random weights. You should TRAIN this model on a downstream task to use it for predictions and inference.\n"
     ]
    },
    {
     "data": {
      "application/vnd.jupyter.widget-view+json": {
       "model_id": "d9834d2e8ba642aaade696b18530cec7",
       "version_major": 2,
       "version_minor": 0
      },
      "text/plain": [
       "Map:   0%|          | 0/300 [00:00<?, ? examples/s]"
      ]
     },
     "metadata": {},
     "output_type": "display_data"
    },
    {
     "name": "stderr",
     "output_type": "stream",
     "text": [
      "***** Running training *****\n",
      "  Num unique pairs = 45300\n",
      "  Batch size = 16\n",
      "  Num epochs = 1\n",
      "  Total optimization steps = 2832\n"
     ]
    },
    {
     "data": {
      "text/html": [
       "\n",
       "    <div>\n",
       "      \n",
       "      <progress value='2832' max='2832' style='width:300px; height:20px; vertical-align: middle;'></progress>\n",
       "      [2832/2832 14:05, Epoch 1/0]\n",
       "    </div>\n",
       "    <table border=\"1\" class=\"dataframe\">\n",
       "  <thead>\n",
       " <tr style=\"text-align: left;\">\n",
       "      <th>Step</th>\n",
       "      <th>Training Loss</th>\n",
       "    </tr>\n",
       "  </thead>\n",
       "  <tbody>\n",
       "  </tbody>\n",
       "</table><p>"
      ],
      "text/plain": [
       "<IPython.core.display.HTML object>"
      ]
     },
     "metadata": {},
     "output_type": "display_data"
    },
    {
     "name": "stderr",
     "output_type": "stream",
     "text": [
      "***** Running evaluation *****\n"
     ]
    },
    {
     "name": "stdout",
     "output_type": "stream",
     "text": [
      "{'accuracy': 0.8222222222222222, 'precision': 0.8337889557135046, 'recall': 0.8069381598793364, 'f1': 0.812987012987013}\n"
     ]
    }
   ],
   "source": [
    "from setfit import Trainer\n",
    "\n",
    "for i in [5, 10, 25, 50, 75, 100, 125, 150]:\n",
    "    print(i)\n",
    "    model = SetFitModel.from_pretrained(\"BAAI/bge-small-en-v1.5\") #original retrained model need to be loaded for each round\n",
    "    train_dataset = sample_dataset(dataset[\"train\"], label_column=\"label\", num_samples=i)\n",
    "    trainer = Trainer(\n",
    "        model=model,\n",
    "        args=args,\n",
    "        train_dataset=train_dataset,\n",
    "        metric=compute_metrics,\n",
    "    )\n",
    "    trainer.train()\n",
    "    metrics = trainer.evaluate(eval_dataset)\n",
    "    print(metrics)"
   ]
  },
  {
   "cell_type": "code",
   "execution_count": 11,
   "id": "1bfc851c-8d8e-4364-83f7-cd0e1cf2e2a0",
   "metadata": {
    "execution": {
     "iopub.execute_input": "2024-03-20T18:10:53.274233Z",
     "iopub.status.busy": "2024-03-20T18:10:53.273669Z",
     "iopub.status.idle": "2024-03-20T18:17:13.628449Z",
     "shell.execute_reply": "2024-03-20T18:17:13.627910Z",
     "shell.execute_reply.started": "2024-03-20T18:10:53.274219Z"
    },
    "scrolled": true
   },
   "outputs": [
    {
     "name": "stderr",
     "output_type": "stream",
     "text": [
      "/home/xiyan/data/conda/envs/GPU/lib/python3.11/site-packages/transformers/utils/generic.py:319: UserWarning: torch.utils._pytree._register_pytree_node is deprecated. Please use torch.utils._pytree.register_pytree_node instead.\n",
      "  _torch_pytree._register_pytree_node(\n",
      "model_head.pkl not found on HuggingFace Hub, initialising classification head with random weights. You should TRAIN this model on a downstream task to use it for predictions and inference.\n"
     ]
    },
    {
     "data": {
      "application/vnd.jupyter.widget-view+json": {
       "model_id": "c96f643748cc4c389b4677d1e57f472e",
       "version_major": 2,
       "version_minor": 0
      },
      "text/plain": [
       "Map:   0%|          | 0/200 [00:00<?, ? examples/s]"
      ]
     },
     "metadata": {},
     "output_type": "display_data"
    },
    {
     "name": "stderr",
     "output_type": "stream",
     "text": [
      "***** Running training *****\n",
      "  Num unique pairs = 20200\n",
      "  Batch size = 16\n",
      "  Num epochs = 1\n",
      "  Total optimization steps = 1263\n"
     ]
    },
    {
     "data": {
      "text/html": [
       "\n",
       "    <div>\n",
       "      \n",
       "      <progress value='1263' max='1263' style='width:300px; height:20px; vertical-align: middle;'></progress>\n",
       "      [1263/1263 06:16, Epoch 1/0]\n",
       "    </div>\n",
       "    <table border=\"1\" class=\"dataframe\">\n",
       "  <thead>\n",
       " <tr style=\"text-align: left;\">\n",
       "      <th>Step</th>\n",
       "      <th>Training Loss</th>\n",
       "    </tr>\n",
       "  </thead>\n",
       "  <tbody>\n",
       "  </tbody>\n",
       "</table><p>"
      ],
      "text/plain": [
       "<IPython.core.display.HTML object>"
      ]
     },
     "metadata": {},
     "output_type": "display_data"
    },
    {
     "name": "stderr",
     "output_type": "stream",
     "text": [
      "***** Running evaluation *****\n"
     ]
    },
    {
     "name": "stdout",
     "output_type": "stream",
     "text": [
      "{'accuracy': 0.8555555555555555, 'precision': 0.8984375, 'recall': 0.8333333333333333, 'f1': 0.8434782608695652}\n"
     ]
    }
   ],
   "source": [
    "#recheck 100 sample and 150 sample again to see if the results above is subject to chance\n",
    "from setfit import Trainer\n",
    "\n",
    "model = SetFitModel.from_pretrained(\"BAAI/bge-small-en-v1.5\")\n",
    "train_dataset = sample_dataset(dataset[\"train\"], label_column=\"label\", num_samples=100)\n",
    "\n",
    "trainer = Trainer(\n",
    "    model=model,\n",
    "    args=args,\n",
    "    train_dataset=train_dataset,\n",
    "    metric=compute_metrics,\n",
    ")\n",
    "trainer.train()\n",
    "metrics = trainer.evaluate(eval_dataset)\n",
    "print(metrics)"
   ]
  },
  {
   "cell_type": "code",
   "execution_count": 10,
   "id": "c83c314f-b86e-4f0b-9b44-7f9c69c41c0a",
   "metadata": {
    "execution": {
     "iopub.execute_input": "2024-03-19T16:17:26.006072Z",
     "iopub.status.busy": "2024-03-19T16:17:26.005630Z",
     "iopub.status.idle": "2024-03-19T16:31:36.168892Z",
     "shell.execute_reply": "2024-03-19T16:31:36.168146Z",
     "shell.execute_reply.started": "2024-03-19T16:17:26.006037Z"
    }
   },
   "outputs": [
    {
     "name": "stderr",
     "output_type": "stream",
     "text": [
      "model_head.pkl not found on HuggingFace Hub, initialising classification head with random weights. You should TRAIN this model on a downstream task to use it for predictions and inference.\n"
     ]
    },
    {
     "data": {
      "application/vnd.jupyter.widget-view+json": {
       "model_id": "791909e8c2d1472998b2c1de9ad0dd58",
       "version_major": 2,
       "version_minor": 0
      },
      "text/plain": [
       "Map:   0%|          | 0/300 [00:00<?, ? examples/s]"
      ]
     },
     "metadata": {},
     "output_type": "display_data"
    },
    {
     "name": "stderr",
     "output_type": "stream",
     "text": [
      "***** Running training *****\n",
      "  Num unique pairs = 45300\n",
      "  Batch size = 16\n",
      "  Num epochs = 1\n",
      "  Total optimization steps = 2832\n"
     ]
    },
    {
     "data": {
      "text/html": [
       "\n",
       "    <div>\n",
       "      \n",
       "      <progress value='2832' max='2832' style='width:300px; height:20px; vertical-align: middle;'></progress>\n",
       "      [2832/2832 14:07, Epoch 1/0]\n",
       "    </div>\n",
       "    <table border=\"1\" class=\"dataframe\">\n",
       "  <thead>\n",
       " <tr style=\"text-align: left;\">\n",
       "      <th>Step</th>\n",
       "      <th>Training Loss</th>\n",
       "    </tr>\n",
       "  </thead>\n",
       "  <tbody>\n",
       "  </tbody>\n",
       "</table><p>"
      ],
      "text/plain": [
       "<IPython.core.display.HTML object>"
      ]
     },
     "metadata": {},
     "output_type": "display_data"
    },
    {
     "name": "stderr",
     "output_type": "stream",
     "text": [
      "***** Running evaluation *****\n"
     ]
    },
    {
     "name": "stdout",
     "output_type": "stream",
     "text": [
      "{'accuracy': 0.8222222222222222, 'precision': 0.8337889557135046, 'recall': 0.8069381598793364, 'f1': 0.812987012987013}\n"
     ]
    }
   ],
   "source": [
    "from setfit import Trainer\n",
    "\n",
    "model = SetFitModel.from_pretrained(\"BAAI/bge-small-en-v1.5\")\n",
    "train_dataset = sample_dataset(dataset[\"train\"], label_column=\"label\", num_samples=150)\n",
    "\n",
    "trainer = Trainer(\n",
    "    model=model,\n",
    "    args=args,\n",
    "    train_dataset=train_dataset,\n",
    "    metric=compute_metrics,\n",
    ")\n",
    "trainer.train()\n",
    "metrics = trainer.evaluate(eval_dataset)\n",
    "print(metrics)"
   ]
  },
  {
   "cell_type": "markdown",
   "id": "5d658f0c-caa9-459d-9886-f1413a114b40",
   "metadata": {},
   "source": [
    "**As N=100 sample works quite well and there's no huge improvements with introducing more samples, use N=100 sample for fine-tuning**"
   ]
  },
  {
   "cell_type": "markdown",
   "id": "fbe2cc61-a68f-46dd-a44e-201cc1cd0ba6",
   "metadata": {},
   "source": [
    "### Hyperparameter Optimization"
   ]
  },
  {
   "cell_type": "code",
   "execution_count": 5,
   "id": "52ad86ea-c937-4312-8c0b-7d637bd4c748",
   "metadata": {
    "execution": {
     "iopub.execute_input": "2024-03-20T18:09:49.754147Z",
     "iopub.status.busy": "2024-03-20T18:09:49.753907Z",
     "iopub.status.idle": "2024-03-20T18:09:49.757069Z",
     "shell.execute_reply": "2024-03-20T18:09:49.756692Z",
     "shell.execute_reply.started": "2024-03-20T18:09:49.754134Z"
    }
   },
   "outputs": [],
   "source": [
    "from setfit import SetFitModel\n",
    "from typing import Dict, Any\n",
    "\n",
    "def model_init(params: Dict[str, Any]) -> SetFitModel:\n",
    "    params = params or {}\n",
    "    max_iter = params.get(\"max_iter\", 100)\n",
    "    solver = params.get(\"solver\", \"liblinear\")\n",
    "    params = {\n",
    "        \"head_params\": {\n",
    "            \"max_iter\": max_iter,\n",
    "            \"solver\": solver,\n",
    "        }\n",
    "    }\n",
    "    return SetFitModel.from_pretrained(\"BAAI/bge-small-en-v1.5\", **params)"
   ]
  },
  {
   "cell_type": "code",
   "execution_count": 6,
   "id": "e0d55a9c-aa6d-44f3-bf05-f3d2e8e331ea",
   "metadata": {
    "execution": {
     "iopub.execute_input": "2024-03-20T18:09:51.394301Z",
     "iopub.status.busy": "2024-03-20T18:09:51.393841Z",
     "iopub.status.idle": "2024-03-20T18:09:51.425577Z",
     "shell.execute_reply": "2024-03-20T18:09:51.425164Z",
     "shell.execute_reply.started": "2024-03-20T18:09:51.394286Z"
    }
   },
   "outputs": [],
   "source": [
    "from optuna import Trial\n",
    "from typing import Dict, Union\n",
    "\n",
    "def hp_space(trial: Trial) -> Dict[str, Union[float, int, str]]:\n",
    "    return {\n",
    "        \"body_learning_rate\": trial.suggest_float(\"body_learning_rate\", 1e-5, 1e-3, log=True),\n",
    "        \"num_epochs\": trial.suggest_int(\"num_epochs\", 1, 4),\n",
    "        \"batch_size\": trial.suggest_categorical(\"batch_size\", [8, 16, 32, 64]),\n",
    "        \"seed\": trial.suggest_int(\"seed\", 1, 42),\n",
    "        \"max_iter\": trial.suggest_int(\"max_iter\", 50, 300),\n",
    "        \"solver\": trial.suggest_categorical(\"solver\", [\"newton-cg\", \"lbfgs\", \"liblinear\"]),\n",
    "    }"
   ]
  },
  {
   "cell_type": "code",
   "execution_count": 12,
   "id": "34972990-24b4-40cb-a40d-c24b3d6f2649",
   "metadata": {
    "execution": {
     "iopub.execute_input": "2024-03-20T18:17:33.427556Z",
     "iopub.status.busy": "2024-03-20T18:17:33.427159Z",
     "iopub.status.idle": "2024-03-20T20:44:42.413951Z",
     "shell.execute_reply": "2024-03-20T20:44:42.413460Z",
     "shell.execute_reply.started": "2024-03-20T18:17:33.427542Z"
    },
    "scrolled": true
   },
   "outputs": [
    {
     "name": "stderr",
     "output_type": "stream",
     "text": [
      "model_head.pkl not found on HuggingFace Hub, initialising classification head with random weights. You should TRAIN this model on a downstream task to use it for predictions and inference.\n"
     ]
    },
    {
     "data": {
      "application/vnd.jupyter.widget-view+json": {
       "model_id": "5c6dd7fad3e14cd1805f24ca157e40bb",
       "version_major": 2,
       "version_minor": 0
      },
      "text/plain": [
       "Map:   0%|          | 0/200 [00:00<?, ? examples/s]"
      ]
     },
     "metadata": {},
     "output_type": "display_data"
    },
    {
     "name": "stderr",
     "output_type": "stream",
     "text": [
      "[I 2024-03-20 19:17:34,326] A new study created in memory with name: no-name-2c8f9552-2ca0-425f-b2ae-81c6859c64e6\n",
      "Trial: {'body_learning_rate': 8.432222978081305e-05, 'num_epochs': 1, 'batch_size': 8, 'seed': 20, 'max_iter': 117, 'solver': 'lbfgs'}\n",
      "model_head.pkl not found on HuggingFace Hub, initialising classification head with random weights. You should TRAIN this model on a downstream task to use it for predictions and inference.\n",
      "***** Running training *****\n",
      "  Num unique pairs = 20200\n",
      "  Batch size = 8\n",
      "  Num epochs = 1\n",
      "  Total optimization steps = 2525\n"
     ]
    },
    {
     "data": {
      "text/html": [
       "\n",
       "    <div>\n",
       "      \n",
       "      <progress value='2525' max='2525' style='width:300px; height:20px; vertical-align: middle;'></progress>\n",
       "      [2525/2525 06:33, Epoch 1/0]\n",
       "    </div>\n",
       "    <table border=\"1\" class=\"dataframe\">\n",
       "  <thead>\n",
       " <tr style=\"text-align: left;\">\n",
       "      <th>Step</th>\n",
       "      <th>Training Loss</th>\n",
       "    </tr>\n",
       "  </thead>\n",
       "  <tbody>\n",
       "  </tbody>\n",
       "</table><p>"
      ],
      "text/plain": [
       "<IPython.core.display.HTML object>"
      ]
     },
     "metadata": {},
     "output_type": "display_data"
    },
    {
     "name": "stderr",
     "output_type": "stream",
     "text": [
      "***** Running evaluation *****\n",
      "[I 2024-03-20 19:24:10,476] Trial 0 finished with value: 3.366661234076094 and parameters: {'body_learning_rate': 8.432222978081305e-05, 'num_epochs': 1, 'batch_size': 8, 'seed': 20, 'max_iter': 117, 'solver': 'lbfgs'}. Best is trial 0 with value: 3.366661234076094.\n",
      "Trial: {'body_learning_rate': 2.251620034128429e-05, 'num_epochs': 2, 'batch_size': 16, 'seed': 3, 'max_iter': 83, 'solver': 'liblinear'}\n",
      "model_head.pkl not found on HuggingFace Hub, initialising classification head with random weights. You should TRAIN this model on a downstream task to use it for predictions and inference.\n",
      "***** Running training *****\n",
      "  Num unique pairs = 20200\n",
      "  Batch size = 16\n",
      "  Num epochs = 2\n",
      "  Total optimization steps = 2526\n"
     ]
    },
    {
     "data": {
      "text/html": [
       "\n",
       "    <div>\n",
       "      \n",
       "      <progress value='2526' max='2526' style='width:300px; height:20px; vertical-align: middle;'></progress>\n",
       "      [2526/2526 12:35, Epoch 2/0]\n",
       "    </div>\n",
       "    <table border=\"1\" class=\"dataframe\">\n",
       "  <thead>\n",
       " <tr style=\"text-align: left;\">\n",
       "      <th>Step</th>\n",
       "      <th>Training Loss</th>\n",
       "    </tr>\n",
       "  </thead>\n",
       "  <tbody>\n",
       "  </tbody>\n",
       "</table><p>"
      ],
      "text/plain": [
       "<IPython.core.display.HTML object>"
      ]
     },
     "metadata": {},
     "output_type": "display_data"
    },
    {
     "name": "stderr",
     "output_type": "stream",
     "text": [
      "***** Running evaluation *****\n",
      "[I 2024-03-20 19:36:47,683] Trial 1 finished with value: 3.278786645617357 and parameters: {'body_learning_rate': 2.251620034128429e-05, 'num_epochs': 2, 'batch_size': 16, 'seed': 3, 'max_iter': 83, 'solver': 'liblinear'}. Best is trial 0 with value: 3.366661234076094.\n",
      "Trial: {'body_learning_rate': 2.4083591989111824e-05, 'num_epochs': 1, 'batch_size': 32, 'seed': 28, 'max_iter': 242, 'solver': 'lbfgs'}\n",
      "model_head.pkl not found on HuggingFace Hub, initialising classification head with random weights. You should TRAIN this model on a downstream task to use it for predictions and inference.\n",
      "***** Running training *****\n",
      "  Num unique pairs = 20200\n",
      "  Batch size = 32\n",
      "  Num epochs = 1\n",
      "  Total optimization steps = 632\n"
     ]
    },
    {
     "data": {
      "text/html": [
       "\n",
       "    <div>\n",
       "      \n",
       "      <progress value='632' max='632' style='width:300px; height:20px; vertical-align: middle;'></progress>\n",
       "      [632/632 05:56, Epoch 1/0]\n",
       "    </div>\n",
       "    <table border=\"1\" class=\"dataframe\">\n",
       "  <thead>\n",
       " <tr style=\"text-align: left;\">\n",
       "      <th>Step</th>\n",
       "      <th>Training Loss</th>\n",
       "    </tr>\n",
       "  </thead>\n",
       "  <tbody>\n",
       "  </tbody>\n",
       "</table><p>"
      ],
      "text/plain": [
       "<IPython.core.display.HTML object>"
      ]
     },
     "metadata": {},
     "output_type": "display_data"
    },
    {
     "name": "stderr",
     "output_type": "stream",
     "text": [
      "***** Running evaluation *****\n",
      "[I 2024-03-20 19:42:46,929] Trial 2 finished with value: 3.3238121950398165 and parameters: {'body_learning_rate': 2.4083591989111824e-05, 'num_epochs': 1, 'batch_size': 32, 'seed': 28, 'max_iter': 242, 'solver': 'lbfgs'}. Best is trial 0 with value: 3.366661234076094.\n",
      "Trial: {'body_learning_rate': 5.757440332039611e-05, 'num_epochs': 2, 'batch_size': 32, 'seed': 9, 'max_iter': 278, 'solver': 'liblinear'}\n",
      "model_head.pkl not found on HuggingFace Hub, initialising classification head with random weights. You should TRAIN this model on a downstream task to use it for predictions and inference.\n",
      "***** Running training *****\n",
      "  Num unique pairs = 20200\n",
      "  Batch size = 32\n",
      "  Num epochs = 2\n",
      "  Total optimization steps = 1264\n"
     ]
    },
    {
     "data": {
      "text/html": [
       "\n",
       "    <div>\n",
       "      \n",
       "      <progress value='1264' max='1264' style='width:300px; height:20px; vertical-align: middle;'></progress>\n",
       "      [1264/1264 11:53, Epoch 2/0]\n",
       "    </div>\n",
       "    <table border=\"1\" class=\"dataframe\">\n",
       "  <thead>\n",
       " <tr style=\"text-align: left;\">\n",
       "      <th>Step</th>\n",
       "      <th>Training Loss</th>\n",
       "    </tr>\n",
       "  </thead>\n",
       "  <tbody>\n",
       "  </tbody>\n",
       "</table><p>"
      ],
      "text/plain": [
       "<IPython.core.display.HTML object>"
      ]
     },
     "metadata": {},
     "output_type": "display_data"
    },
    {
     "name": "stderr",
     "output_type": "stream",
     "text": [
      "***** Running evaluation *****\n",
      "[I 2024-03-20 19:54:42,320] Trial 3 finished with value: 3.3687632393193128 and parameters: {'body_learning_rate': 5.757440332039611e-05, 'num_epochs': 2, 'batch_size': 32, 'seed': 9, 'max_iter': 278, 'solver': 'liblinear'}. Best is trial 3 with value: 3.3687632393193128.\n",
      "Trial: {'body_learning_rate': 1.9955159884221488e-05, 'num_epochs': 4, 'batch_size': 64, 'seed': 24, 'max_iter': 109, 'solver': 'liblinear'}\n",
      "model_head.pkl not found on HuggingFace Hub, initialising classification head with random weights. You should TRAIN this model on a downstream task to use it for predictions and inference.\n",
      "***** Running training *****\n",
      "  Num unique pairs = 20200\n",
      "  Batch size = 64\n",
      "  Num epochs = 4\n",
      "  Total optimization steps = 1264\n"
     ]
    },
    {
     "data": {
      "text/html": [
       "\n",
       "    <div>\n",
       "      \n",
       "      <progress value='1264' max='1264' style='width:300px; height:20px; vertical-align: middle;'></progress>\n",
       "      [1264/1264 22:44, Epoch 4/0]\n",
       "    </div>\n",
       "    <table border=\"1\" class=\"dataframe\">\n",
       "  <thead>\n",
       " <tr style=\"text-align: left;\">\n",
       "      <th>Step</th>\n",
       "      <th>Training Loss</th>\n",
       "    </tr>\n",
       "  </thead>\n",
       "  <tbody>\n",
       "  </tbody>\n",
       "</table><p>"
      ],
      "text/plain": [
       "<IPython.core.display.HTML object>"
      ]
     },
     "metadata": {},
     "output_type": "display_data"
    },
    {
     "name": "stderr",
     "output_type": "stream",
     "text": [
      "***** Running evaluation *****\n",
      "[I 2024-03-20 20:17:30,206] Trial 4 finished with value: 3.283591491641027 and parameters: {'body_learning_rate': 1.9955159884221488e-05, 'num_epochs': 4, 'batch_size': 64, 'seed': 24, 'max_iter': 109, 'solver': 'liblinear'}. Best is trial 3 with value: 3.3687632393193128.\n",
      "Trial: {'body_learning_rate': 2.237024405305343e-05, 'num_epochs': 1, 'batch_size': 16, 'seed': 21, 'max_iter': 124, 'solver': 'lbfgs'}\n",
      "model_head.pkl not found on HuggingFace Hub, initialising classification head with random weights. You should TRAIN this model on a downstream task to use it for predictions and inference.\n",
      "***** Running training *****\n",
      "  Num unique pairs = 20200\n",
      "  Batch size = 16\n",
      "  Num epochs = 1\n",
      "  Total optimization steps = 1263\n"
     ]
    },
    {
     "data": {
      "text/html": [
       "\n",
       "    <div>\n",
       "      \n",
       "      <progress value='1263' max='1263' style='width:300px; height:20px; vertical-align: middle;'></progress>\n",
       "      [1263/1263 06:17, Epoch 1/0]\n",
       "    </div>\n",
       "    <table border=\"1\" class=\"dataframe\">\n",
       "  <thead>\n",
       " <tr style=\"text-align: left;\">\n",
       "      <th>Step</th>\n",
       "      <th>Training Loss</th>\n",
       "    </tr>\n",
       "  </thead>\n",
       "  <tbody>\n",
       "  </tbody>\n",
       "</table><p>"
      ],
      "text/plain": [
       "<IPython.core.display.HTML object>"
      ]
     },
     "metadata": {},
     "output_type": "display_data"
    },
    {
     "name": "stderr",
     "output_type": "stream",
     "text": [
      "***** Running evaluation *****\n",
      "[I 2024-03-20 20:23:50,157] Trial 5 finished with value: 3.3281938482143145 and parameters: {'body_learning_rate': 2.237024405305343e-05, 'num_epochs': 1, 'batch_size': 16, 'seed': 21, 'max_iter': 124, 'solver': 'lbfgs'}. Best is trial 3 with value: 3.3687632393193128.\n",
      "Trial: {'body_learning_rate': 0.00019543109663875218, 'num_epochs': 4, 'batch_size': 16, 'seed': 12, 'max_iter': 193, 'solver': 'liblinear'}\n",
      "model_head.pkl not found on HuggingFace Hub, initialising classification head with random weights. You should TRAIN this model on a downstream task to use it for predictions and inference.\n",
      "***** Running training *****\n",
      "  Num unique pairs = 20200\n",
      "  Batch size = 16\n",
      "  Num epochs = 4\n",
      "  Total optimization steps = 5052\n"
     ]
    },
    {
     "data": {
      "text/html": [
       "\n",
       "    <div>\n",
       "      \n",
       "      <progress value='5052' max='5052' style='width:300px; height:20px; vertical-align: middle;'></progress>\n",
       "      [5052/5052 25:09, Epoch 4/0]\n",
       "    </div>\n",
       "    <table border=\"1\" class=\"dataframe\">\n",
       "  <thead>\n",
       " <tr style=\"text-align: left;\">\n",
       "      <th>Step</th>\n",
       "      <th>Training Loss</th>\n",
       "    </tr>\n",
       "  </thead>\n",
       "  <tbody>\n",
       "  </tbody>\n",
       "</table><p>"
      ],
      "text/plain": [
       "<IPython.core.display.HTML object>"
      ]
     },
     "metadata": {},
     "output_type": "display_data"
    },
    {
     "name": "stderr",
     "output_type": "stream",
     "text": [
      "***** Running evaluation *****\n",
      "[I 2024-03-20 20:49:01,469] Trial 6 finished with value: 2.4894145478704304 and parameters: {'body_learning_rate': 0.00019543109663875218, 'num_epochs': 4, 'batch_size': 16, 'seed': 12, 'max_iter': 193, 'solver': 'liblinear'}. Best is trial 3 with value: 3.3687632393193128.\n",
      "Trial: {'body_learning_rate': 0.0009995390442812668, 'num_epochs': 3, 'batch_size': 16, 'seed': 9, 'max_iter': 141, 'solver': 'newton-cg'}\n",
      "model_head.pkl not found on HuggingFace Hub, initialising classification head with random weights. You should TRAIN this model on a downstream task to use it for predictions and inference.\n",
      "***** Running training *****\n",
      "  Num unique pairs = 20200\n",
      "  Batch size = 16\n",
      "  Num epochs = 3\n",
      "  Total optimization steps = 3789\n"
     ]
    },
    {
     "data": {
      "text/html": [
       "\n",
       "    <div>\n",
       "      \n",
       "      <progress value='3789' max='3789' style='width:300px; height:20px; vertical-align: middle;'></progress>\n",
       "      [3789/3789 18:51, Epoch 3/0]\n",
       "    </div>\n",
       "    <table border=\"1\" class=\"dataframe\">\n",
       "  <thead>\n",
       " <tr style=\"text-align: left;\">\n",
       "      <th>Step</th>\n",
       "      <th>Training Loss</th>\n",
       "    </tr>\n",
       "  </thead>\n",
       "  <tbody>\n",
       "  </tbody>\n",
       "</table><p>"
      ],
      "text/plain": [
       "<IPython.core.display.HTML object>"
      ]
     },
     "metadata": {},
     "output_type": "display_data"
    },
    {
     "name": "stderr",
     "output_type": "stream",
     "text": [
      "***** Running evaluation *****\n",
      "/home/xiyan/data/conda/envs/GPU/lib/python3.11/site-packages/sklearn/metrics/_classification.py:1344: UndefinedMetricWarning: Precision is ill-defined and being set to 0.0 in labels with no predicted samples. Use `zero_division` parameter to control this behavior.\n",
      "  _warn_prf(average, modifier, msg_start, len(result))\n",
      "[I 2024-03-20 21:07:55,653] Trial 7 finished with value: 1.4523255813953488 and parameters: {'body_learning_rate': 0.0009995390442812668, 'num_epochs': 3, 'batch_size': 16, 'seed': 9, 'max_iter': 141, 'solver': 'newton-cg'}. Best is trial 3 with value: 3.3687632393193128.\n",
      "Trial: {'body_learning_rate': 1.455482691641014e-05, 'num_epochs': 3, 'batch_size': 16, 'seed': 2, 'max_iter': 84, 'solver': 'newton-cg'}\n",
      "model_head.pkl not found on HuggingFace Hub, initialising classification head with random weights. You should TRAIN this model on a downstream task to use it for predictions and inference.\n",
      "***** Running training *****\n",
      "  Num unique pairs = 20200\n",
      "  Batch size = 16\n",
      "  Num epochs = 3\n",
      "  Total optimization steps = 3789\n"
     ]
    },
    {
     "data": {
      "text/html": [
       "\n",
       "    <div>\n",
       "      \n",
       "      <progress value='3789' max='3789' style='width:300px; height:20px; vertical-align: middle;'></progress>\n",
       "      [3789/3789 18:52, Epoch 3/0]\n",
       "    </div>\n",
       "    <table border=\"1\" class=\"dataframe\">\n",
       "  <thead>\n",
       " <tr style=\"text-align: left;\">\n",
       "      <th>Step</th>\n",
       "      <th>Training Loss</th>\n",
       "    </tr>\n",
       "  </thead>\n",
       "  <tbody>\n",
       "  </tbody>\n",
       "</table><p>"
      ],
      "text/plain": [
       "<IPython.core.display.HTML object>"
      ]
     },
     "metadata": {},
     "output_type": "display_data"
    },
    {
     "name": "stderr",
     "output_type": "stream",
     "text": [
      "***** Running evaluation *****\n",
      "[I 2024-03-20 21:26:50,597] Trial 8 finished with value: 3.238864262957134 and parameters: {'body_learning_rate': 1.455482691641014e-05, 'num_epochs': 3, 'batch_size': 16, 'seed': 2, 'max_iter': 84, 'solver': 'newton-cg'}. Best is trial 3 with value: 3.3687632393193128.\n",
      "Trial: {'body_learning_rate': 0.0002175500130301556, 'num_epochs': 3, 'batch_size': 32, 'seed': 10, 'max_iter': 259, 'solver': 'lbfgs'}\n",
      "model_head.pkl not found on HuggingFace Hub, initialising classification head with random weights. You should TRAIN this model on a downstream task to use it for predictions and inference.\n",
      "***** Running training *****\n",
      "  Num unique pairs = 20200\n",
      "  Batch size = 32\n",
      "  Num epochs = 3\n",
      "  Total optimization steps = 1896\n"
     ]
    },
    {
     "data": {
      "text/html": [
       "\n",
       "    <div>\n",
       "      \n",
       "      <progress value='1896' max='1896' style='width:300px; height:20px; vertical-align: middle;'></progress>\n",
       "      [1896/1896 17:49, Epoch 3/0]\n",
       "    </div>\n",
       "    <table border=\"1\" class=\"dataframe\">\n",
       "  <thead>\n",
       " <tr style=\"text-align: left;\">\n",
       "      <th>Step</th>\n",
       "      <th>Training Loss</th>\n",
       "    </tr>\n",
       "  </thead>\n",
       "  <tbody>\n",
       "  </tbody>\n",
       "</table><p>"
      ],
      "text/plain": [
       "<IPython.core.display.HTML object>"
      ]
     },
     "metadata": {},
     "output_type": "display_data"
    },
    {
     "name": "stderr",
     "output_type": "stream",
     "text": [
      "***** Running evaluation *****\n",
      "[I 2024-03-20 21:44:42,411] Trial 9 finished with value: 3.0442697818536617 and parameters: {'body_learning_rate': 0.0002175500130301556, 'num_epochs': 3, 'batch_size': 32, 'seed': 10, 'max_iter': 259, 'solver': 'lbfgs'}. Best is trial 3 with value: 3.3687632393193128.\n"
     ]
    }
   ],
   "source": [
    "#train_dataset = sample_dataset(dataset[\"train\"], label_column=\"label\", num_samples=100)\n",
    "\n",
    "trainer = Trainer(\n",
    "    train_dataset=train_dataset,\n",
    "    eval_dataset=eval_dataset,\n",
    "    model_init=model_init,\n",
    "    metric=compute_metrics,\n",
    ")\n",
    "best_run = trainer.hyperparameter_search(direction=\"maximize\", hp_space=hp_space, n_trials=10)"
   ]
  },
  {
   "cell_type": "code",
   "execution_count": 13,
   "id": "d8d1c1a6-47fb-416f-aee0-6cc1ab1fdb86",
   "metadata": {
    "execution": {
     "iopub.execute_input": "2024-03-20T20:44:42.421481Z",
     "iopub.status.busy": "2024-03-20T20:44:42.421207Z",
     "iopub.status.idle": "2024-03-20T20:44:42.423473Z",
     "shell.execute_reply": "2024-03-20T20:44:42.423118Z",
     "shell.execute_reply.started": "2024-03-20T20:44:42.421470Z"
    }
   },
   "outputs": [
    {
     "name": "stdout",
     "output_type": "stream",
     "text": [
      "BestRun(run_id='3', objective=3.3687632393193128, hyperparameters={'body_learning_rate': 5.757440332039611e-05, 'num_epochs': 2, 'batch_size': 32, 'seed': 9, 'max_iter': 278, 'solver': 'liblinear'}, backend=<optuna.study.study.Study object at 0x14a03c145fd0>)\n"
     ]
    }
   ],
   "source": [
    "print(best_run)"
   ]
  },
  {
   "cell_type": "code",
   "execution_count": 14,
   "id": "74de30c2-4d17-43b4-aea1-ae049fa833ca",
   "metadata": {
    "execution": {
     "iopub.execute_input": "2024-03-20T20:49:58.734941Z",
     "iopub.status.busy": "2024-03-20T20:49:58.734485Z",
     "iopub.status.idle": "2024-03-20T21:01:53.435713Z",
     "shell.execute_reply": "2024-03-20T21:01:53.435106Z",
     "shell.execute_reply.started": "2024-03-20T20:49:58.734927Z"
    }
   },
   "outputs": [
    {
     "name": "stderr",
     "output_type": "stream",
     "text": [
      "model_head.pkl not found on HuggingFace Hub, initialising classification head with random weights. You should TRAIN this model on a downstream task to use it for predictions and inference.\n",
      "***** Running training *****\n",
      "  Num unique pairs = 20200\n",
      "  Batch size = 32\n",
      "  Num epochs = 2\n",
      "  Total optimization steps = 1264\n"
     ]
    },
    {
     "data": {
      "text/html": [
       "\n",
       "    <div>\n",
       "      \n",
       "      <progress value='1264' max='1264' style='width:300px; height:20px; vertical-align: middle;'></progress>\n",
       "      [1264/1264 11:52, Epoch 2/0]\n",
       "    </div>\n",
       "    <table border=\"1\" class=\"dataframe\">\n",
       "  <thead>\n",
       " <tr style=\"text-align: left;\">\n",
       "      <th>Step</th>\n",
       "      <th>Training Loss</th>\n",
       "    </tr>\n",
       "  </thead>\n",
       "  <tbody>\n",
       "  </tbody>\n",
       "</table><p>"
      ],
      "text/plain": [
       "<IPython.core.display.HTML object>"
      ]
     },
     "metadata": {},
     "output_type": "display_data"
    }
   ],
   "source": [
    "trainer.apply_hyperparameters(best_run.hyperparameters, final_model=True)\n",
    "trainer.train()"
   ]
  },
  {
   "cell_type": "code",
   "execution_count": 15,
   "id": "1fc4eca4-3e2d-41a0-a26e-35fec4be218c",
   "metadata": {
    "execution": {
     "iopub.execute_input": "2024-03-20T21:02:16.232467Z",
     "iopub.status.busy": "2024-03-20T21:02:16.232034Z",
     "iopub.status.idle": "2024-03-20T21:02:16.586783Z",
     "shell.execute_reply": "2024-03-20T21:02:16.586368Z",
     "shell.execute_reply.started": "2024-03-20T21:02:16.232448Z"
    }
   },
   "outputs": [
    {
     "name": "stderr",
     "output_type": "stream",
     "text": [
      "***** Running evaluation *****\n"
     ]
    },
    {
     "data": {
      "text/plain": [
       "{'accuracy': 0.8444444444444444,\n",
       " 'precision': 0.8583925642427557,\n",
       " 'recall': 0.8295625942684766,\n",
       " 'f1': 0.8363636363636364}"
      ]
     },
     "execution_count": 15,
     "metadata": {},
     "output_type": "execute_result"
    }
   ],
   "source": [
    "trainer.evaluate(eval_dataset)"
   ]
  },
  {
   "cell_type": "code",
   "execution_count": 16,
   "id": "c89f5c4e-b95a-434c-bc15-1cdb675479ac",
   "metadata": {
    "execution": {
     "iopub.execute_input": "2024-03-20T21:02:25.854308Z",
     "iopub.status.busy": "2024-03-20T21:02:25.853957Z",
     "iopub.status.idle": "2024-03-20T21:02:26.222124Z",
     "shell.execute_reply": "2024-03-20T21:02:26.221710Z",
     "shell.execute_reply.started": "2024-03-20T21:02:25.854293Z"
    }
   },
   "outputs": [
    {
     "name": "stderr",
     "output_type": "stream",
     "text": [
      "***** Running evaluation *****\n"
     ]
    },
    {
     "data": {
      "text/plain": [
       "{'accuracy': 0.8666666666666667,\n",
       " 'precision': 0.8805194805194805,\n",
       " 'recall': 0.8624443344878774,\n",
       " 'f1': 0.8642533936651584}"
      ]
     },
     "execution_count": 16,
     "metadata": {},
     "output_type": "execute_result"
    }
   ],
   "source": [
    "trainer.evaluate(test_dataset)"
   ]
  },
  {
   "cell_type": "markdown",
   "id": "5b00d21f-8923-4193-a075-25d35dd696a9",
   "metadata": {},
   "source": [
    "### Making predictions"
   ]
  },
  {
   "cell_type": "code",
   "execution_count": 17,
   "id": "1906d59d-7954-4801-81bc-81cf0ce65168",
   "metadata": {
    "execution": {
     "iopub.execute_input": "2024-03-20T21:03:27.854344Z",
     "iopub.status.busy": "2024-03-20T21:03:27.853975Z",
     "iopub.status.idle": "2024-03-20T21:03:51.780898Z",
     "shell.execute_reply": "2024-03-20T21:03:51.780291Z",
     "shell.execute_reply.started": "2024-03-20T21:03:27.854328Z"
    }
   },
   "outputs": [],
   "source": [
    "df = pd.read_csv(\"scratch/2_data_preperation_data_dedup.csv\")\n",
    "df.drop(labels = [\"Unnamed: 0\"], axis = 1, inplace = True)"
   ]
  },
  {
   "cell_type": "code",
   "execution_count": 18,
   "id": "a156b8d6-7b14-4eae-acc7-d54953869006",
   "metadata": {
    "execution": {
     "iopub.execute_input": "2024-03-20T21:03:51.790224Z",
     "iopub.status.busy": "2024-03-20T21:03:51.790108Z",
     "iopub.status.idle": "2024-03-20T21:03:51.792585Z",
     "shell.execute_reply": "2024-03-20T21:03:51.792291Z",
     "shell.execute_reply.started": "2024-03-20T21:03:51.790213Z"
    }
   },
   "outputs": [
    {
     "data": {
      "text/plain": [
       "214442"
      ]
     },
     "execution_count": 18,
     "metadata": {},
     "output_type": "execute_result"
    }
   ],
   "source": [
    "len(df)"
   ]
  },
  {
   "cell_type": "code",
   "execution_count": 21,
   "id": "ea1c4f13-5d92-4314-84cc-c4bfce159243",
   "metadata": {
    "execution": {
     "iopub.execute_input": "2024-03-20T21:06:21.973546Z",
     "iopub.status.busy": "2024-03-20T21:06:21.973278Z",
     "iopub.status.idle": "2024-03-20T21:06:21.979822Z",
     "shell.execute_reply": "2024-03-20T21:06:21.979509Z",
     "shell.execute_reply.started": "2024-03-20T21:06:21.973535Z"
    }
   },
   "outputs": [
    {
     "data": {
      "text/html": [
       "<div>\n",
       "<style scoped>\n",
       "    .dataframe tbody tr th:only-of-type {\n",
       "        vertical-align: middle;\n",
       "    }\n",
       "\n",
       "    .dataframe tbody tr th {\n",
       "        vertical-align: top;\n",
       "    }\n",
       "\n",
       "    .dataframe thead th {\n",
       "        text-align: right;\n",
       "    }\n",
       "</style>\n",
       "<table border=\"1\" class=\"dataframe\">\n",
       "  <thead>\n",
       "    <tr style=\"text-align: right;\">\n",
       "      <th></th>\n",
       "      <th>index</th>\n",
       "      <th>filename</th>\n",
       "      <th>text_original</th>\n",
       "      <th>year</th>\n",
       "      <th>month</th>\n",
       "      <th>outlet</th>\n",
       "      <th>country</th>\n",
       "      <th>text_clean</th>\n",
       "      <th>south</th>\n",
       "    </tr>\n",
       "  </thead>\n",
       "  <tbody>\n",
       "    <tr>\n",
       "      <th>0</th>\n",
       "      <td>9029</td>\n",
       "      <td>'Empire' may yet fade, as climate catastrophe ...</td>\n",
       "      <td>\\r\\nNovember 1, 2021\\r\\n\\r\\n\\r\\nCopyright 2021...</td>\n",
       "      <td>2021</td>\n",
       "      <td>11</td>\n",
       "      <td>The New Zealand Herald</td>\n",
       "      <td>New Zealand</td>\n",
       "      <td>November 1, 2021 Copyright 2021 The New Zealan...</td>\n",
       "      <td>0</td>\n",
       "    </tr>\n",
       "    <tr>\n",
       "      <th>1</th>\n",
       "      <td>9030</td>\n",
       "      <td>'FIGHTING THE DARKNESS' New conservatism in th...</td>\n",
       "      <td>\\r\\nAugust 22, 2020\\r\\n\\r\\n\\r\\nCopyright 2020 ...</td>\n",
       "      <td>2020</td>\n",
       "      <td>8</td>\n",
       "      <td>The New Zealand Herald</td>\n",
       "      <td>New Zealand</td>\n",
       "      <td>August 22, 2020 Copyright 2020 The New Zealand...</td>\n",
       "      <td>0</td>\n",
       "    </tr>\n",
       "    <tr>\n",
       "      <th>2</th>\n",
       "      <td>9032</td>\n",
       "      <td>'Inspirational' leader heads home.rtf</td>\n",
       "      <td>\\r\\nSeptember 4, 2021\\r\\n\\r\\n\\r\\nCopyright 202...</td>\n",
       "      <td>2021</td>\n",
       "      <td>9</td>\n",
       "      <td>The New Zealand Herald</td>\n",
       "      <td>New Zealand</td>\n",
       "      <td>September 4, 2021 Copyright 2021 The New Zeala...</td>\n",
       "      <td>0</td>\n",
       "    </tr>\n",
       "    <tr>\n",
       "      <th>3</th>\n",
       "      <td>9034</td>\n",
       "      <td>'Native peoples hold key to climate solutions'...</td>\n",
       "      <td>\\r\\nNovember 2, 2021\\r\\n\\r\\n\\r\\nCopyright 2021...</td>\n",
       "      <td>2021</td>\n",
       "      <td>11</td>\n",
       "      <td>The New Zealand Herald</td>\n",
       "      <td>New Zealand</td>\n",
       "      <td>November 2, 2021 Copyright 2021 The New Zealan...</td>\n",
       "      <td>0</td>\n",
       "    </tr>\n",
       "    <tr>\n",
       "      <th>4</th>\n",
       "      <td>9037</td>\n",
       "      <td>'Principled' woman stirs praise, tears.rtf</td>\n",
       "      <td>\\r\\nMarch 7, 2020\\r\\n\\r\\n\\r\\nCopyright 2020 Th...</td>\n",
       "      <td>2020</td>\n",
       "      <td>3</td>\n",
       "      <td>The New Zealand Herald</td>\n",
       "      <td>New Zealand</td>\n",
       "      <td>March 7, 2020 Copyright 2020 The New Zealand H...</td>\n",
       "      <td>0</td>\n",
       "    </tr>\n",
       "  </tbody>\n",
       "</table>\n",
       "</div>"
      ],
      "text/plain": [
       "   index                                           filename  \\\n",
       "0   9029  'Empire' may yet fade, as climate catastrophe ...   \n",
       "1   9030  'FIGHTING THE DARKNESS' New conservatism in th...   \n",
       "2   9032              'Inspirational' leader heads home.rtf   \n",
       "3   9034  'Native peoples hold key to climate solutions'...   \n",
       "4   9037         'Principled' woman stirs praise, tears.rtf   \n",
       "\n",
       "                                       text_original  year  month  \\\n",
       "0  \\r\\nNovember 1, 2021\\r\\n\\r\\n\\r\\nCopyright 2021...  2021     11   \n",
       "1  \\r\\nAugust 22, 2020\\r\\n\\r\\n\\r\\nCopyright 2020 ...  2020      8   \n",
       "2  \\r\\nSeptember 4, 2021\\r\\n\\r\\n\\r\\nCopyright 202...  2021      9   \n",
       "3  \\r\\nNovember 2, 2021\\r\\n\\r\\n\\r\\nCopyright 2021...  2021     11   \n",
       "4  \\r\\nMarch 7, 2020\\r\\n\\r\\n\\r\\nCopyright 2020 Th...  2020      3   \n",
       "\n",
       "                   outlet      country  \\\n",
       "0  The New Zealand Herald  New Zealand   \n",
       "1  The New Zealand Herald  New Zealand   \n",
       "2  The New Zealand Herald  New Zealand   \n",
       "3  The New Zealand Herald  New Zealand   \n",
       "4  The New Zealand Herald  New Zealand   \n",
       "\n",
       "                                          text_clean  south  \n",
       "0  November 1, 2021 Copyright 2021 The New Zealan...      0  \n",
       "1  August 22, 2020 Copyright 2020 The New Zealand...      0  \n",
       "2  September 4, 2021 Copyright 2021 The New Zeala...      0  \n",
       "3  November 2, 2021 Copyright 2021 The New Zealan...      0  \n",
       "4  March 7, 2020 Copyright 2020 The New Zealand H...      0  "
      ]
     },
     "execution_count": 21,
     "metadata": {},
     "output_type": "execute_result"
    }
   ],
   "source": [
    "df.head()"
   ]
  },
  {
   "cell_type": "code",
   "execution_count": 22,
   "id": "9b960553-6d5f-4c02-a736-6a3c9089c7e1",
   "metadata": {
    "execution": {
     "iopub.execute_input": "2024-03-20T21:07:03.454506Z",
     "iopub.status.busy": "2024-03-20T21:07:03.454183Z",
     "iopub.status.idle": "2024-03-20T21:07:03.456257Z",
     "shell.execute_reply": "2024-03-20T21:07:03.455953Z",
     "shell.execute_reply.started": "2024-03-20T21:07:03.454494Z"
    }
   },
   "outputs": [],
   "source": [
    "news_pred = df[\"text_clean\"]"
   ]
  },
  {
   "cell_type": "code",
   "execution_count": 23,
   "id": "facdaf4a-25f8-44f3-911a-7cff89886f23",
   "metadata": {
    "execution": {
     "iopub.execute_input": "2024-03-20T21:07:12.333051Z",
     "iopub.status.busy": "2024-03-20T21:07:12.332887Z",
     "iopub.status.idle": "2024-03-20T21:07:12.335447Z",
     "shell.execute_reply": "2024-03-20T21:07:12.335133Z",
     "shell.execute_reply.started": "2024-03-20T21:07:12.333041Z"
    }
   },
   "outputs": [
    {
     "data": {
      "text/plain": [
       "214442"
      ]
     },
     "execution_count": 23,
     "metadata": {},
     "output_type": "execute_result"
    }
   ],
   "source": [
    "len(news_pred)"
   ]
  },
  {
   "cell_type": "code",
   "execution_count": 24,
   "id": "f7136cfd-cd23-4048-9bef-2a6993cca8c4",
   "metadata": {
    "execution": {
     "iopub.execute_input": "2024-03-20T21:07:25.245310Z",
     "iopub.status.busy": "2024-03-20T21:07:25.245140Z",
     "iopub.status.idle": "2024-03-20T21:20:08.722563Z",
     "shell.execute_reply": "2024-03-20T21:20:08.722138Z",
     "shell.execute_reply.started": "2024-03-20T21:07:25.245299Z"
    }
   },
   "outputs": [],
   "source": [
    "preds = model.predict(news_pred)"
   ]
  },
  {
   "cell_type": "code",
   "execution_count": 25,
   "id": "42b33202-1641-438a-8a43-287d5d533070",
   "metadata": {
    "execution": {
     "iopub.execute_input": "2024-03-20T21:21:50.533969Z",
     "iopub.status.busy": "2024-03-20T21:21:50.533751Z",
     "iopub.status.idle": "2024-03-20T21:21:50.536423Z",
     "shell.execute_reply": "2024-03-20T21:21:50.536095Z",
     "shell.execute_reply.started": "2024-03-20T21:21:50.533956Z"
    }
   },
   "outputs": [],
   "source": [
    "df[\"keep\"] = preds"
   ]
  },
  {
   "cell_type": "code",
   "execution_count": 26,
   "id": "388b9b27-bac1-4808-83aa-d717e519ceb1",
   "metadata": {
    "execution": {
     "iopub.execute_input": "2024-03-20T21:21:54.493749Z",
     "iopub.status.busy": "2024-03-20T21:21:54.493554Z",
     "iopub.status.idle": "2024-03-20T21:21:54.497950Z",
     "shell.execute_reply": "2024-03-20T21:21:54.497624Z",
     "shell.execute_reply.started": "2024-03-20T21:21:54.493737Z"
    }
   },
   "outputs": [
    {
     "data": {
      "text/plain": [
       "keep\n",
       "0    126451\n",
       "1     87991\n",
       "Name: count, dtype: int64"
      ]
     },
     "execution_count": 26,
     "metadata": {},
     "output_type": "execute_result"
    }
   ],
   "source": [
    "df[\"keep\"].value_counts()"
   ]
  },
  {
   "cell_type": "code",
   "execution_count": 27,
   "id": "036861af-91fa-4eb5-b926-34e5e812cc42",
   "metadata": {
    "execution": {
     "iopub.execute_input": "2024-03-20T21:22:28.853249Z",
     "iopub.status.busy": "2024-03-20T21:22:28.852977Z",
     "iopub.status.idle": "2024-03-20T21:22:28.902233Z",
     "shell.execute_reply": "2024-03-20T21:22:28.901856Z",
     "shell.execute_reply.started": "2024-03-20T21:22:28.853235Z"
    }
   },
   "outputs": [],
   "source": [
    "pre = df.loc[df[\"keep\"]==1]"
   ]
  },
  {
   "cell_type": "code",
   "execution_count": 28,
   "id": "4b553540-da90-4c94-8a4b-e282b9636193",
   "metadata": {
    "execution": {
     "iopub.execute_input": "2024-03-20T21:22:31.741021Z",
     "iopub.status.busy": "2024-03-20T21:22:31.740877Z",
     "iopub.status.idle": "2024-03-20T21:22:31.743338Z",
     "shell.execute_reply": "2024-03-20T21:22:31.742999Z",
     "shell.execute_reply.started": "2024-03-20T21:22:31.741010Z"
    }
   },
   "outputs": [
    {
     "data": {
      "text/plain": [
       "87991"
      ]
     },
     "execution_count": 28,
     "metadata": {},
     "output_type": "execute_result"
    }
   ],
   "source": [
    "len(pre)"
   ]
  },
  {
   "cell_type": "code",
   "execution_count": 29,
   "id": "6f81f2cd-5069-4aeb-b4dc-cdeaa3a8200b",
   "metadata": {
    "execution": {
     "iopub.execute_input": "2024-03-20T21:22:49.053159Z",
     "iopub.status.busy": "2024-03-20T21:22:49.052883Z",
     "iopub.status.idle": "2024-03-20T21:23:00.220023Z",
     "shell.execute_reply": "2024-03-20T21:23:00.219499Z",
     "shell.execute_reply.started": "2024-03-20T21:22:49.053145Z"
    }
   },
   "outputs": [],
   "source": [
    "pre.to_csv(\"scratch/3_fewshot_classification_data_final.csv\")"
   ]
  },
  {
   "cell_type": "code",
   "execution_count": null,
   "id": "6f8290d7-4665-41f2-b4de-bbb488758f24",
   "metadata": {},
   "outputs": [],
   "source": []
  }
 ],
 "metadata": {
  "kernelspec": {
   "display_name": "GPU",
   "language": "python",
   "name": "gpu"
  },
  "language_info": {
   "codemirror_mode": {
    "name": "ipython",
    "version": 3
   },
   "file_extension": ".py",
   "mimetype": "text/x-python",
   "name": "python",
   "nbconvert_exporter": "python",
   "pygments_lexer": "ipython3",
   "version": "3.11.5"
  }
 },
 "nbformat": 4,
 "nbformat_minor": 5
}
