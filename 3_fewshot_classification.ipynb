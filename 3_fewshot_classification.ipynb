{
 "cells": [
  {
   "cell_type": "code",
   "execution_count": 1,
   "id": "f4f4c2a3-aa98-4e13-80a3-0e7c75a717ef",
   "metadata": {
    "execution": {
     "iopub.execute_input": "2024-03-19T16:07:19.246097Z",
     "iopub.status.busy": "2024-03-19T16:07:19.245227Z",
     "iopub.status.idle": "2024-03-19T16:07:25.404652Z",
     "shell.execute_reply": "2024-03-19T16:07:25.404000Z",
     "shell.execute_reply.started": "2024-03-19T16:07:19.246036Z"
    }
   },
   "outputs": [
    {
     "name": "stderr",
     "output_type": "stream",
     "text": [
      "/home/xiyan/data/conda/envs/GPU/lib/python3.11/site-packages/transformers/utils/generic.py:462: UserWarning: torch.utils._pytree._register_pytree_node is deprecated. Please use torch.utils._pytree.register_pytree_node instead.\n",
      "  _torch_pytree._register_pytree_node(\n",
      "/home/xiyan/data/conda/envs/GPU/lib/python3.11/site-packages/transformers/utils/generic.py:319: UserWarning: torch.utils._pytree._register_pytree_node is deprecated. Please use torch.utils._pytree.register_pytree_node instead.\n",
      "  _torch_pytree._register_pytree_node(\n"
     ]
    }
   ],
   "source": [
    "from setfit import SetFitModel, sample_dataset\n",
    "import pandas as pd\n",
    "from datasets import load_dataset\n",
    "import numpy as np\n",
    "import torch"
   ]
  },
  {
   "cell_type": "markdown",
   "id": "b2f7f2bc-7b7d-40af-9612-1e63a9d6d81d",
   "metadata": {},
   "source": [
    "### Data preperation and model training"
   ]
  },
  {
   "cell_type": "code",
   "execution_count": 45,
   "id": "2b06a68e-6714-4dbe-a43d-afcdefa653db",
   "metadata": {
    "execution": {
     "iopub.execute_input": "2024-03-18T13:24:28.605402Z",
     "iopub.status.busy": "2024-03-18T13:24:28.604897Z",
     "iopub.status.idle": "2024-03-18T13:24:28.774968Z",
     "shell.execute_reply": "2024-03-18T13:24:28.774584Z",
     "shell.execute_reply.started": "2024-03-18T13:24:28.605387Z"
    }
   },
   "outputs": [],
   "source": [
    "dataset = pd.read_csv(\"scratch/3_SML_benchmark.csv\")"
   ]
  },
  {
   "cell_type": "code",
   "execution_count": 46,
   "id": "146dbc25-b733-4170-b52b-fdfe964da4c7",
   "metadata": {
    "execution": {
     "iopub.execute_input": "2024-03-18T13:24:30.486297Z",
     "iopub.status.busy": "2024-03-18T13:24:30.485912Z",
     "iopub.status.idle": "2024-03-18T13:24:30.500089Z",
     "shell.execute_reply": "2024-03-18T13:24:30.499698Z",
     "shell.execute_reply.started": "2024-03-18T13:24:30.486284Z"
    }
   },
   "outputs": [
    {
     "data": {
      "text/html": [
       "<div>\n",
       "<style scoped>\n",
       "    .dataframe tbody tr th:only-of-type {\n",
       "        vertical-align: middle;\n",
       "    }\n",
       "\n",
       "    .dataframe tbody tr th {\n",
       "        vertical-align: top;\n",
       "    }\n",
       "\n",
       "    .dataframe thead th {\n",
       "        text-align: right;\n",
       "    }\n",
       "</style>\n",
       "<table border=\"1\" class=\"dataframe\">\n",
       "  <thead>\n",
       "    <tr style=\"text-align: right;\">\n",
       "      <th></th>\n",
       "      <th>Unnamed: 0</th>\n",
       "      <th>index</th>\n",
       "      <th>filename</th>\n",
       "      <th>text_original</th>\n",
       "      <th>text_clean</th>\n",
       "      <th>date</th>\n",
       "      <th>year</th>\n",
       "      <th>month</th>\n",
       "      <th>outlet</th>\n",
       "      <th>country</th>\n",
       "      <th>south</th>\n",
       "      <th>RA</th>\n",
       "    </tr>\n",
       "  </thead>\n",
       "  <tbody>\n",
       "    <tr>\n",
       "      <th>475</th>\n",
       "      <td>475</td>\n",
       "      <td>101008</td>\n",
       "      <td>newsarticle/Toronto Star/Neutral &amp; Urgent 2006...</td>\n",
       "      <td>\\n   Business\\nTime to invest in foreign stude...</td>\n",
       "      <td>Business Time to invest in foreign students Da...</td>\n",
       "      <td>2022-09-10</td>\n",
       "      <td>2022</td>\n",
       "      <td>9</td>\n",
       "      <td>Toronto Star</td>\n",
       "      <td>Canada</td>\n",
       "      <td>0</td>\n",
       "      <td>0</td>\n",
       "    </tr>\n",
       "    <tr>\n",
       "      <th>476</th>\n",
       "      <td>476</td>\n",
       "      <td>100986</td>\n",
       "      <td>newsarticle/Toronto Star/Neutral &amp; Urgent 2006...</td>\n",
       "      <td>\\n   Politics\\nMeet the Greens who might take ...</td>\n",
       "      <td>Politics Meet the Greens who might take a run ...</td>\n",
       "      <td>2022-07-04</td>\n",
       "      <td>2022</td>\n",
       "      <td>7</td>\n",
       "      <td>Toronto Star</td>\n",
       "      <td>Canada</td>\n",
       "      <td>0</td>\n",
       "      <td>0</td>\n",
       "    </tr>\n",
       "    <tr>\n",
       "      <th>477</th>\n",
       "      <td>477</td>\n",
       "      <td>2962</td>\n",
       "      <td>A cautionary flag for oil development;Study ca...</td>\n",
       "      <td>\\nMarch 1, 2020 Sunday\\n\\n\\nCopyright 2020 Tor...</td>\n",
       "      <td>March 1, 2020 Sunday Copyright 2020 Toronto St...</td>\n",
       "      <td>2020-03-01</td>\n",
       "      <td>2020</td>\n",
       "      <td>3</td>\n",
       "      <td>Toronto Star</td>\n",
       "      <td>Canada</td>\n",
       "      <td>0</td>\n",
       "      <td>0</td>\n",
       "    </tr>\n",
       "    <tr>\n",
       "      <th>478</th>\n",
       "      <td>478</td>\n",
       "      <td>74551</td>\n",
       "      <td>The Toronto Star_2018-8-68.txt</td>\n",
       "      <td>\"\";\"x\"\\n\"1\";\" 82\\n\\n\\n                        ...</td>\n",
       "      <td>\"\";\"x\" \"1\";\" 82 The Toronto Star August 5, 201...</td>\n",
       "      <td>2018-08-01</td>\n",
       "      <td>2018</td>\n",
       "      <td>8</td>\n",
       "      <td>Toronto Star</td>\n",
       "      <td>Canada</td>\n",
       "      <td>0</td>\n",
       "      <td>1</td>\n",
       "    </tr>\n",
       "    <tr>\n",
       "      <th>479</th>\n",
       "      <td>479</td>\n",
       "      <td>72479</td>\n",
       "      <td>The Toronto Star_2011-7-21_39703.txt</td>\n",
       "      <td>\"\";\"x\"\\n\"1\";\"DATE: 21.7.2011\\nHEADLINE: Securi...</td>\n",
       "      <td>\"\";\"x\" \"1\";\"DATE: 21.7.2011 HEADLINE: Security...</td>\n",
       "      <td>2011-07-01</td>\n",
       "      <td>2011</td>\n",
       "      <td>7</td>\n",
       "      <td>Toronto Star</td>\n",
       "      <td>Canada</td>\n",
       "      <td>0</td>\n",
       "      <td>1</td>\n",
       "    </tr>\n",
       "  </tbody>\n",
       "</table>\n",
       "</div>"
      ],
      "text/plain": [
       "     Unnamed: 0   index                                           filename  \\\n",
       "475         475  101008  newsarticle/Toronto Star/Neutral & Urgent 2006...   \n",
       "476         476  100986  newsarticle/Toronto Star/Neutral & Urgent 2006...   \n",
       "477         477    2962  A cautionary flag for oil development;Study ca...   \n",
       "478         478   74551                     The Toronto Star_2018-8-68.txt   \n",
       "479         479   72479               The Toronto Star_2011-7-21_39703.txt   \n",
       "\n",
       "                                         text_original  \\\n",
       "475  \\n   Business\\nTime to invest in foreign stude...   \n",
       "476  \\n   Politics\\nMeet the Greens who might take ...   \n",
       "477  \\nMarch 1, 2020 Sunday\\n\\n\\nCopyright 2020 Tor...   \n",
       "478  \"\";\"x\"\\n\"1\";\" 82\\n\\n\\n                        ...   \n",
       "479  \"\";\"x\"\\n\"1\";\"DATE: 21.7.2011\\nHEADLINE: Securi...   \n",
       "\n",
       "                                            text_clean        date  year  \\\n",
       "475  Business Time to invest in foreign students Da...  2022-09-10  2022   \n",
       "476  Politics Meet the Greens who might take a run ...  2022-07-04  2022   \n",
       "477  March 1, 2020 Sunday Copyright 2020 Toronto St...  2020-03-01  2020   \n",
       "478  \"\";\"x\" \"1\";\" 82 The Toronto Star August 5, 201...  2018-08-01  2018   \n",
       "479  \"\";\"x\" \"1\";\"DATE: 21.7.2011 HEADLINE: Security...  2011-07-01  2011   \n",
       "\n",
       "     month        outlet country  south  RA  \n",
       "475      9  Toronto Star  Canada      0   0  \n",
       "476      7  Toronto Star  Canada      0   0  \n",
       "477      3  Toronto Star  Canada      0   0  \n",
       "478      8  Toronto Star  Canada      0   1  \n",
       "479      7  Toronto Star  Canada      0   1  "
      ]
     },
     "execution_count": 46,
     "metadata": {},
     "output_type": "execute_result"
    }
   ],
   "source": [
    "dataset.tail()"
   ]
  },
  {
   "cell_type": "code",
   "execution_count": 47,
   "id": "7ad8fdb0-cc28-44de-bc4f-4ea455317c38",
   "metadata": {
    "execution": {
     "iopub.execute_input": "2024-03-18T13:24:32.698294Z",
     "iopub.status.busy": "2024-03-18T13:24:32.697947Z",
     "iopub.status.idle": "2024-03-18T13:24:32.701690Z",
     "shell.execute_reply": "2024-03-18T13:24:32.701331Z",
     "shell.execute_reply.started": "2024-03-18T13:24:32.698280Z"
    }
   },
   "outputs": [
    {
     "name": "stderr",
     "output_type": "stream",
     "text": [
      "/sctmp/xiyan/ipykernel_2848872/675981800.py:2: SettingWithCopyWarning: \n",
      "A value is trying to be set on a copy of a slice from a DataFrame\n",
      "\n",
      "See the caveats in the documentation: https://pandas.pydata.org/pandas-docs/stable/user_guide/indexing.html#returning-a-view-versus-a-copy\n",
      "  df.rename(columns={'RA': 'label','text_clean':'text'}, inplace=True)\n"
     ]
    }
   ],
   "source": [
    "df = dataset[[\"text_clean\", \"RA\"]]\n",
    "df.rename(columns={'RA': 'label','text_clean':'text'}, inplace=True)"
   ]
  },
  {
   "cell_type": "code",
   "execution_count": 63,
   "id": "9308be27-1b08-4d17-a57f-5da3075814bc",
   "metadata": {
    "execution": {
     "iopub.execute_input": "2024-03-18T13:58:41.823273Z",
     "iopub.status.busy": "2024-03-18T13:58:41.822910Z",
     "iopub.status.idle": "2024-03-18T13:58:41.828375Z",
     "shell.execute_reply": "2024-03-18T13:58:41.828059Z",
     "shell.execute_reply.started": "2024-03-18T13:58:41.823258Z"
    }
   },
   "outputs": [],
   "source": [
    "#train = df.sample(frac = 0.7)\n",
    "train = df.groupby('label').sample(n=150)\n",
    "df2 = df.drop(train.index)\n",
    "validation = df2.sample(frac = 0.5)\n",
    "test = df2.drop(validation.index)"
   ]
  },
  {
   "cell_type": "code",
   "execution_count": 64,
   "id": "eca629dc-dd79-4344-b842-7c6748522f4c",
   "metadata": {
    "execution": {
     "iopub.execute_input": "2024-03-18T13:58:43.621757Z",
     "iopub.status.busy": "2024-03-18T13:58:43.621613Z",
     "iopub.status.idle": "2024-03-18T13:58:43.668029Z",
     "shell.execute_reply": "2024-03-18T13:58:43.667684Z",
     "shell.execute_reply.started": "2024-03-18T13:58:43.621746Z"
    }
   },
   "outputs": [],
   "source": [
    "train.to_csv(\"scratch/train.csv\")\n",
    "validation.to_csv(\"scratch/validation.csv\")\n",
    "test.to_csv(\"scratch/test.csv\")"
   ]
  },
  {
   "cell_type": "code",
   "execution_count": 65,
   "id": "5e5306ab-6f1e-437d-bf74-0cc7056d23e3",
   "metadata": {
    "execution": {
     "iopub.execute_input": "2024-03-18T13:58:46.002261Z",
     "iopub.status.busy": "2024-03-18T13:58:46.002022Z",
     "iopub.status.idle": "2024-03-18T13:58:46.004412Z",
     "shell.execute_reply": "2024-03-18T13:58:46.004115Z",
     "shell.execute_reply.started": "2024-03-18T13:58:46.002250Z"
    }
   },
   "outputs": [
    {
     "name": "stdout",
     "output_type": "stream",
     "text": [
      "300 90 90\n"
     ]
    }
   ],
   "source": [
    "print(len(train),len(validation),len(test))"
   ]
  },
  {
   "cell_type": "code",
   "execution_count": 3,
   "id": "f4f91899-d2cc-45ee-ad61-5531ab28c14a",
   "metadata": {
    "execution": {
     "iopub.execute_input": "2024-03-19T16:07:26.793679Z",
     "iopub.status.busy": "2024-03-19T16:07:26.793285Z",
     "iopub.status.idle": "2024-03-19T16:07:27.244839Z",
     "shell.execute_reply": "2024-03-19T16:07:27.244286Z",
     "shell.execute_reply.started": "2024-03-19T16:07:26.793645Z"
    }
   },
   "outputs": [],
   "source": [
    "dataset = load_dataset(\"csv\", data_files={'train':'scratch/train.csv','validation':'scratch/validation.csv','test': 'scratch/test.csv'})"
   ]
  },
  {
   "cell_type": "code",
   "execution_count": 4,
   "id": "3f4fff83-3224-496b-b5d6-1fd356efdf56",
   "metadata": {
    "execution": {
     "iopub.execute_input": "2024-03-19T16:07:27.254649Z",
     "iopub.status.busy": "2024-03-19T16:07:27.254367Z",
     "iopub.status.idle": "2024-03-19T16:07:27.258802Z",
     "shell.execute_reply": "2024-03-19T16:07:27.258337Z",
     "shell.execute_reply.started": "2024-03-19T16:07:27.254618Z"
    }
   },
   "outputs": [
    {
     "data": {
      "text/plain": [
       "DatasetDict({\n",
       "    train: Dataset({\n",
       "        features: ['Unnamed: 0', 'text', 'label'],\n",
       "        num_rows: 300\n",
       "    })\n",
       "    validation: Dataset({\n",
       "        features: ['Unnamed: 0', 'text', 'label'],\n",
       "        num_rows: 90\n",
       "    })\n",
       "    test: Dataset({\n",
       "        features: ['Unnamed: 0', 'text', 'label'],\n",
       "        num_rows: 90\n",
       "    })\n",
       "})"
      ]
     },
     "execution_count": 4,
     "metadata": {},
     "output_type": "execute_result"
    }
   ],
   "source": [
    "dataset"
   ]
  },
  {
   "cell_type": "code",
   "execution_count": 5,
   "id": "af54eb5d-0b7f-4362-ba1f-9924e59a8b8f",
   "metadata": {
    "execution": {
     "iopub.execute_input": "2024-03-19T16:07:27.991174Z",
     "iopub.status.busy": "2024-03-19T16:07:27.990739Z",
     "iopub.status.idle": "2024-03-19T16:07:27.994093Z",
     "shell.execute_reply": "2024-03-19T16:07:27.993627Z",
     "shell.execute_reply.started": "2024-03-19T16:07:27.991141Z"
    }
   },
   "outputs": [],
   "source": [
    "#train_dataset = sample_dataset(dataset[\"train\"], label_column=\"label\", num_samples=50)\n",
    "#train_dataset = dataset[\"train\"]\n",
    "eval_dataset = dataset[\"validation\"]\n",
    "test_dataset = dataset[\"test\"]"
   ]
  },
  {
   "cell_type": "code",
   "execution_count": 6,
   "id": "eaeabeee-d205-4da6-b371-63eab9929168",
   "metadata": {
    "execution": {
     "iopub.execute_input": "2024-03-19T16:07:31.614262Z",
     "iopub.status.busy": "2024-03-19T16:07:31.613896Z",
     "iopub.status.idle": "2024-03-19T16:07:31.618782Z",
     "shell.execute_reply": "2024-03-19T16:07:31.618300Z",
     "shell.execute_reply.started": "2024-03-19T16:07:31.614229Z"
    }
   },
   "outputs": [],
   "source": [
    "from sklearn.metrics import accuracy_score, precision_score, recall_score, f1_score\n",
    "\n",
    "# Define custom function for computing metrics\n",
    "def compute_metrics(y_pred, y_test):\n",
    "    accuracy = accuracy_score(y_test, y_pred)\n",
    "    precision = precision_score(y_test, y_pred, average='macro')\n",
    "    recall = recall_score(y_test, y_pred, average='macro')\n",
    "    f1 = f1_score(y_test, y_pred, average='macro')\n",
    "    return {\n",
    "        'accuracy': accuracy,\n",
    "        'precision': precision,\n",
    "        'recall': recall,\n",
    "        'f1': f1\n",
    "    }"
   ]
  },
  {
   "cell_type": "code",
   "execution_count": 7,
   "id": "7cd5a139-e877-4e32-8b93-3733d48ad70e",
   "metadata": {
    "execution": {
     "iopub.execute_input": "2024-03-19T16:07:33.421895Z",
     "iopub.status.busy": "2024-03-19T16:07:33.421539Z",
     "iopub.status.idle": "2024-03-19T16:07:33.424713Z",
     "shell.execute_reply": "2024-03-19T16:07:33.424244Z",
     "shell.execute_reply.started": "2024-03-19T16:07:33.421863Z"
    }
   },
   "outputs": [],
   "source": [
    "torch.cuda.empty_cache()"
   ]
  },
  {
   "cell_type": "code",
   "execution_count": 8,
   "id": "28068c7b-ba09-4a38-8cbb-38eeb1f79415",
   "metadata": {
    "execution": {
     "iopub.execute_input": "2024-03-19T16:07:35.116183Z",
     "iopub.status.busy": "2024-03-19T16:07:35.115904Z",
     "iopub.status.idle": "2024-03-19T16:07:35.121614Z",
     "shell.execute_reply": "2024-03-19T16:07:35.121150Z",
     "shell.execute_reply.started": "2024-03-19T16:07:35.116152Z"
    }
   },
   "outputs": [],
   "source": [
    "from setfit import TrainingArguments\n",
    "\n",
    "args = TrainingArguments(\n",
    "    batch_size=16,\n",
    "    num_epochs=1,\n",
    "    max_length=512,\n",
    ")"
   ]
  },
  {
   "cell_type": "code",
   "execution_count": 10,
   "id": "5bf5c8b9-a0c4-4768-873b-85b4d7dd39a5",
   "metadata": {
    "execution": {
     "iopub.execute_input": "2024-03-19T14:36:55.917049Z",
     "iopub.status.busy": "2024-03-19T14:36:55.916649Z",
     "iopub.status.idle": "2024-03-19T15:12:57.863143Z",
     "shell.execute_reply": "2024-03-19T15:12:57.862623Z",
     "shell.execute_reply.started": "2024-03-19T14:36:55.917035Z"
    }
   },
   "outputs": [
    {
     "name": "stdout",
     "output_type": "stream",
     "text": [
      "5\n"
     ]
    },
    {
     "name": "stderr",
     "output_type": "stream",
     "text": [
      "model_head.pkl not found on HuggingFace Hub, initialising classification head with random weights. You should TRAIN this model on a downstream task to use it for predictions and inference.\n"
     ]
    },
    {
     "data": {
      "application/vnd.jupyter.widget-view+json": {
       "model_id": "eecb98b1d5304d7886cf252a33e634ae",
       "version_major": 2,
       "version_minor": 0
      },
      "text/plain": [
       "Map:   0%|          | 0/10 [00:00<?, ? examples/s]"
      ]
     },
     "metadata": {},
     "output_type": "display_data"
    },
    {
     "name": "stderr",
     "output_type": "stream",
     "text": [
      "***** Running training *****\n",
      "  Num unique pairs = 60\n",
      "  Batch size = 16\n",
      "  Num epochs = 1\n",
      "  Total optimization steps = 4\n"
     ]
    },
    {
     "data": {
      "text/html": [
       "\n",
       "    <div>\n",
       "      \n",
       "      <progress value='4' max='4' style='width:300px; height:20px; vertical-align: middle;'></progress>\n",
       "      [4/4 00:00, Epoch 1/0]\n",
       "    </div>\n",
       "    <table border=\"1\" class=\"dataframe\">\n",
       "  <thead>\n",
       " <tr style=\"text-align: left;\">\n",
       "      <th>Step</th>\n",
       "      <th>Training Loss</th>\n",
       "    </tr>\n",
       "  </thead>\n",
       "  <tbody>\n",
       "  </tbody>\n",
       "</table><p>"
      ],
      "text/plain": [
       "<IPython.core.display.HTML object>"
      ]
     },
     "metadata": {},
     "output_type": "display_data"
    },
    {
     "name": "stderr",
     "output_type": "stream",
     "text": [
      "***** Running evaluation *****\n"
     ]
    },
    {
     "name": "stdout",
     "output_type": "stream",
     "text": [
      "{'accuracy': 0.6777777777777778, 'precision': 0.6945187165775402, 'recall': 0.6463046757164403, 'f1': 0.6404463424714149}\n",
      "10\n"
     ]
    },
    {
     "name": "stderr",
     "output_type": "stream",
     "text": [
      "model_head.pkl not found on HuggingFace Hub, initialising classification head with random weights. You should TRAIN this model on a downstream task to use it for predictions and inference.\n"
     ]
    },
    {
     "data": {
      "application/vnd.jupyter.widget-view+json": {
       "model_id": "fb25611090f14de3ae3a24729218e88b",
       "version_major": 2,
       "version_minor": 0
      },
      "text/plain": [
       "Map:   0%|          | 0/20 [00:00<?, ? examples/s]"
      ]
     },
     "metadata": {},
     "output_type": "display_data"
    },
    {
     "name": "stderr",
     "output_type": "stream",
     "text": [
      "***** Running training *****\n",
      "  Num unique pairs = 220\n",
      "  Batch size = 16\n",
      "  Num epochs = 1\n",
      "  Total optimization steps = 14\n"
     ]
    },
    {
     "data": {
      "text/html": [
       "\n",
       "    <div>\n",
       "      \n",
       "      <progress value='14' max='14' style='width:300px; height:20px; vertical-align: middle;'></progress>\n",
       "      [14/14 00:03, Epoch 1/0]\n",
       "    </div>\n",
       "    <table border=\"1\" class=\"dataframe\">\n",
       "  <thead>\n",
       " <tr style=\"text-align: left;\">\n",
       "      <th>Step</th>\n",
       "      <th>Training Loss</th>\n",
       "    </tr>\n",
       "  </thead>\n",
       "  <tbody>\n",
       "  </tbody>\n",
       "</table><p>"
      ],
      "text/plain": [
       "<IPython.core.display.HTML object>"
      ]
     },
     "metadata": {},
     "output_type": "display_data"
    },
    {
     "name": "stderr",
     "output_type": "stream",
     "text": [
      "***** Running evaluation *****\n"
     ]
    },
    {
     "name": "stdout",
     "output_type": "stream",
     "text": [
      "{'accuracy': 0.6777777777777778, 'precision': 0.6712962962962963, 'recall': 0.6674208144796381, 'f1': 0.6685714285714286}\n",
      "25\n"
     ]
    },
    {
     "name": "stderr",
     "output_type": "stream",
     "text": [
      "model_head.pkl not found on HuggingFace Hub, initialising classification head with random weights. You should TRAIN this model on a downstream task to use it for predictions and inference.\n"
     ]
    },
    {
     "data": {
      "application/vnd.jupyter.widget-view+json": {
       "model_id": "af1955c3a6354fa5ab769f8dba74ef2f",
       "version_major": 2,
       "version_minor": 0
      },
      "text/plain": [
       "Map:   0%|          | 0/50 [00:00<?, ? examples/s]"
      ]
     },
     "metadata": {},
     "output_type": "display_data"
    },
    {
     "name": "stderr",
     "output_type": "stream",
     "text": [
      "***** Running training *****\n",
      "  Num unique pairs = 1300\n",
      "  Batch size = 16\n",
      "  Num epochs = 1\n",
      "  Total optimization steps = 82\n"
     ]
    },
    {
     "data": {
      "text/html": [
       "\n",
       "    <div>\n",
       "      \n",
       "      <progress value='82' max='82' style='width:300px; height:20px; vertical-align: middle;'></progress>\n",
       "      [82/82 00:24, Epoch 1/0]\n",
       "    </div>\n",
       "    <table border=\"1\" class=\"dataframe\">\n",
       "  <thead>\n",
       " <tr style=\"text-align: left;\">\n",
       "      <th>Step</th>\n",
       "      <th>Training Loss</th>\n",
       "    </tr>\n",
       "  </thead>\n",
       "  <tbody>\n",
       "  </tbody>\n",
       "</table><p>"
      ],
      "text/plain": [
       "<IPython.core.display.HTML object>"
      ]
     },
     "metadata": {},
     "output_type": "display_data"
    },
    {
     "name": "stderr",
     "output_type": "stream",
     "text": [
      "***** Running evaluation *****\n"
     ]
    },
    {
     "name": "stdout",
     "output_type": "stream",
     "text": [
      "{'accuracy': 0.7888888888888889, 'precision': 0.7899159663865546, 'recall': 0.777526395173454, 'f1': 0.7810779669696581}\n",
      "50\n"
     ]
    },
    {
     "name": "stderr",
     "output_type": "stream",
     "text": [
      "model_head.pkl not found on HuggingFace Hub, initialising classification head with random weights. You should TRAIN this model on a downstream task to use it for predictions and inference.\n"
     ]
    },
    {
     "data": {
      "application/vnd.jupyter.widget-view+json": {
       "model_id": "d8a767d5f60f412fb1d4320bb93f7b42",
       "version_major": 2,
       "version_minor": 0
      },
      "text/plain": [
       "Map:   0%|          | 0/100 [00:00<?, ? examples/s]"
      ]
     },
     "metadata": {},
     "output_type": "display_data"
    },
    {
     "name": "stderr",
     "output_type": "stream",
     "text": [
      "***** Running training *****\n",
      "  Num unique pairs = 5100\n",
      "  Batch size = 16\n",
      "  Num epochs = 1\n",
      "  Total optimization steps = 319\n"
     ]
    },
    {
     "data": {
      "text/html": [
       "\n",
       "    <div>\n",
       "      \n",
       "      <progress value='319' max='319' style='width:300px; height:20px; vertical-align: middle;'></progress>\n",
       "      [319/319 01:34, Epoch 1/0]\n",
       "    </div>\n",
       "    <table border=\"1\" class=\"dataframe\">\n",
       "  <thead>\n",
       " <tr style=\"text-align: left;\">\n",
       "      <th>Step</th>\n",
       "      <th>Training Loss</th>\n",
       "    </tr>\n",
       "  </thead>\n",
       "  <tbody>\n",
       "  </tbody>\n",
       "</table><p>"
      ],
      "text/plain": [
       "<IPython.core.display.HTML object>"
      ]
     },
     "metadata": {},
     "output_type": "display_data"
    },
    {
     "name": "stderr",
     "output_type": "stream",
     "text": [
      "***** Running evaluation *****\n"
     ]
    },
    {
     "name": "stdout",
     "output_type": "stream",
     "text": [
      "{'accuracy': 0.7555555555555555, 'precision': 0.7599781301257518, 'recall': 0.7390648567119156, 'f1': 0.7428571428571429}\n",
      "75\n"
     ]
    },
    {
     "name": "stderr",
     "output_type": "stream",
     "text": [
      "model_head.pkl not found on HuggingFace Hub, initialising classification head with random weights. You should TRAIN this model on a downstream task to use it for predictions and inference.\n"
     ]
    },
    {
     "data": {
      "application/vnd.jupyter.widget-view+json": {
       "model_id": "42aaa45f140f483fa5a46c26febfd584",
       "version_major": 2,
       "version_minor": 0
      },
      "text/plain": [
       "Map:   0%|          | 0/150 [00:00<?, ? examples/s]"
      ]
     },
     "metadata": {},
     "output_type": "display_data"
    },
    {
     "name": "stderr",
     "output_type": "stream",
     "text": [
      "***** Running training *****\n",
      "  Num unique pairs = 11400\n",
      "  Batch size = 16\n",
      "  Num epochs = 1\n",
      "  Total optimization steps = 713\n"
     ]
    },
    {
     "data": {
      "text/html": [
       "\n",
       "    <div>\n",
       "      \n",
       "      <progress value='713' max='713' style='width:300px; height:20px; vertical-align: middle;'></progress>\n",
       "      [713/713 03:32, Epoch 1/0]\n",
       "    </div>\n",
       "    <table border=\"1\" class=\"dataframe\">\n",
       "  <thead>\n",
       " <tr style=\"text-align: left;\">\n",
       "      <th>Step</th>\n",
       "      <th>Training Loss</th>\n",
       "    </tr>\n",
       "  </thead>\n",
       "  <tbody>\n",
       "  </tbody>\n",
       "</table><p>"
      ],
      "text/plain": [
       "<IPython.core.display.HTML object>"
      ]
     },
     "metadata": {},
     "output_type": "display_data"
    },
    {
     "name": "stderr",
     "output_type": "stream",
     "text": [
      "***** Running evaluation *****\n"
     ]
    },
    {
     "name": "stdout",
     "output_type": "stream",
     "text": [
      "{'accuracy': 0.7888888888888889, 'precision': 0.7941810344827587, 'recall': 0.7745098039215685, 'f1': 0.7790412197958392}\n",
      "100\n"
     ]
    },
    {
     "name": "stderr",
     "output_type": "stream",
     "text": [
      "model_head.pkl not found on HuggingFace Hub, initialising classification head with random weights. You should TRAIN this model on a downstream task to use it for predictions and inference.\n"
     ]
    },
    {
     "data": {
      "application/vnd.jupyter.widget-view+json": {
       "model_id": "2e9e73f7c03b4a76a525620cd80ee232",
       "version_major": 2,
       "version_minor": 0
      },
      "text/plain": [
       "Map:   0%|          | 0/200 [00:00<?, ? examples/s]"
      ]
     },
     "metadata": {},
     "output_type": "display_data"
    },
    {
     "name": "stderr",
     "output_type": "stream",
     "text": [
      "***** Running training *****\n",
      "  Num unique pairs = 20200\n",
      "  Batch size = 16\n",
      "  Num epochs = 1\n",
      "  Total optimization steps = 1263\n"
     ]
    },
    {
     "data": {
      "text/html": [
       "\n",
       "    <div>\n",
       "      \n",
       "      <progress value='1263' max='1263' style='width:300px; height:20px; vertical-align: middle;'></progress>\n",
       "      [1263/1263 06:16, Epoch 1/0]\n",
       "    </div>\n",
       "    <table border=\"1\" class=\"dataframe\">\n",
       "  <thead>\n",
       " <tr style=\"text-align: left;\">\n",
       "      <th>Step</th>\n",
       "      <th>Training Loss</th>\n",
       "    </tr>\n",
       "  </thead>\n",
       "  <tbody>\n",
       "  </tbody>\n",
       "</table><p>"
      ],
      "text/plain": [
       "<IPython.core.display.HTML object>"
      ]
     },
     "metadata": {},
     "output_type": "display_data"
    },
    {
     "name": "stderr",
     "output_type": "stream",
     "text": [
      "***** Running evaluation *****\n"
     ]
    },
    {
     "name": "stdout",
     "output_type": "stream",
     "text": [
      "{'accuracy': 0.8555555555555555, 'precision': 0.8984375, 'recall': 0.8333333333333333, 'f1': 0.8434782608695652}\n",
      "125\n"
     ]
    },
    {
     "name": "stderr",
     "output_type": "stream",
     "text": [
      "model_head.pkl not found on HuggingFace Hub, initialising classification head with random weights. You should TRAIN this model on a downstream task to use it for predictions and inference.\n"
     ]
    },
    {
     "data": {
      "application/vnd.jupyter.widget-view+json": {
       "model_id": "50168d2e6f2f43d2b5dee24efa095fa5",
       "version_major": 2,
       "version_minor": 0
      },
      "text/plain": [
       "Map:   0%|          | 0/250 [00:00<?, ? examples/s]"
      ]
     },
     "metadata": {},
     "output_type": "display_data"
    },
    {
     "name": "stderr",
     "output_type": "stream",
     "text": [
      "***** Running training *****\n",
      "  Num unique pairs = 31500\n",
      "  Batch size = 16\n",
      "  Num epochs = 1\n",
      "  Total optimization steps = 1969\n"
     ]
    },
    {
     "data": {
      "text/html": [
       "\n",
       "    <div>\n",
       "      \n",
       "      <progress value='1969' max='1969' style='width:300px; height:20px; vertical-align: middle;'></progress>\n",
       "      [1969/1969 09:47, Epoch 1/0]\n",
       "    </div>\n",
       "    <table border=\"1\" class=\"dataframe\">\n",
       "  <thead>\n",
       " <tr style=\"text-align: left;\">\n",
       "      <th>Step</th>\n",
       "      <th>Training Loss</th>\n",
       "    </tr>\n",
       "  </thead>\n",
       "  <tbody>\n",
       "  </tbody>\n",
       "</table><p>"
      ],
      "text/plain": [
       "<IPython.core.display.HTML object>"
      ]
     },
     "metadata": {},
     "output_type": "display_data"
    },
    {
     "name": "stderr",
     "output_type": "stream",
     "text": [
      "***** Running evaluation *****\n"
     ]
    },
    {
     "name": "stdout",
     "output_type": "stream",
     "text": [
      "{'accuracy': 0.8555555555555555, 'precision': 0.875, 'recall': 0.8393665158371041, 'f1': 0.847238542890717}\n",
      "150\n"
     ]
    },
    {
     "name": "stderr",
     "output_type": "stream",
     "text": [
      "model_head.pkl not found on HuggingFace Hub, initialising classification head with random weights. You should TRAIN this model on a downstream task to use it for predictions and inference.\n"
     ]
    },
    {
     "data": {
      "application/vnd.jupyter.widget-view+json": {
       "model_id": "d9834d2e8ba642aaade696b18530cec7",
       "version_major": 2,
       "version_minor": 0
      },
      "text/plain": [
       "Map:   0%|          | 0/300 [00:00<?, ? examples/s]"
      ]
     },
     "metadata": {},
     "output_type": "display_data"
    },
    {
     "name": "stderr",
     "output_type": "stream",
     "text": [
      "***** Running training *****\n",
      "  Num unique pairs = 45300\n",
      "  Batch size = 16\n",
      "  Num epochs = 1\n",
      "  Total optimization steps = 2832\n"
     ]
    },
    {
     "data": {
      "text/html": [
       "\n",
       "    <div>\n",
       "      \n",
       "      <progress value='2832' max='2832' style='width:300px; height:20px; vertical-align: middle;'></progress>\n",
       "      [2832/2832 14:05, Epoch 1/0]\n",
       "    </div>\n",
       "    <table border=\"1\" class=\"dataframe\">\n",
       "  <thead>\n",
       " <tr style=\"text-align: left;\">\n",
       "      <th>Step</th>\n",
       "      <th>Training Loss</th>\n",
       "    </tr>\n",
       "  </thead>\n",
       "  <tbody>\n",
       "  </tbody>\n",
       "</table><p>"
      ],
      "text/plain": [
       "<IPython.core.display.HTML object>"
      ]
     },
     "metadata": {},
     "output_type": "display_data"
    },
    {
     "name": "stderr",
     "output_type": "stream",
     "text": [
      "***** Running evaluation *****\n"
     ]
    },
    {
     "name": "stdout",
     "output_type": "stream",
     "text": [
      "{'accuracy': 0.8222222222222222, 'precision': 0.8337889557135046, 'recall': 0.8069381598793364, 'f1': 0.812987012987013}\n"
     ]
    }
   ],
   "source": [
    "from setfit import Trainer\n",
    "\n",
    "for i in [5, 10, 25, 50, 75, 100, 125, 150]:\n",
    "    print(i)\n",
    "    model = SetFitModel.from_pretrained(\"BAAI/bge-small-en-v1.5\") #original retrained model need to be loaded for each round\n",
    "    train_dataset = sample_dataset(dataset[\"train\"], label_column=\"label\", num_samples=i)\n",
    "    trainer = Trainer(\n",
    "        model=model,\n",
    "        args=args,\n",
    "        train_dataset=train_dataset,\n",
    "        metric=compute_metrics,\n",
    "    )\n",
    "    trainer.train()\n",
    "    metrics = trainer.evaluate(eval_dataset)\n",
    "    print(metrics)"
   ]
  },
  {
   "cell_type": "code",
   "execution_count": 9,
   "id": "1bfc851c-8d8e-4364-83f7-cd0e1cf2e2a0",
   "metadata": {
    "execution": {
     "iopub.execute_input": "2024-03-19T16:07:51.795575Z",
     "iopub.status.busy": "2024-03-19T16:07:51.795094Z",
     "iopub.status.idle": "2024-03-19T16:14:12.327258Z",
     "shell.execute_reply": "2024-03-19T16:14:12.326490Z",
     "shell.execute_reply.started": "2024-03-19T16:07:51.795541Z"
    },
    "scrolled": true
   },
   "outputs": [
    {
     "data": {
      "application/vnd.jupyter.widget-view+json": {
       "model_id": "8b512807b58e414c838a0bfe4b8ef6c7",
       "version_major": 2,
       "version_minor": 0
      },
      "text/plain": [
       "Map:   0%|          | 0/200 [00:00<?, ? examples/s]"
      ]
     },
     "metadata": {},
     "output_type": "display_data"
    },
    {
     "name": "stderr",
     "output_type": "stream",
     "text": [
      "***** Running training *****\n",
      "  Num unique pairs = 20200\n",
      "  Batch size = 16\n",
      "  Num epochs = 1\n",
      "  Total optimization steps = 1263\n"
     ]
    },
    {
     "data": {
      "text/html": [
       "\n",
       "    <div>\n",
       "      \n",
       "      <progress value='1263' max='1263' style='width:300px; height:20px; vertical-align: middle;'></progress>\n",
       "      [1263/1263 06:18, Epoch 1/0]\n",
       "    </div>\n",
       "    <table border=\"1\" class=\"dataframe\">\n",
       "  <thead>\n",
       " <tr style=\"text-align: left;\">\n",
       "      <th>Step</th>\n",
       "      <th>Training Loss</th>\n",
       "    </tr>\n",
       "  </thead>\n",
       "  <tbody>\n",
       "  </tbody>\n",
       "</table><p>"
      ],
      "text/plain": [
       "<IPython.core.display.HTML object>"
      ]
     },
     "metadata": {},
     "output_type": "display_data"
    },
    {
     "name": "stderr",
     "output_type": "stream",
     "text": [
      "***** Running evaluation *****\n"
     ]
    },
    {
     "name": "stdout",
     "output_type": "stream",
     "text": [
      "{'accuracy': 0.8555555555555555, 'precision': 0.8984375, 'recall': 0.8333333333333333, 'f1': 0.8434782608695652}\n"
     ]
    }
   ],
   "source": [
    "#restart kernel and check 100 sample and 150 sample again to see if the results above is subject to chance or not\n",
    "from setfit import Trainer\n",
    "\n",
    "model = SetFitModel.from_pretrained(\"BAAI/bge-small-en-v1.5\")\n",
    "train_dataset = sample_dataset(dataset[\"train\"], label_column=\"label\", num_samples=100)\n",
    "\n",
    "trainer = Trainer(\n",
    "    model=model,\n",
    "    args=args,\n",
    "    train_dataset=train_dataset,\n",
    "    metric=compute_metrics,\n",
    ")\n",
    "trainer.train()\n",
    "metrics = trainer.evaluate(eval_dataset)\n",
    "print(metrics)"
   ]
  },
  {
   "cell_type": "code",
   "execution_count": 10,
   "id": "c83c314f-b86e-4f0b-9b44-7f9c69c41c0a",
   "metadata": {
    "execution": {
     "iopub.execute_input": "2024-03-19T16:17:26.006072Z",
     "iopub.status.busy": "2024-03-19T16:17:26.005630Z",
     "iopub.status.idle": "2024-03-19T16:31:36.168892Z",
     "shell.execute_reply": "2024-03-19T16:31:36.168146Z",
     "shell.execute_reply.started": "2024-03-19T16:17:26.006037Z"
    }
   },
   "outputs": [
    {
     "name": "stderr",
     "output_type": "stream",
     "text": [
      "model_head.pkl not found on HuggingFace Hub, initialising classification head with random weights. You should TRAIN this model on a downstream task to use it for predictions and inference.\n"
     ]
    },
    {
     "data": {
      "application/vnd.jupyter.widget-view+json": {
       "model_id": "791909e8c2d1472998b2c1de9ad0dd58",
       "version_major": 2,
       "version_minor": 0
      },
      "text/plain": [
       "Map:   0%|          | 0/300 [00:00<?, ? examples/s]"
      ]
     },
     "metadata": {},
     "output_type": "display_data"
    },
    {
     "name": "stderr",
     "output_type": "stream",
     "text": [
      "***** Running training *****\n",
      "  Num unique pairs = 45300\n",
      "  Batch size = 16\n",
      "  Num epochs = 1\n",
      "  Total optimization steps = 2832\n"
     ]
    },
    {
     "data": {
      "text/html": [
       "\n",
       "    <div>\n",
       "      \n",
       "      <progress value='2832' max='2832' style='width:300px; height:20px; vertical-align: middle;'></progress>\n",
       "      [2832/2832 14:07, Epoch 1/0]\n",
       "    </div>\n",
       "    <table border=\"1\" class=\"dataframe\">\n",
       "  <thead>\n",
       " <tr style=\"text-align: left;\">\n",
       "      <th>Step</th>\n",
       "      <th>Training Loss</th>\n",
       "    </tr>\n",
       "  </thead>\n",
       "  <tbody>\n",
       "  </tbody>\n",
       "</table><p>"
      ],
      "text/plain": [
       "<IPython.core.display.HTML object>"
      ]
     },
     "metadata": {},
     "output_type": "display_data"
    },
    {
     "name": "stderr",
     "output_type": "stream",
     "text": [
      "***** Running evaluation *****\n"
     ]
    },
    {
     "name": "stdout",
     "output_type": "stream",
     "text": [
      "{'accuracy': 0.8222222222222222, 'precision': 0.8337889557135046, 'recall': 0.8069381598793364, 'f1': 0.812987012987013}\n"
     ]
    }
   ],
   "source": [
    "from setfit import Trainer\n",
    "\n",
    "model = SetFitModel.from_pretrained(\"BAAI/bge-small-en-v1.5\")\n",
    "train_dataset = sample_dataset(dataset[\"train\"], label_column=\"label\", num_samples=150)\n",
    "\n",
    "trainer = Trainer(\n",
    "    model=model,\n",
    "    args=args,\n",
    "    train_dataset=train_dataset,\n",
    "    metric=compute_metrics,\n",
    ")\n",
    "trainer.train()\n",
    "metrics = trainer.evaluate(eval_dataset)\n",
    "print(metrics)"
   ]
  },
  {
   "cell_type": "code",
   "execution_count": 73,
   "id": "54d97540-d02a-4775-b4b1-091aa26f6431",
   "metadata": {
    "execution": {
     "iopub.execute_input": "2024-03-18T14:02:47.411110Z",
     "iopub.status.busy": "2024-03-18T14:02:47.410486Z",
     "iopub.status.idle": "2024-03-18T14:38:43.376933Z",
     "shell.execute_reply": "2024-03-18T14:38:43.376525Z",
     "shell.execute_reply.started": "2024-03-18T14:02:47.411092Z"
    }
   },
   "outputs": [
    {
     "name": "stdout",
     "output_type": "stream",
     "text": [
      "5\n"
     ]
    },
    {
     "data": {
      "application/vnd.jupyter.widget-view+json": {
       "model_id": "4c1f8ab21cce46b48349e861a8fd8bf6",
       "version_major": 2,
       "version_minor": 0
      },
      "text/plain": [
       "Map:   0%|          | 0/10 [00:00<?, ? examples/s]"
      ]
     },
     "metadata": {},
     "output_type": "display_data"
    },
    {
     "name": "stderr",
     "output_type": "stream",
     "text": [
      "***** Running training *****\n",
      "  Num unique pairs = 60\n",
      "  Batch size = 16\n",
      "  Num epochs = 1\n",
      "  Total optimization steps = 4\n"
     ]
    },
    {
     "data": {
      "text/html": [
       "\n",
       "    <div>\n",
       "      \n",
       "      <progress value='4' max='4' style='width:300px; height:20px; vertical-align: middle;'></progress>\n",
       "      [4/4 00:00, Epoch 1/0]\n",
       "    </div>\n",
       "    <table border=\"1\" class=\"dataframe\">\n",
       "  <thead>\n",
       " <tr style=\"text-align: left;\">\n",
       "      <th>Step</th>\n",
       "      <th>Training Loss</th>\n",
       "    </tr>\n",
       "  </thead>\n",
       "  <tbody>\n",
       "  </tbody>\n",
       "</table><p>"
      ],
      "text/plain": [
       "<IPython.core.display.HTML object>"
      ]
     },
     "metadata": {},
     "output_type": "display_data"
    },
    {
     "name": "stderr",
     "output_type": "stream",
     "text": [
      "***** Running evaluation *****\n"
     ]
    },
    {
     "name": "stdout",
     "output_type": "stream",
     "text": [
      "{'accuracy': 0.8666666666666667, 'precision': 0.8829961727720066, 'recall': 0.852187028657617, 'f1': 0.8597402597402597}\n",
      "10\n"
     ]
    },
    {
     "data": {
      "application/vnd.jupyter.widget-view+json": {
       "model_id": "a6ab90d7e9c14f188e095346bffb0ffd",
       "version_major": 2,
       "version_minor": 0
      },
      "text/plain": [
       "Map:   0%|          | 0/20 [00:00<?, ? examples/s]"
      ]
     },
     "metadata": {},
     "output_type": "display_data"
    },
    {
     "name": "stderr",
     "output_type": "stream",
     "text": [
      "***** Running training *****\n",
      "  Num unique pairs = 220\n",
      "  Batch size = 16\n",
      "  Num epochs = 1\n",
      "  Total optimization steps = 14\n"
     ]
    },
    {
     "data": {
      "text/html": [
       "\n",
       "    <div>\n",
       "      \n",
       "      <progress value='14' max='14' style='width:300px; height:20px; vertical-align: middle;'></progress>\n",
       "      [14/14 00:03, Epoch 1/0]\n",
       "    </div>\n",
       "    <table border=\"1\" class=\"dataframe\">\n",
       "  <thead>\n",
       " <tr style=\"text-align: left;\">\n",
       "      <th>Step</th>\n",
       "      <th>Training Loss</th>\n",
       "    </tr>\n",
       "  </thead>\n",
       "  <tbody>\n",
       "  </tbody>\n",
       "</table><p>"
      ],
      "text/plain": [
       "<IPython.core.display.HTML object>"
      ]
     },
     "metadata": {},
     "output_type": "display_data"
    },
    {
     "name": "stderr",
     "output_type": "stream",
     "text": [
      "***** Running evaluation *****\n"
     ]
    },
    {
     "name": "stdout",
     "output_type": "stream",
     "text": [
      "{'accuracy': 0.8666666666666667, 'precision': 0.8925946862634258, 'recall': 0.8491704374057315, 'f1': 0.8581932773109243}\n",
      "25\n"
     ]
    },
    {
     "data": {
      "application/vnd.jupyter.widget-view+json": {
       "model_id": "8d3639b85dad4be296ad0a811fb40a50",
       "version_major": 2,
       "version_minor": 0
      },
      "text/plain": [
       "Map:   0%|          | 0/50 [00:00<?, ? examples/s]"
      ]
     },
     "metadata": {},
     "output_type": "display_data"
    },
    {
     "name": "stderr",
     "output_type": "stream",
     "text": [
      "***** Running training *****\n",
      "  Num unique pairs = 1300\n",
      "  Batch size = 16\n",
      "  Num epochs = 1\n",
      "  Total optimization steps = 82\n"
     ]
    },
    {
     "data": {
      "text/html": [
       "\n",
       "    <div>\n",
       "      \n",
       "      <progress value='82' max='82' style='width:300px; height:20px; vertical-align: middle;'></progress>\n",
       "      [82/82 00:23, Epoch 1/0]\n",
       "    </div>\n",
       "    <table border=\"1\" class=\"dataframe\">\n",
       "  <thead>\n",
       " <tr style=\"text-align: left;\">\n",
       "      <th>Step</th>\n",
       "      <th>Training Loss</th>\n",
       "    </tr>\n",
       "  </thead>\n",
       "  <tbody>\n",
       "  </tbody>\n",
       "</table><p>"
      ],
      "text/plain": [
       "<IPython.core.display.HTML object>"
      ]
     },
     "metadata": {},
     "output_type": "display_data"
    },
    {
     "name": "stderr",
     "output_type": "stream",
     "text": [
      "***** Running evaluation *****\n"
     ]
    },
    {
     "name": "stdout",
     "output_type": "stream",
     "text": [
      "{'accuracy': 0.8555555555555555, 'precision': 0.875, 'recall': 0.8393665158371041, 'f1': 0.847238542890717}\n",
      "50\n"
     ]
    },
    {
     "data": {
      "application/vnd.jupyter.widget-view+json": {
       "model_id": "da0cfce607734bcbb2b857e40b555781",
       "version_major": 2,
       "version_minor": 0
      },
      "text/plain": [
       "Map:   0%|          | 0/100 [00:00<?, ? examples/s]"
      ]
     },
     "metadata": {},
     "output_type": "display_data"
    },
    {
     "name": "stderr",
     "output_type": "stream",
     "text": [
      "***** Running training *****\n",
      "  Num unique pairs = 5100\n",
      "  Batch size = 16\n",
      "  Num epochs = 1\n",
      "  Total optimization steps = 319\n"
     ]
    },
    {
     "data": {
      "text/html": [
       "\n",
       "    <div>\n",
       "      \n",
       "      <progress value='319' max='319' style='width:300px; height:20px; vertical-align: middle;'></progress>\n",
       "      [319/319 01:34, Epoch 1/0]\n",
       "    </div>\n",
       "    <table border=\"1\" class=\"dataframe\">\n",
       "  <thead>\n",
       " <tr style=\"text-align: left;\">\n",
       "      <th>Step</th>\n",
       "      <th>Training Loss</th>\n",
       "    </tr>\n",
       "  </thead>\n",
       "  <tbody>\n",
       "  </tbody>\n",
       "</table><p>"
      ],
      "text/plain": [
       "<IPython.core.display.HTML object>"
      ]
     },
     "metadata": {},
     "output_type": "display_data"
    },
    {
     "name": "stderr",
     "output_type": "stream",
     "text": [
      "***** Running evaluation *****\n"
     ]
    },
    {
     "name": "stdout",
     "output_type": "stream",
     "text": [
      "{'accuracy': 0.8444444444444444, 'precision': 0.8671565856416055, 'recall': 0.8265460030165912, 'f1': 0.8345588235294118}\n",
      "75\n"
     ]
    },
    {
     "data": {
      "application/vnd.jupyter.widget-view+json": {
       "model_id": "7ccaaa3aac4a4e65b8636f9070a4a8f4",
       "version_major": 2,
       "version_minor": 0
      },
      "text/plain": [
       "Map:   0%|          | 0/150 [00:00<?, ? examples/s]"
      ]
     },
     "metadata": {},
     "output_type": "display_data"
    },
    {
     "name": "stderr",
     "output_type": "stream",
     "text": [
      "***** Running training *****\n",
      "  Num unique pairs = 11400\n",
      "  Batch size = 16\n",
      "  Num epochs = 1\n",
      "  Total optimization steps = 713\n"
     ]
    },
    {
     "data": {
      "text/html": [
       "\n",
       "    <div>\n",
       "      \n",
       "      <progress value='713' max='713' style='width:300px; height:20px; vertical-align: middle;'></progress>\n",
       "      [713/713 03:32, Epoch 1/0]\n",
       "    </div>\n",
       "    <table border=\"1\" class=\"dataframe\">\n",
       "  <thead>\n",
       " <tr style=\"text-align: left;\">\n",
       "      <th>Step</th>\n",
       "      <th>Training Loss</th>\n",
       "    </tr>\n",
       "  </thead>\n",
       "  <tbody>\n",
       "  </tbody>\n",
       "</table><p>"
      ],
      "text/plain": [
       "<IPython.core.display.HTML object>"
      ]
     },
     "metadata": {},
     "output_type": "display_data"
    },
    {
     "name": "stderr",
     "output_type": "stream",
     "text": [
      "***** Running evaluation *****\n"
     ]
    },
    {
     "name": "stdout",
     "output_type": "stream",
     "text": [
      "{'accuracy': 0.8555555555555555, 'precision': 0.875, 'recall': 0.8393665158371041, 'f1': 0.847238542890717}\n",
      "100\n"
     ]
    },
    {
     "data": {
      "application/vnd.jupyter.widget-view+json": {
       "model_id": "a8370c82e46943298e39fe4d7172f2f6",
       "version_major": 2,
       "version_minor": 0
      },
      "text/plain": [
       "Map:   0%|          | 0/200 [00:00<?, ? examples/s]"
      ]
     },
     "metadata": {},
     "output_type": "display_data"
    },
    {
     "name": "stderr",
     "output_type": "stream",
     "text": [
      "***** Running training *****\n",
      "  Num unique pairs = 20200\n",
      "  Batch size = 16\n",
      "  Num epochs = 1\n",
      "  Total optimization steps = 1263\n"
     ]
    },
    {
     "data": {
      "text/html": [
       "\n",
       "    <div>\n",
       "      \n",
       "      <progress value='1263' max='1263' style='width:300px; height:20px; vertical-align: middle;'></progress>\n",
       "      [1263/1263 06:16, Epoch 1/0]\n",
       "    </div>\n",
       "    <table border=\"1\" class=\"dataframe\">\n",
       "  <thead>\n",
       " <tr style=\"text-align: left;\">\n",
       "      <th>Step</th>\n",
       "      <th>Training Loss</th>\n",
       "    </tr>\n",
       "  </thead>\n",
       "  <tbody>\n",
       "  </tbody>\n",
       "</table><p>"
      ],
      "text/plain": [
       "<IPython.core.display.HTML object>"
      ]
     },
     "metadata": {},
     "output_type": "display_data"
    },
    {
     "name": "stderr",
     "output_type": "stream",
     "text": [
      "***** Running evaluation *****\n"
     ]
    },
    {
     "name": "stdout",
     "output_type": "stream",
     "text": [
      "{'accuracy': 0.8666666666666667, 'precision': 0.9047619047619048, 'recall': 0.8461538461538461, 'f1': 0.8564593301435406}\n",
      "125\n"
     ]
    },
    {
     "data": {
      "application/vnd.jupyter.widget-view+json": {
       "model_id": "bd56001d557f4c80b43acdd54acfd444",
       "version_major": 2,
       "version_minor": 0
      },
      "text/plain": [
       "Map:   0%|          | 0/250 [00:00<?, ? examples/s]"
      ]
     },
     "metadata": {},
     "output_type": "display_data"
    },
    {
     "name": "stderr",
     "output_type": "stream",
     "text": [
      "***** Running training *****\n",
      "  Num unique pairs = 31500\n",
      "  Batch size = 16\n",
      "  Num epochs = 1\n",
      "  Total optimization steps = 1969\n"
     ]
    },
    {
     "data": {
      "text/html": [
       "\n",
       "    <div>\n",
       "      \n",
       "      <progress value='1969' max='1969' style='width:300px; height:20px; vertical-align: middle;'></progress>\n",
       "      [1969/1969 09:47, Epoch 1/0]\n",
       "    </div>\n",
       "    <table border=\"1\" class=\"dataframe\">\n",
       "  <thead>\n",
       " <tr style=\"text-align: left;\">\n",
       "      <th>Step</th>\n",
       "      <th>Training Loss</th>\n",
       "    </tr>\n",
       "  </thead>\n",
       "  <tbody>\n",
       "  </tbody>\n",
       "</table><p>"
      ],
      "text/plain": [
       "<IPython.core.display.HTML object>"
      ]
     },
     "metadata": {},
     "output_type": "display_data"
    },
    {
     "name": "stderr",
     "output_type": "stream",
     "text": [
      "***** Running evaluation *****\n"
     ]
    },
    {
     "name": "stdout",
     "output_type": "stream",
     "text": [
      "{'accuracy': 0.8555555555555555, 'precision': 0.88536866359447, 'recall': 0.8363499245852186, 'f1': 0.8454629507330603}\n",
      "150\n"
     ]
    },
    {
     "data": {
      "application/vnd.jupyter.widget-view+json": {
       "model_id": "3228320bb8774e93acb8bb3ab38b7171",
       "version_major": 2,
       "version_minor": 0
      },
      "text/plain": [
       "Map:   0%|          | 0/300 [00:00<?, ? examples/s]"
      ]
     },
     "metadata": {},
     "output_type": "display_data"
    },
    {
     "name": "stderr",
     "output_type": "stream",
     "text": [
      "***** Running training *****\n",
      "  Num unique pairs = 45300\n",
      "  Batch size = 16\n",
      "  Num epochs = 1\n",
      "  Total optimization steps = 2832\n"
     ]
    },
    {
     "data": {
      "text/html": [
       "\n",
       "    <div>\n",
       "      \n",
       "      <progress value='2832' max='2832' style='width:300px; height:20px; vertical-align: middle;'></progress>\n",
       "      [2832/2832 14:05, Epoch 1/0]\n",
       "    </div>\n",
       "    <table border=\"1\" class=\"dataframe\">\n",
       "  <thead>\n",
       " <tr style=\"text-align: left;\">\n",
       "      <th>Step</th>\n",
       "      <th>Training Loss</th>\n",
       "    </tr>\n",
       "  </thead>\n",
       "  <tbody>\n",
       "  </tbody>\n",
       "</table><p>"
      ],
      "text/plain": [
       "<IPython.core.display.HTML object>"
      ]
     },
     "metadata": {},
     "output_type": "display_data"
    },
    {
     "name": "stderr",
     "output_type": "stream",
     "text": [
      "***** Running evaluation *****\n"
     ]
    },
    {
     "name": "stdout",
     "output_type": "stream",
     "text": [
      "{'accuracy': 0.8888888888888888, 'precision': 0.8995215311004785, 'recall': 0.8778280542986425, 'f1': 0.8842592592592593}\n"
     ]
    }
   ],
   "source": [
    "#model was overtrained - results not usable\n",
    "from setfit import Trainer\n",
    "\n",
    "for i in [5, 10, 25, 50, 75, 100, 125, 150]:\n",
    "    print(i)\n",
    "    train_dataset = sample_dataset(dataset[\"train\"], label_column=\"label\", num_samples=i)\n",
    "    trainer = Trainer(\n",
    "        model=model,\n",
    "        args=args,\n",
    "        train_dataset=train_dataset,\n",
    "        metric=compute_metrics,\n",
    "    )\n",
    "    trainer.train()\n",
    "    metrics = trainer.evaluate(eval_dataset)\n",
    "    print(metrics)"
   ]
  },
  {
   "cell_type": "code",
   "execution_count": null,
   "id": "fc027de1-313e-439a-b8ee-1cc2275a0671",
   "metadata": {},
   "outputs": [],
   "source": []
  },
  {
   "cell_type": "markdown",
   "id": "fbe2cc61-a68f-46dd-a44e-201cc1cd0ba6",
   "metadata": {},
   "source": [
    "### Hyperparameter Optimization"
   ]
  },
  {
   "cell_type": "code",
   "execution_count": 55,
   "id": "52ad86ea-c937-4312-8c0b-7d637bd4c748",
   "metadata": {
    "execution": {
     "iopub.execute_input": "2024-03-19T14:10:42.439351Z",
     "iopub.status.busy": "2024-03-19T14:10:42.439097Z",
     "iopub.status.idle": "2024-03-19T14:10:42.442352Z",
     "shell.execute_reply": "2024-03-19T14:10:42.442044Z",
     "shell.execute_reply.started": "2024-03-19T14:10:42.439338Z"
    }
   },
   "outputs": [],
   "source": [
    "from setfit import SetFitModel\n",
    "from typing import Dict, Any\n",
    "\n",
    "def model_init(params: Dict[str, Any]) -> SetFitModel:\n",
    "    params = params or {}\n",
    "    max_iter = params.get(\"max_iter\", 100)\n",
    "    solver = params.get(\"solver\", \"liblinear\")\n",
    "    params = {\n",
    "        \"head_params\": {\n",
    "            \"max_iter\": max_iter,\n",
    "            \"solver\": solver,\n",
    "        }\n",
    "    }\n",
    "    return SetFitModel.from_pretrained(\"BAAI/bge-small-en-v1.5\", **params)"
   ]
  },
  {
   "cell_type": "code",
   "execution_count": 56,
   "id": "e0d55a9c-aa6d-44f3-bf05-f3d2e8e331ea",
   "metadata": {
    "execution": {
     "iopub.execute_input": "2024-03-19T14:10:45.816844Z",
     "iopub.status.busy": "2024-03-19T14:10:45.816429Z",
     "iopub.status.idle": "2024-03-19T14:10:45.820043Z",
     "shell.execute_reply": "2024-03-19T14:10:45.819727Z",
     "shell.execute_reply.started": "2024-03-19T14:10:45.816831Z"
    }
   },
   "outputs": [],
   "source": [
    "from optuna import Trial\n",
    "from typing import Dict, Union\n",
    "\n",
    "def hp_space(trial: Trial) -> Dict[str, Union[float, int, str]]:\n",
    "    return {\n",
    "        \"body_learning_rate\": trial.suggest_float(\"body_learning_rate\", 1e-5, 1e-3, log=True),\n",
    "        \"num_epochs\": trial.suggest_int(\"num_epochs\", 1, 4),\n",
    "        \"batch_size\": trial.suggest_categorical(\"batch_size\", [8, 16, 32, 64]),\n",
    "        \"seed\": trial.suggest_int(\"seed\", 1, 42),\n",
    "        \"max_iter\": trial.suggest_int(\"max_iter\", 50, 300),\n",
    "        \"solver\": trial.suggest_categorical(\"solver\", [\"newton-cg\", \"lbfgs\", \"liblinear\"]),\n",
    "    }"
   ]
  },
  {
   "cell_type": "code",
   "execution_count": 57,
   "id": "34972990-24b4-40cb-a40d-c24b3d6f2649",
   "metadata": {
    "execution": {
     "iopub.execute_input": "2024-03-19T14:10:47.119194Z",
     "iopub.status.busy": "2024-03-19T14:10:47.118937Z",
     "iopub.status.idle": "2024-03-19T14:12:28.875616Z",
     "shell.execute_reply": "2024-03-19T14:12:28.875150Z",
     "shell.execute_reply.started": "2024-03-19T14:10:47.119181Z"
    },
    "scrolled": true
   },
   "outputs": [
    {
     "name": "stderr",
     "output_type": "stream",
     "text": [
      "model_head.pkl not found on HuggingFace Hub, initialising classification head with random weights. You should TRAIN this model on a downstream task to use it for predictions and inference.\n"
     ]
    },
    {
     "data": {
      "application/vnd.jupyter.widget-view+json": {
       "model_id": "e7ea96814b07477892628cf860e17c7f",
       "version_major": 2,
       "version_minor": 0
      },
      "text/plain": [
       "Map:   0%|          | 0/20 [00:00<?, ? examples/s]"
      ]
     },
     "metadata": {},
     "output_type": "display_data"
    },
    {
     "name": "stderr",
     "output_type": "stream",
     "text": [
      "[I 2024-03-19 15:10:47,767] A new study created in memory with name: no-name-b7270f26-c3be-4c6c-b813-4425cf417960\n",
      "Trial: {'body_learning_rate': 0.0002234337811022987, 'num_epochs': 2, 'batch_size': 64, 'seed': 16, 'max_iter': 103, 'solver': 'liblinear'}\n",
      "model_head.pkl not found on HuggingFace Hub, initialising classification head with random weights. You should TRAIN this model on a downstream task to use it for predictions and inference.\n",
      "***** Running training *****\n",
      "  Num unique pairs = 220\n",
      "  Batch size = 64\n",
      "  Num epochs = 2\n",
      "  Total optimization steps = 8\n"
     ]
    },
    {
     "data": {
      "text/html": [
       "\n",
       "    <div>\n",
       "      \n",
       "      <progress value='8' max='8' style='width:300px; height:20px; vertical-align: middle;'></progress>\n",
       "      [8/8 00:06, Epoch 2/0]\n",
       "    </div>\n",
       "    <table border=\"1\" class=\"dataframe\">\n",
       "  <thead>\n",
       " <tr style=\"text-align: left;\">\n",
       "      <th>Step</th>\n",
       "      <th>Training Loss</th>\n",
       "    </tr>\n",
       "  </thead>\n",
       "  <tbody>\n",
       "  </tbody>\n",
       "</table><p>"
      ],
      "text/plain": [
       "<IPython.core.display.HTML object>"
      ]
     },
     "metadata": {},
     "output_type": "display_data"
    },
    {
     "name": "stderr",
     "output_type": "stream",
     "text": [
      "***** Running evaluation *****\n",
      "[I 2024-03-19 15:10:56,536] Trial 0 finished with value: 2.910307358698036 and parameters: {'body_learning_rate': 0.0002234337811022987, 'num_epochs': 2, 'batch_size': 64, 'seed': 16, 'max_iter': 103, 'solver': 'liblinear'}. Best is trial 0 with value: 2.910307358698036.\n",
      "Trial: {'body_learning_rate': 1.1428894284559321e-05, 'num_epochs': 2, 'batch_size': 8, 'seed': 13, 'max_iter': 170, 'solver': 'liblinear'}\n",
      "model_head.pkl not found on HuggingFace Hub, initialising classification head with random weights. You should TRAIN this model on a downstream task to use it for predictions and inference.\n",
      "***** Running training *****\n",
      "  Num unique pairs = 220\n",
      "  Batch size = 8\n",
      "  Num epochs = 2\n",
      "  Total optimization steps = 56\n"
     ]
    },
    {
     "data": {
      "text/html": [
       "\n",
       "    <div>\n",
       "      \n",
       "      <progress value='56' max='56' style='width:300px; height:20px; vertical-align: middle;'></progress>\n",
       "      [56/56 00:08, Epoch 2/0]\n",
       "    </div>\n",
       "    <table border=\"1\" class=\"dataframe\">\n",
       "  <thead>\n",
       " <tr style=\"text-align: left;\">\n",
       "      <th>Step</th>\n",
       "      <th>Training Loss</th>\n",
       "    </tr>\n",
       "  </thead>\n",
       "  <tbody>\n",
       "  </tbody>\n",
       "</table><p>"
      ],
      "text/plain": [
       "<IPython.core.display.HTML object>"
      ]
     },
     "metadata": {},
     "output_type": "display_data"
    },
    {
     "name": "stderr",
     "output_type": "stream",
     "text": [
      "***** Running evaluation *****\n",
      "[I 2024-03-19 15:11:06,505] Trial 1 finished with value: 2.8554776169443654 and parameters: {'body_learning_rate': 1.1428894284559321e-05, 'num_epochs': 2, 'batch_size': 8, 'seed': 13, 'max_iter': 170, 'solver': 'liblinear'}. Best is trial 0 with value: 2.910307358698036.\n",
      "Trial: {'body_learning_rate': 0.0007601729115127736, 'num_epochs': 3, 'batch_size': 16, 'seed': 20, 'max_iter': 144, 'solver': 'lbfgs'}\n",
      "model_head.pkl not found on HuggingFace Hub, initialising classification head with random weights. You should TRAIN this model on a downstream task to use it for predictions and inference.\n",
      "***** Running training *****\n",
      "  Num unique pairs = 220\n",
      "  Batch size = 16\n",
      "  Num epochs = 3\n",
      "  Total optimization steps = 42\n"
     ]
    },
    {
     "data": {
      "text/html": [
       "\n",
       "    <div>\n",
       "      \n",
       "      <progress value='42' max='42' style='width:300px; height:20px; vertical-align: middle;'></progress>\n",
       "      [42/42 00:11, Epoch 3/0]\n",
       "    </div>\n",
       "    <table border=\"1\" class=\"dataframe\">\n",
       "  <thead>\n",
       " <tr style=\"text-align: left;\">\n",
       "      <th>Step</th>\n",
       "      <th>Training Loss</th>\n",
       "    </tr>\n",
       "  </thead>\n",
       "  <tbody>\n",
       "  </tbody>\n",
       "</table><p>"
      ],
      "text/plain": [
       "<IPython.core.display.HTML object>"
      ]
     },
     "metadata": {},
     "output_type": "display_data"
    },
    {
     "name": "stderr",
     "output_type": "stream",
     "text": [
      "***** Running evaluation *****\n",
      "[I 2024-03-19 15:11:20,408] Trial 2 finished with value: 3.184867434602662 and parameters: {'body_learning_rate': 0.0007601729115127736, 'num_epochs': 3, 'batch_size': 16, 'seed': 20, 'max_iter': 144, 'solver': 'lbfgs'}. Best is trial 2 with value: 3.184867434602662.\n",
      "Trial: {'body_learning_rate': 0.0008365166330027014, 'num_epochs': 2, 'batch_size': 16, 'seed': 36, 'max_iter': 292, 'solver': 'lbfgs'}\n",
      "model_head.pkl not found on HuggingFace Hub, initialising classification head with random weights. You should TRAIN this model on a downstream task to use it for predictions and inference.\n",
      "***** Running training *****\n",
      "  Num unique pairs = 220\n",
      "  Batch size = 16\n",
      "  Num epochs = 2\n",
      "  Total optimization steps = 28\n"
     ]
    },
    {
     "data": {
      "text/html": [
       "\n",
       "    <div>\n",
       "      \n",
       "      <progress value='28' max='28' style='width:300px; height:20px; vertical-align: middle;'></progress>\n",
       "      [28/28 00:07, Epoch 2/0]\n",
       "    </div>\n",
       "    <table border=\"1\" class=\"dataframe\">\n",
       "  <thead>\n",
       " <tr style=\"text-align: left;\">\n",
       "      <th>Step</th>\n",
       "      <th>Training Loss</th>\n",
       "    </tr>\n",
       "  </thead>\n",
       "  <tbody>\n",
       "  </tbody>\n",
       "</table><p>"
      ],
      "text/plain": [
       "<IPython.core.display.HTML object>"
      ]
     },
     "metadata": {},
     "output_type": "display_data"
    },
    {
     "name": "stderr",
     "output_type": "stream",
     "text": [
      "***** Running evaluation *****\n",
      "[I 2024-03-19 15:11:29,690] Trial 3 finished with value: 3.013821088785733 and parameters: {'body_learning_rate': 0.0008365166330027014, 'num_epochs': 2, 'batch_size': 16, 'seed': 36, 'max_iter': 292, 'solver': 'lbfgs'}. Best is trial 2 with value: 3.184867434602662.\n",
      "Trial: {'body_learning_rate': 0.00021578560622170597, 'num_epochs': 4, 'batch_size': 16, 'seed': 3, 'max_iter': 241, 'solver': 'newton-cg'}\n",
      "model_head.pkl not found on HuggingFace Hub, initialising classification head with random weights. You should TRAIN this model on a downstream task to use it for predictions and inference.\n",
      "***** Running training *****\n",
      "  Num unique pairs = 220\n",
      "  Batch size = 16\n",
      "  Num epochs = 4\n",
      "  Total optimization steps = 56\n"
     ]
    },
    {
     "data": {
      "text/html": [
       "\n",
       "    <div>\n",
       "      \n",
       "      <progress value='56' max='56' style='width:300px; height:20px; vertical-align: middle;'></progress>\n",
       "      [56/56 00:16, Epoch 4/0]\n",
       "    </div>\n",
       "    <table border=\"1\" class=\"dataframe\">\n",
       "  <thead>\n",
       " <tr style=\"text-align: left;\">\n",
       "      <th>Step</th>\n",
       "      <th>Training Loss</th>\n",
       "    </tr>\n",
       "  </thead>\n",
       "  <tbody>\n",
       "  </tbody>\n",
       "</table><p>"
      ],
      "text/plain": [
       "<IPython.core.display.HTML object>"
      ]
     },
     "metadata": {},
     "output_type": "display_data"
    },
    {
     "name": "stderr",
     "output_type": "stream",
     "text": [
      "/home/xiyan/data/conda/envs/GPU/lib/python3.11/site-packages/scipy/optimize/_linesearch.py:314: LineSearchWarning: The line search algorithm did not converge\n",
      "  warn('The line search algorithm did not converge', LineSearchWarning)\n",
      "/home/xiyan/data/conda/envs/GPU/lib/python3.11/site-packages/sklearn/utils/optimize.py:203: UserWarning: Line Search failed\n",
      "  warnings.warn(\"Line Search failed\")\n",
      "***** Running evaluation *****\n",
      "[I 2024-03-19 15:11:47,163] Trial 4 finished with value: 2.9582185359909565 and parameters: {'body_learning_rate': 0.00021578560622170597, 'num_epochs': 4, 'batch_size': 16, 'seed': 3, 'max_iter': 241, 'solver': 'newton-cg'}. Best is trial 2 with value: 3.184867434602662.\n",
      "Trial: {'body_learning_rate': 2.2025234399704518e-05, 'num_epochs': 1, 'batch_size': 64, 'seed': 3, 'max_iter': 296, 'solver': 'lbfgs'}\n",
      "model_head.pkl not found on HuggingFace Hub, initialising classification head with random weights. You should TRAIN this model on a downstream task to use it for predictions and inference.\n",
      "***** Running training *****\n",
      "  Num unique pairs = 220\n",
      "  Batch size = 64\n",
      "  Num epochs = 1\n",
      "  Total optimization steps = 4\n"
     ]
    },
    {
     "data": {
      "text/html": [
       "\n",
       "    <div>\n",
       "      \n",
       "      <progress value='4' max='4' style='width:300px; height:20px; vertical-align: middle;'></progress>\n",
       "      [4/4 00:02, Epoch 1/0]\n",
       "    </div>\n",
       "    <table border=\"1\" class=\"dataframe\">\n",
       "  <thead>\n",
       " <tr style=\"text-align: left;\">\n",
       "      <th>Step</th>\n",
       "      <th>Training Loss</th>\n",
       "    </tr>\n",
       "  </thead>\n",
       "  <tbody>\n",
       "  </tbody>\n",
       "</table><p>"
      ],
      "text/plain": [
       "<IPython.core.display.HTML object>"
      ]
     },
     "metadata": {},
     "output_type": "display_data"
    },
    {
     "name": "stderr",
     "output_type": "stream",
     "text": [
      "***** Running evaluation *****\n",
      "[I 2024-03-19 15:11:52,724] Trial 5 finished with value: 2.7713070777290163 and parameters: {'body_learning_rate': 2.2025234399704518e-05, 'num_epochs': 1, 'batch_size': 64, 'seed': 3, 'max_iter': 296, 'solver': 'lbfgs'}. Best is trial 2 with value: 3.184867434602662.\n",
      "Trial: {'body_learning_rate': 9.01714561304052e-05, 'num_epochs': 3, 'batch_size': 64, 'seed': 42, 'max_iter': 238, 'solver': 'newton-cg'}\n",
      "model_head.pkl not found on HuggingFace Hub, initialising classification head with random weights. You should TRAIN this model on a downstream task to use it for predictions and inference.\n",
      "***** Running training *****\n",
      "  Num unique pairs = 220\n",
      "  Batch size = 64\n",
      "  Num epochs = 3\n",
      "  Total optimization steps = 12\n"
     ]
    },
    {
     "data": {
      "text/html": [
       "\n",
       "    <div>\n",
       "      \n",
       "      <progress value='12' max='12' style='width:300px; height:20px; vertical-align: middle;'></progress>\n",
       "      [12/12 00:10, Epoch 3/0]\n",
       "    </div>\n",
       "    <table border=\"1\" class=\"dataframe\">\n",
       "  <thead>\n",
       " <tr style=\"text-align: left;\">\n",
       "      <th>Step</th>\n",
       "      <th>Training Loss</th>\n",
       "    </tr>\n",
       "  </thead>\n",
       "  <tbody>\n",
       "  </tbody>\n",
       "</table><p>"
      ],
      "text/plain": [
       "<IPython.core.display.HTML object>"
      ]
     },
     "metadata": {},
     "output_type": "display_data"
    },
    {
     "name": "stderr",
     "output_type": "stream",
     "text": [
      "***** Running evaluation *****\n",
      "[I 2024-03-19 15:12:05,093] Trial 6 finished with value: 2.8628326126514017 and parameters: {'body_learning_rate': 9.01714561304052e-05, 'num_epochs': 3, 'batch_size': 64, 'seed': 42, 'max_iter': 238, 'solver': 'newton-cg'}. Best is trial 2 with value: 3.184867434602662.\n",
      "Trial: {'body_learning_rate': 0.00026605474157681384, 'num_epochs': 2, 'batch_size': 8, 'seed': 18, 'max_iter': 218, 'solver': 'lbfgs'}\n",
      "model_head.pkl not found on HuggingFace Hub, initialising classification head with random weights. You should TRAIN this model on a downstream task to use it for predictions and inference.\n",
      "***** Running training *****\n",
      "  Num unique pairs = 220\n",
      "  Batch size = 8\n",
      "  Num epochs = 2\n",
      "  Total optimization steps = 56\n"
     ]
    },
    {
     "data": {
      "text/html": [
       "\n",
       "    <div>\n",
       "      \n",
       "      <progress value='56' max='56' style='width:300px; height:20px; vertical-align: middle;'></progress>\n",
       "      [56/56 00:08, Epoch 2/0]\n",
       "    </div>\n",
       "    <table border=\"1\" class=\"dataframe\">\n",
       "  <thead>\n",
       " <tr style=\"text-align: left;\">\n",
       "      <th>Step</th>\n",
       "      <th>Training Loss</th>\n",
       "    </tr>\n",
       "  </thead>\n",
       "  <tbody>\n",
       "  </tbody>\n",
       "</table><p>"
      ],
      "text/plain": [
       "<IPython.core.display.HTML object>"
      ]
     },
     "metadata": {},
     "output_type": "display_data"
    },
    {
     "name": "stderr",
     "output_type": "stream",
     "text": [
      "***** Running evaluation *****\n",
      "[I 2024-03-19 15:12:14,704] Trial 7 finished with value: 2.9509536827551535 and parameters: {'body_learning_rate': 0.00026605474157681384, 'num_epochs': 2, 'batch_size': 8, 'seed': 18, 'max_iter': 218, 'solver': 'lbfgs'}. Best is trial 2 with value: 3.184867434602662.\n",
      "Trial: {'body_learning_rate': 1.9907481980999865e-05, 'num_epochs': 2, 'batch_size': 16, 'seed': 40, 'max_iter': 79, 'solver': 'liblinear'}\n",
      "model_head.pkl not found on HuggingFace Hub, initialising classification head with random weights. You should TRAIN this model on a downstream task to use it for predictions and inference.\n",
      "***** Running training *****\n",
      "  Num unique pairs = 220\n",
      "  Batch size = 16\n",
      "  Num epochs = 2\n",
      "  Total optimization steps = 28\n"
     ]
    },
    {
     "data": {
      "text/html": [
       "\n",
       "    <div>\n",
       "      \n",
       "      <progress value='28' max='28' style='width:300px; height:20px; vertical-align: middle;'></progress>\n",
       "      [28/28 00:07, Epoch 2/0]\n",
       "    </div>\n",
       "    <table border=\"1\" class=\"dataframe\">\n",
       "  <thead>\n",
       " <tr style=\"text-align: left;\">\n",
       "      <th>Step</th>\n",
       "      <th>Training Loss</th>\n",
       "    </tr>\n",
       "  </thead>\n",
       "  <tbody>\n",
       "  </tbody>\n",
       "</table><p>"
      ],
      "text/plain": [
       "<IPython.core.display.HTML object>"
      ]
     },
     "metadata": {},
     "output_type": "display_data"
    },
    {
     "name": "stderr",
     "output_type": "stream",
     "text": [
      "***** Running evaluation *****\n",
      "[I 2024-03-19 15:12:23,939] Trial 8 finished with value: 2.857070098822017 and parameters: {'body_learning_rate': 1.9907481980999865e-05, 'num_epochs': 2, 'batch_size': 16, 'seed': 40, 'max_iter': 79, 'solver': 'liblinear'}. Best is trial 2 with value: 3.184867434602662.\n",
      "Trial: {'body_learning_rate': 2.6655487077965046e-05, 'num_epochs': 1, 'batch_size': 64, 'seed': 33, 'max_iter': 91, 'solver': 'newton-cg'}\n",
      "model_head.pkl not found on HuggingFace Hub, initialising classification head with random weights. You should TRAIN this model on a downstream task to use it for predictions and inference.\n",
      "***** Running training *****\n",
      "  Num unique pairs = 220\n",
      "  Batch size = 64\n",
      "  Num epochs = 1\n",
      "  Total optimization steps = 4\n"
     ]
    },
    {
     "data": {
      "text/html": [
       "\n",
       "    <div>\n",
       "      \n",
       "      <progress value='4' max='4' style='width:300px; height:20px; vertical-align: middle;'></progress>\n",
       "      [4/4 00:02, Epoch 1/0]\n",
       "    </div>\n",
       "    <table border=\"1\" class=\"dataframe\">\n",
       "  <thead>\n",
       " <tr style=\"text-align: left;\">\n",
       "      <th>Step</th>\n",
       "      <th>Training Loss</th>\n",
       "    </tr>\n",
       "  </thead>\n",
       "  <tbody>\n",
       "  </tbody>\n",
       "</table><p>"
      ],
      "text/plain": [
       "<IPython.core.display.HTML object>"
      ]
     },
     "metadata": {},
     "output_type": "display_data"
    },
    {
     "name": "stderr",
     "output_type": "stream",
     "text": [
      "***** Running evaluation *****\n",
      "[I 2024-03-19 15:12:28,873] Trial 9 finished with value: 2.727965847166735 and parameters: {'body_learning_rate': 2.6655487077965046e-05, 'num_epochs': 1, 'batch_size': 64, 'seed': 33, 'max_iter': 91, 'solver': 'newton-cg'}. Best is trial 2 with value: 3.184867434602662.\n"
     ]
    }
   ],
   "source": [
    "train_dataset = sample_dataset(dataset[\"train\"], label_column=\"label\", num_samples=10)\n",
    "\n",
    "trainer = Trainer(\n",
    "    train_dataset=train_dataset,\n",
    "    eval_dataset=eval_dataset,\n",
    "    model_init=model_init,\n",
    "    metric=compute_metrics,\n",
    ")\n",
    "best_run = trainer.hyperparameter_search(direction=\"maximize\", hp_space=hp_space, n_trials=10)"
   ]
  },
  {
   "cell_type": "code",
   "execution_count": 58,
   "id": "d8d1c1a6-47fb-416f-aee0-6cc1ab1fdb86",
   "metadata": {
    "execution": {
     "iopub.execute_input": "2024-03-19T14:13:15.112925Z",
     "iopub.status.busy": "2024-03-19T14:13:15.112668Z",
     "iopub.status.idle": "2024-03-19T14:13:15.115487Z",
     "shell.execute_reply": "2024-03-19T14:13:15.115136Z",
     "shell.execute_reply.started": "2024-03-19T14:13:15.112912Z"
    }
   },
   "outputs": [
    {
     "name": "stdout",
     "output_type": "stream",
     "text": [
      "BestRun(run_id='2', objective=3.184867434602662, hyperparameters={'body_learning_rate': 0.0007601729115127736, 'num_epochs': 3, 'batch_size': 16, 'seed': 20, 'max_iter': 144, 'solver': 'lbfgs'}, backend=<optuna.study.study.Study object at 0x14d9ea795250>)\n"
     ]
    }
   ],
   "source": [
    "print(best_run)"
   ]
  },
  {
   "cell_type": "code",
   "execution_count": 59,
   "id": "74de30c2-4d17-43b4-aea1-ae049fa833ca",
   "metadata": {
    "execution": {
     "iopub.execute_input": "2024-03-19T14:13:25.749610Z",
     "iopub.status.busy": "2024-03-19T14:13:25.749337Z",
     "iopub.status.idle": "2024-03-19T14:13:39.017912Z",
     "shell.execute_reply": "2024-03-19T14:13:39.017555Z",
     "shell.execute_reply.started": "2024-03-19T14:13:25.749597Z"
    }
   },
   "outputs": [
    {
     "name": "stderr",
     "output_type": "stream",
     "text": [
      "model_head.pkl not found on HuggingFace Hub, initialising classification head with random weights. You should TRAIN this model on a downstream task to use it for predictions and inference.\n",
      "***** Running training *****\n",
      "  Num unique pairs = 220\n",
      "  Batch size = 16\n",
      "  Num epochs = 3\n",
      "  Total optimization steps = 42\n"
     ]
    },
    {
     "data": {
      "text/html": [
       "\n",
       "    <div>\n",
       "      \n",
       "      <progress value='42' max='42' style='width:300px; height:20px; vertical-align: middle;'></progress>\n",
       "      [42/42 00:12, Epoch 3/0]\n",
       "    </div>\n",
       "    <table border=\"1\" class=\"dataframe\">\n",
       "  <thead>\n",
       " <tr style=\"text-align: left;\">\n",
       "      <th>Step</th>\n",
       "      <th>Training Loss</th>\n",
       "    </tr>\n",
       "  </thead>\n",
       "  <tbody>\n",
       "  </tbody>\n",
       "</table><p>"
      ],
      "text/plain": [
       "<IPython.core.display.HTML object>"
      ]
     },
     "metadata": {},
     "output_type": "display_data"
    }
   ],
   "source": [
    "trainer.apply_hyperparameters(best_run.hyperparameters, final_model=True)\n",
    "trainer.train()"
   ]
  },
  {
   "cell_type": "code",
   "execution_count": 60,
   "id": "1fc4eca4-3e2d-41a0-a26e-35fec4be218c",
   "metadata": {
    "execution": {
     "iopub.execute_input": "2024-03-19T14:13:43.557841Z",
     "iopub.status.busy": "2024-03-19T14:13:43.557514Z",
     "iopub.status.idle": "2024-03-19T14:13:43.914197Z",
     "shell.execute_reply": "2024-03-19T14:13:43.913793Z",
     "shell.execute_reply.started": "2024-03-19T14:13:43.557827Z"
    }
   },
   "outputs": [
    {
     "name": "stderr",
     "output_type": "stream",
     "text": [
      "***** Running evaluation *****\n"
     ]
    },
    {
     "data": {
      "text/plain": [
       "{'accuracy': 0.8,\n",
       " 'precision': 0.8162803843979649,\n",
       " 'recall': 0.7812971342383107,\n",
       " 'f1': 0.7872899159663864}"
      ]
     },
     "execution_count": 60,
     "metadata": {},
     "output_type": "execute_result"
    }
   ],
   "source": [
    "trainer.evaluate(eval_dataset)"
   ]
  },
  {
   "cell_type": "code",
   "execution_count": 61,
   "id": "c89f5c4e-b95a-434c-bc15-1cdb675479ac",
   "metadata": {
    "execution": {
     "iopub.execute_input": "2024-03-19T14:13:47.231363Z",
     "iopub.status.busy": "2024-03-19T14:13:47.230840Z",
     "iopub.status.idle": "2024-03-19T14:13:47.581199Z",
     "shell.execute_reply": "2024-03-19T14:13:47.580800Z",
     "shell.execute_reply.started": "2024-03-19T14:13:47.231347Z"
    }
   },
   "outputs": [
    {
     "name": "stderr",
     "output_type": "stream",
     "text": [
      "***** Running evaluation *****\n"
     ]
    },
    {
     "data": {
      "text/plain": [
       "{'accuracy': 0.7,\n",
       " 'precision': 0.7319711538461539,\n",
       " 'recall': 0.6909945571499257,\n",
       " 'f1': 0.6827262044653348}"
      ]
     },
     "execution_count": 61,
     "metadata": {},
     "output_type": "execute_result"
    }
   ],
   "source": [
    "trainer.evaluate(test_dataset)"
   ]
  },
  {
   "cell_type": "markdown",
   "id": "5b00d21f-8923-4193-a075-25d35dd696a9",
   "metadata": {},
   "source": [
    "### Making predictions"
   ]
  },
  {
   "cell_type": "code",
   "execution_count": null,
   "id": "f7136cfd-cd23-4048-9bef-2a6993cca8c4",
   "metadata": {},
   "outputs": [],
   "source": [
    "preds = model.predict()"
   ]
  },
  {
   "cell_type": "code",
   "execution_count": null,
   "id": "42b33202-1641-438a-8a43-287d5d533070",
   "metadata": {},
   "outputs": [],
   "source": []
  }
 ],
 "metadata": {
  "kernelspec": {
   "display_name": "GPU",
   "language": "python",
   "name": "gpu"
  },
  "language_info": {
   "codemirror_mode": {
    "name": "ipython",
    "version": 3
   },
   "file_extension": ".py",
   "mimetype": "text/x-python",
   "name": "python",
   "nbconvert_exporter": "python",
   "pygments_lexer": "ipython3",
   "version": "3.11.5"
  }
 },
 "nbformat": 4,
 "nbformat_minor": 5
}
