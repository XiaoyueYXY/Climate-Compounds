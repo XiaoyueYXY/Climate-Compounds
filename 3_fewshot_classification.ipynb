{
 "cells": [
  {
   "cell_type": "code",
   "execution_count": 12,
   "id": "f4f4c2a3-aa98-4e13-80a3-0e7c75a717ef",
   "metadata": {
    "execution": {
     "iopub.execute_input": "2024-03-18T11:55:59.743779Z",
     "iopub.status.busy": "2024-03-18T11:55:59.743450Z",
     "iopub.status.idle": "2024-03-18T11:55:59.745796Z",
     "shell.execute_reply": "2024-03-18T11:55:59.745489Z",
     "shell.execute_reply.started": "2024-03-18T11:55:59.743766Z"
    }
   },
   "outputs": [],
   "source": [
    "from setfit import SetFitModel, sample_dataset\n",
    "import pandas as pd\n",
    "from datasets import load_dataset\n",
    "import numpy as np\n",
    "import torch"
   ]
  },
  {
   "cell_type": "markdown",
   "id": "b2f7f2bc-7b7d-40af-9612-1e63a9d6d81d",
   "metadata": {},
   "source": [
    "### Data preperation and model training"
   ]
  },
  {
   "cell_type": "code",
   "execution_count": 2,
   "id": "dd7f7a56-810e-4e73-a476-13f1be7ea3dd",
   "metadata": {
    "execution": {
     "iopub.execute_input": "2024-03-18T11:49:38.342670Z",
     "iopub.status.busy": "2024-03-18T11:49:38.342553Z",
     "iopub.status.idle": "2024-03-18T11:49:39.696180Z",
     "shell.execute_reply": "2024-03-18T11:49:39.695855Z",
     "shell.execute_reply.started": "2024-03-18T11:49:38.342658Z"
    }
   },
   "outputs": [
    {
     "name": "stderr",
     "output_type": "stream",
     "text": [
      "/home/xiyan/data/conda/envs/GPU/lib/python3.11/site-packages/transformers/utils/generic.py:319: UserWarning: torch.utils._pytree._register_pytree_node is deprecated. Please use torch.utils._pytree.register_pytree_node instead.\n",
      "  _torch_pytree._register_pytree_node(\n",
      "model_head.pkl not found on HuggingFace Hub, initialising classification head with random weights. You should TRAIN this model on a downstream task to use it for predictions and inference.\n"
     ]
    }
   ],
   "source": [
    "model = SetFitModel.from_pretrained(\"BAAI/bge-small-en-v1.5\")"
   ]
  },
  {
   "cell_type": "code",
   "execution_count": 45,
   "id": "2b06a68e-6714-4dbe-a43d-afcdefa653db",
   "metadata": {
    "execution": {
     "iopub.execute_input": "2024-03-18T13:24:28.605402Z",
     "iopub.status.busy": "2024-03-18T13:24:28.604897Z",
     "iopub.status.idle": "2024-03-18T13:24:28.774968Z",
     "shell.execute_reply": "2024-03-18T13:24:28.774584Z",
     "shell.execute_reply.started": "2024-03-18T13:24:28.605387Z"
    }
   },
   "outputs": [],
   "source": [
    "dataset = pd.read_csv(\"scratch/3_SML_benchmark.csv\")"
   ]
  },
  {
   "cell_type": "code",
   "execution_count": 46,
   "id": "146dbc25-b733-4170-b52b-fdfe964da4c7",
   "metadata": {
    "execution": {
     "iopub.execute_input": "2024-03-18T13:24:30.486297Z",
     "iopub.status.busy": "2024-03-18T13:24:30.485912Z",
     "iopub.status.idle": "2024-03-18T13:24:30.500089Z",
     "shell.execute_reply": "2024-03-18T13:24:30.499698Z",
     "shell.execute_reply.started": "2024-03-18T13:24:30.486284Z"
    }
   },
   "outputs": [
    {
     "data": {
      "text/html": [
       "<div>\n",
       "<style scoped>\n",
       "    .dataframe tbody tr th:only-of-type {\n",
       "        vertical-align: middle;\n",
       "    }\n",
       "\n",
       "    .dataframe tbody tr th {\n",
       "        vertical-align: top;\n",
       "    }\n",
       "\n",
       "    .dataframe thead th {\n",
       "        text-align: right;\n",
       "    }\n",
       "</style>\n",
       "<table border=\"1\" class=\"dataframe\">\n",
       "  <thead>\n",
       "    <tr style=\"text-align: right;\">\n",
       "      <th></th>\n",
       "      <th>Unnamed: 0</th>\n",
       "      <th>index</th>\n",
       "      <th>filename</th>\n",
       "      <th>text_original</th>\n",
       "      <th>text_clean</th>\n",
       "      <th>date</th>\n",
       "      <th>year</th>\n",
       "      <th>month</th>\n",
       "      <th>outlet</th>\n",
       "      <th>country</th>\n",
       "      <th>south</th>\n",
       "      <th>RA</th>\n",
       "    </tr>\n",
       "  </thead>\n",
       "  <tbody>\n",
       "    <tr>\n",
       "      <th>475</th>\n",
       "      <td>475</td>\n",
       "      <td>101008</td>\n",
       "      <td>newsarticle/Toronto Star/Neutral &amp; Urgent 2006...</td>\n",
       "      <td>\\n   Business\\nTime to invest in foreign stude...</td>\n",
       "      <td>Business Time to invest in foreign students Da...</td>\n",
       "      <td>2022-09-10</td>\n",
       "      <td>2022</td>\n",
       "      <td>9</td>\n",
       "      <td>Toronto Star</td>\n",
       "      <td>Canada</td>\n",
       "      <td>0</td>\n",
       "      <td>0</td>\n",
       "    </tr>\n",
       "    <tr>\n",
       "      <th>476</th>\n",
       "      <td>476</td>\n",
       "      <td>100986</td>\n",
       "      <td>newsarticle/Toronto Star/Neutral &amp; Urgent 2006...</td>\n",
       "      <td>\\n   Politics\\nMeet the Greens who might take ...</td>\n",
       "      <td>Politics Meet the Greens who might take a run ...</td>\n",
       "      <td>2022-07-04</td>\n",
       "      <td>2022</td>\n",
       "      <td>7</td>\n",
       "      <td>Toronto Star</td>\n",
       "      <td>Canada</td>\n",
       "      <td>0</td>\n",
       "      <td>0</td>\n",
       "    </tr>\n",
       "    <tr>\n",
       "      <th>477</th>\n",
       "      <td>477</td>\n",
       "      <td>2962</td>\n",
       "      <td>A cautionary flag for oil development;Study ca...</td>\n",
       "      <td>\\nMarch 1, 2020 Sunday\\n\\n\\nCopyright 2020 Tor...</td>\n",
       "      <td>March 1, 2020 Sunday Copyright 2020 Toronto St...</td>\n",
       "      <td>2020-03-01</td>\n",
       "      <td>2020</td>\n",
       "      <td>3</td>\n",
       "      <td>Toronto Star</td>\n",
       "      <td>Canada</td>\n",
       "      <td>0</td>\n",
       "      <td>0</td>\n",
       "    </tr>\n",
       "    <tr>\n",
       "      <th>478</th>\n",
       "      <td>478</td>\n",
       "      <td>74551</td>\n",
       "      <td>The Toronto Star_2018-8-68.txt</td>\n",
       "      <td>\"\";\"x\"\\n\"1\";\" 82\\n\\n\\n                        ...</td>\n",
       "      <td>\"\";\"x\" \"1\";\" 82 The Toronto Star August 5, 201...</td>\n",
       "      <td>2018-08-01</td>\n",
       "      <td>2018</td>\n",
       "      <td>8</td>\n",
       "      <td>Toronto Star</td>\n",
       "      <td>Canada</td>\n",
       "      <td>0</td>\n",
       "      <td>1</td>\n",
       "    </tr>\n",
       "    <tr>\n",
       "      <th>479</th>\n",
       "      <td>479</td>\n",
       "      <td>72479</td>\n",
       "      <td>The Toronto Star_2011-7-21_39703.txt</td>\n",
       "      <td>\"\";\"x\"\\n\"1\";\"DATE: 21.7.2011\\nHEADLINE: Securi...</td>\n",
       "      <td>\"\";\"x\" \"1\";\"DATE: 21.7.2011 HEADLINE: Security...</td>\n",
       "      <td>2011-07-01</td>\n",
       "      <td>2011</td>\n",
       "      <td>7</td>\n",
       "      <td>Toronto Star</td>\n",
       "      <td>Canada</td>\n",
       "      <td>0</td>\n",
       "      <td>1</td>\n",
       "    </tr>\n",
       "  </tbody>\n",
       "</table>\n",
       "</div>"
      ],
      "text/plain": [
       "     Unnamed: 0   index                                           filename  \\\n",
       "475         475  101008  newsarticle/Toronto Star/Neutral & Urgent 2006...   \n",
       "476         476  100986  newsarticle/Toronto Star/Neutral & Urgent 2006...   \n",
       "477         477    2962  A cautionary flag for oil development;Study ca...   \n",
       "478         478   74551                     The Toronto Star_2018-8-68.txt   \n",
       "479         479   72479               The Toronto Star_2011-7-21_39703.txt   \n",
       "\n",
       "                                         text_original  \\\n",
       "475  \\n   Business\\nTime to invest in foreign stude...   \n",
       "476  \\n   Politics\\nMeet the Greens who might take ...   \n",
       "477  \\nMarch 1, 2020 Sunday\\n\\n\\nCopyright 2020 Tor...   \n",
       "478  \"\";\"x\"\\n\"1\";\" 82\\n\\n\\n                        ...   \n",
       "479  \"\";\"x\"\\n\"1\";\"DATE: 21.7.2011\\nHEADLINE: Securi...   \n",
       "\n",
       "                                            text_clean        date  year  \\\n",
       "475  Business Time to invest in foreign students Da...  2022-09-10  2022   \n",
       "476  Politics Meet the Greens who might take a run ...  2022-07-04  2022   \n",
       "477  March 1, 2020 Sunday Copyright 2020 Toronto St...  2020-03-01  2020   \n",
       "478  \"\";\"x\" \"1\";\" 82 The Toronto Star August 5, 201...  2018-08-01  2018   \n",
       "479  \"\";\"x\" \"1\";\"DATE: 21.7.2011 HEADLINE: Security...  2011-07-01  2011   \n",
       "\n",
       "     month        outlet country  south  RA  \n",
       "475      9  Toronto Star  Canada      0   0  \n",
       "476      7  Toronto Star  Canada      0   0  \n",
       "477      3  Toronto Star  Canada      0   0  \n",
       "478      8  Toronto Star  Canada      0   1  \n",
       "479      7  Toronto Star  Canada      0   1  "
      ]
     },
     "execution_count": 46,
     "metadata": {},
     "output_type": "execute_result"
    }
   ],
   "source": [
    "dataset.tail()"
   ]
  },
  {
   "cell_type": "code",
   "execution_count": 47,
   "id": "7ad8fdb0-cc28-44de-bc4f-4ea455317c38",
   "metadata": {
    "execution": {
     "iopub.execute_input": "2024-03-18T13:24:32.698294Z",
     "iopub.status.busy": "2024-03-18T13:24:32.697947Z",
     "iopub.status.idle": "2024-03-18T13:24:32.701690Z",
     "shell.execute_reply": "2024-03-18T13:24:32.701331Z",
     "shell.execute_reply.started": "2024-03-18T13:24:32.698280Z"
    }
   },
   "outputs": [
    {
     "name": "stderr",
     "output_type": "stream",
     "text": [
      "/sctmp/xiyan/ipykernel_2848872/675981800.py:2: SettingWithCopyWarning: \n",
      "A value is trying to be set on a copy of a slice from a DataFrame\n",
      "\n",
      "See the caveats in the documentation: https://pandas.pydata.org/pandas-docs/stable/user_guide/indexing.html#returning-a-view-versus-a-copy\n",
      "  df.rename(columns={'RA': 'label','text_clean':'text'}, inplace=True)\n"
     ]
    }
   ],
   "source": [
    "df = dataset[[\"text_clean\", \"RA\"]]\n",
    "df.rename(columns={'RA': 'label','text_clean':'text'}, inplace=True)"
   ]
  },
  {
   "cell_type": "code",
   "execution_count": 63,
   "id": "9308be27-1b08-4d17-a57f-5da3075814bc",
   "metadata": {
    "execution": {
     "iopub.execute_input": "2024-03-18T13:58:41.823273Z",
     "iopub.status.busy": "2024-03-18T13:58:41.822910Z",
     "iopub.status.idle": "2024-03-18T13:58:41.828375Z",
     "shell.execute_reply": "2024-03-18T13:58:41.828059Z",
     "shell.execute_reply.started": "2024-03-18T13:58:41.823258Z"
    }
   },
   "outputs": [],
   "source": [
    "#train = df.sample(frac = 0.7)\n",
    "train = df.groupby('label').sample(n=150)\n",
    "df2 = df.drop(train.index)\n",
    "validation = df2.sample(frac = 0.5)\n",
    "test = df2.drop(validation.index)"
   ]
  },
  {
   "cell_type": "code",
   "execution_count": 64,
   "id": "eca629dc-dd79-4344-b842-7c6748522f4c",
   "metadata": {
    "execution": {
     "iopub.execute_input": "2024-03-18T13:58:43.621757Z",
     "iopub.status.busy": "2024-03-18T13:58:43.621613Z",
     "iopub.status.idle": "2024-03-18T13:58:43.668029Z",
     "shell.execute_reply": "2024-03-18T13:58:43.667684Z",
     "shell.execute_reply.started": "2024-03-18T13:58:43.621746Z"
    }
   },
   "outputs": [],
   "source": [
    "train.to_csv(\"scratch/train.csv\")\n",
    "validation.to_csv(\"scratch/validation.csv\")\n",
    "test.to_csv(\"scratch/test.csv\")"
   ]
  },
  {
   "cell_type": "code",
   "execution_count": 65,
   "id": "5e5306ab-6f1e-437d-bf74-0cc7056d23e3",
   "metadata": {
    "execution": {
     "iopub.execute_input": "2024-03-18T13:58:46.002261Z",
     "iopub.status.busy": "2024-03-18T13:58:46.002022Z",
     "iopub.status.idle": "2024-03-18T13:58:46.004412Z",
     "shell.execute_reply": "2024-03-18T13:58:46.004115Z",
     "shell.execute_reply.started": "2024-03-18T13:58:46.002250Z"
    }
   },
   "outputs": [
    {
     "name": "stdout",
     "output_type": "stream",
     "text": [
      "300 90 90\n"
     ]
    }
   ],
   "source": [
    "print(len(train),len(validation),len(test))"
   ]
  },
  {
   "cell_type": "code",
   "execution_count": 66,
   "id": "f4f91899-d2cc-45ee-ad61-5531ab28c14a",
   "metadata": {
    "execution": {
     "iopub.execute_input": "2024-03-18T13:58:50.734169Z",
     "iopub.status.busy": "2024-03-18T13:58:50.733770Z",
     "iopub.status.idle": "2024-03-18T13:58:51.247799Z",
     "shell.execute_reply": "2024-03-18T13:58:51.247402Z",
     "shell.execute_reply.started": "2024-03-18T13:58:50.734154Z"
    }
   },
   "outputs": [
    {
     "data": {
      "application/vnd.jupyter.widget-view+json": {
       "model_id": "1ae91bc995384ec58fa920ba554a8d02",
       "version_major": 2,
       "version_minor": 0
      },
      "text/plain": [
       "Downloading data files:   0%|          | 0/3 [00:00<?, ?it/s]"
      ]
     },
     "metadata": {},
     "output_type": "display_data"
    },
    {
     "data": {
      "application/vnd.jupyter.widget-view+json": {
       "model_id": "4777730e446e47b4a78472f49674e842",
       "version_major": 2,
       "version_minor": 0
      },
      "text/plain": [
       "Extracting data files:   0%|          | 0/3 [00:00<?, ?it/s]"
      ]
     },
     "metadata": {},
     "output_type": "display_data"
    },
    {
     "data": {
      "application/vnd.jupyter.widget-view+json": {
       "model_id": "7e996378d1904f7f98c4a6908c2d4611",
       "version_major": 2,
       "version_minor": 0
      },
      "text/plain": [
       "Generating train split: 0 examples [00:00, ? examples/s]"
      ]
     },
     "metadata": {},
     "output_type": "display_data"
    },
    {
     "data": {
      "application/vnd.jupyter.widget-view+json": {
       "model_id": "68fcfe8e386342b39609f1721a31314d",
       "version_major": 2,
       "version_minor": 0
      },
      "text/plain": [
       "Generating validation split: 0 examples [00:00, ? examples/s]"
      ]
     },
     "metadata": {},
     "output_type": "display_data"
    },
    {
     "data": {
      "application/vnd.jupyter.widget-view+json": {
       "model_id": "2ba9fcb03b3a4b9c8a097924672f9d33",
       "version_major": 2,
       "version_minor": 0
      },
      "text/plain": [
       "Generating test split: 0 examples [00:00, ? examples/s]"
      ]
     },
     "metadata": {},
     "output_type": "display_data"
    }
   ],
   "source": [
    "dataset = load_dataset(\"csv\", data_files={'train':'scratch/train.csv','validation':'scratch/validation.csv','test': 'scratch/test.csv'})"
   ]
  },
  {
   "cell_type": "code",
   "execution_count": 67,
   "id": "3f4fff83-3224-496b-b5d6-1fd356efdf56",
   "metadata": {
    "execution": {
     "iopub.execute_input": "2024-03-18T13:58:53.641067Z",
     "iopub.status.busy": "2024-03-18T13:58:53.640712Z",
     "iopub.status.idle": "2024-03-18T13:58:53.643776Z",
     "shell.execute_reply": "2024-03-18T13:58:53.643485Z",
     "shell.execute_reply.started": "2024-03-18T13:58:53.641051Z"
    }
   },
   "outputs": [
    {
     "data": {
      "text/plain": [
       "DatasetDict({\n",
       "    train: Dataset({\n",
       "        features: ['Unnamed: 0', 'text', 'label'],\n",
       "        num_rows: 300\n",
       "    })\n",
       "    validation: Dataset({\n",
       "        features: ['Unnamed: 0', 'text', 'label'],\n",
       "        num_rows: 90\n",
       "    })\n",
       "    test: Dataset({\n",
       "        features: ['Unnamed: 0', 'text', 'label'],\n",
       "        num_rows: 90\n",
       "    })\n",
       "})"
      ]
     },
     "execution_count": 67,
     "metadata": {},
     "output_type": "execute_result"
    }
   ],
   "source": [
    "dataset"
   ]
  },
  {
   "cell_type": "code",
   "execution_count": 68,
   "id": "af54eb5d-0b7f-4362-ba1f-9924e59a8b8f",
   "metadata": {
    "execution": {
     "iopub.execute_input": "2024-03-18T14:00:38.216081Z",
     "iopub.status.busy": "2024-03-18T14:00:38.215752Z",
     "iopub.status.idle": "2024-03-18T14:00:38.218196Z",
     "shell.execute_reply": "2024-03-18T14:00:38.217886Z",
     "shell.execute_reply.started": "2024-03-18T14:00:38.216067Z"
    }
   },
   "outputs": [],
   "source": [
    "#train_dataset = sample_dataset(dataset[\"train\"], label_column=\"label\", num_samples=50)\n",
    "#train_dataset = dataset[\"train\"]\n",
    "eval_dataset = dataset[\"validation\"]\n",
    "test_dataset = dataset[\"test\"]"
   ]
  },
  {
   "cell_type": "code",
   "execution_count": 57,
   "id": "eaeabeee-d205-4da6-b371-63eab9929168",
   "metadata": {
    "execution": {
     "iopub.execute_input": "2024-03-18T13:26:19.742385Z",
     "iopub.status.busy": "2024-03-18T13:26:19.742027Z",
     "iopub.status.idle": "2024-03-18T13:26:19.745125Z",
     "shell.execute_reply": "2024-03-18T13:26:19.744796Z",
     "shell.execute_reply.started": "2024-03-18T13:26:19.742372Z"
    }
   },
   "outputs": [],
   "source": [
    "from sklearn.metrics import accuracy_score, precision_score, recall_score, f1_score\n",
    "\n",
    "# Define custom function for computing metrics\n",
    "def compute_metrics(y_pred, y_test):\n",
    "    accuracy = accuracy_score(y_test, y_pred)\n",
    "    precision = precision_score(y_test, y_pred, average='macro')\n",
    "    recall = recall_score(y_test, y_pred, average='macro')\n",
    "    f1 = f1_score(y_test, y_pred, average='macro')\n",
    "    return {\n",
    "        'accuracy': accuracy,\n",
    "        'precision': precision,\n",
    "        'recall': recall,\n",
    "        'f1': f1\n",
    "    }"
   ]
  },
  {
   "cell_type": "code",
   "execution_count": 70,
   "id": "7cd5a139-e877-4e32-8b93-3733d48ad70e",
   "metadata": {
    "execution": {
     "iopub.execute_input": "2024-03-18T14:00:58.062783Z",
     "iopub.status.busy": "2024-03-18T14:00:58.062435Z",
     "iopub.status.idle": "2024-03-18T14:00:58.089700Z",
     "shell.execute_reply": "2024-03-18T14:00:58.089340Z",
     "shell.execute_reply.started": "2024-03-18T14:00:58.062769Z"
    }
   },
   "outputs": [],
   "source": [
    "torch.cuda.empty_cache()"
   ]
  },
  {
   "cell_type": "code",
   "execution_count": 69,
   "id": "28068c7b-ba09-4a38-8cbb-38eeb1f79415",
   "metadata": {
    "execution": {
     "iopub.execute_input": "2024-03-18T14:00:48.225308Z",
     "iopub.status.busy": "2024-03-18T14:00:48.224971Z",
     "iopub.status.idle": "2024-03-18T14:00:48.228554Z",
     "shell.execute_reply": "2024-03-18T14:00:48.228255Z",
     "shell.execute_reply.started": "2024-03-18T14:00:48.225294Z"
    }
   },
   "outputs": [],
   "source": [
    "from setfit import TrainingArguments\n",
    "\n",
    "args = TrainingArguments(\n",
    "    batch_size=16,\n",
    "    num_epochs=1,\n",
    ")"
   ]
  },
  {
   "cell_type": "code",
   "execution_count": 73,
   "id": "54d97540-d02a-4775-b4b1-091aa26f6431",
   "metadata": {
    "execution": {
     "iopub.execute_input": "2024-03-18T14:02:47.411110Z",
     "iopub.status.busy": "2024-03-18T14:02:47.410486Z",
     "iopub.status.idle": "2024-03-18T14:38:43.376933Z",
     "shell.execute_reply": "2024-03-18T14:38:43.376525Z",
     "shell.execute_reply.started": "2024-03-18T14:02:47.411092Z"
    }
   },
   "outputs": [
    {
     "name": "stdout",
     "output_type": "stream",
     "text": [
      "5\n"
     ]
    },
    {
     "data": {
      "application/vnd.jupyter.widget-view+json": {
       "model_id": "4c1f8ab21cce46b48349e861a8fd8bf6",
       "version_major": 2,
       "version_minor": 0
      },
      "text/plain": [
       "Map:   0%|          | 0/10 [00:00<?, ? examples/s]"
      ]
     },
     "metadata": {},
     "output_type": "display_data"
    },
    {
     "name": "stderr",
     "output_type": "stream",
     "text": [
      "***** Running training *****\n",
      "  Num unique pairs = 60\n",
      "  Batch size = 16\n",
      "  Num epochs = 1\n",
      "  Total optimization steps = 4\n"
     ]
    },
    {
     "data": {
      "text/html": [
       "\n",
       "    <div>\n",
       "      \n",
       "      <progress value='4' max='4' style='width:300px; height:20px; vertical-align: middle;'></progress>\n",
       "      [4/4 00:00, Epoch 1/0]\n",
       "    </div>\n",
       "    <table border=\"1\" class=\"dataframe\">\n",
       "  <thead>\n",
       " <tr style=\"text-align: left;\">\n",
       "      <th>Step</th>\n",
       "      <th>Training Loss</th>\n",
       "    </tr>\n",
       "  </thead>\n",
       "  <tbody>\n",
       "  </tbody>\n",
       "</table><p>"
      ],
      "text/plain": [
       "<IPython.core.display.HTML object>"
      ]
     },
     "metadata": {},
     "output_type": "display_data"
    },
    {
     "name": "stderr",
     "output_type": "stream",
     "text": [
      "***** Running evaluation *****\n"
     ]
    },
    {
     "name": "stdout",
     "output_type": "stream",
     "text": [
      "{'accuracy': 0.8666666666666667, 'precision': 0.8829961727720066, 'recall': 0.852187028657617, 'f1': 0.8597402597402597}\n",
      "10\n"
     ]
    },
    {
     "data": {
      "application/vnd.jupyter.widget-view+json": {
       "model_id": "a6ab90d7e9c14f188e095346bffb0ffd",
       "version_major": 2,
       "version_minor": 0
      },
      "text/plain": [
       "Map:   0%|          | 0/20 [00:00<?, ? examples/s]"
      ]
     },
     "metadata": {},
     "output_type": "display_data"
    },
    {
     "name": "stderr",
     "output_type": "stream",
     "text": [
      "***** Running training *****\n",
      "  Num unique pairs = 220\n",
      "  Batch size = 16\n",
      "  Num epochs = 1\n",
      "  Total optimization steps = 14\n"
     ]
    },
    {
     "data": {
      "text/html": [
       "\n",
       "    <div>\n",
       "      \n",
       "      <progress value='14' max='14' style='width:300px; height:20px; vertical-align: middle;'></progress>\n",
       "      [14/14 00:03, Epoch 1/0]\n",
       "    </div>\n",
       "    <table border=\"1\" class=\"dataframe\">\n",
       "  <thead>\n",
       " <tr style=\"text-align: left;\">\n",
       "      <th>Step</th>\n",
       "      <th>Training Loss</th>\n",
       "    </tr>\n",
       "  </thead>\n",
       "  <tbody>\n",
       "  </tbody>\n",
       "</table><p>"
      ],
      "text/plain": [
       "<IPython.core.display.HTML object>"
      ]
     },
     "metadata": {},
     "output_type": "display_data"
    },
    {
     "name": "stderr",
     "output_type": "stream",
     "text": [
      "***** Running evaluation *****\n"
     ]
    },
    {
     "name": "stdout",
     "output_type": "stream",
     "text": [
      "{'accuracy': 0.8666666666666667, 'precision': 0.8925946862634258, 'recall': 0.8491704374057315, 'f1': 0.8581932773109243}\n",
      "25\n"
     ]
    },
    {
     "data": {
      "application/vnd.jupyter.widget-view+json": {
       "model_id": "8d3639b85dad4be296ad0a811fb40a50",
       "version_major": 2,
       "version_minor": 0
      },
      "text/plain": [
       "Map:   0%|          | 0/50 [00:00<?, ? examples/s]"
      ]
     },
     "metadata": {},
     "output_type": "display_data"
    },
    {
     "name": "stderr",
     "output_type": "stream",
     "text": [
      "***** Running training *****\n",
      "  Num unique pairs = 1300\n",
      "  Batch size = 16\n",
      "  Num epochs = 1\n",
      "  Total optimization steps = 82\n"
     ]
    },
    {
     "data": {
      "text/html": [
       "\n",
       "    <div>\n",
       "      \n",
       "      <progress value='82' max='82' style='width:300px; height:20px; vertical-align: middle;'></progress>\n",
       "      [82/82 00:23, Epoch 1/0]\n",
       "    </div>\n",
       "    <table border=\"1\" class=\"dataframe\">\n",
       "  <thead>\n",
       " <tr style=\"text-align: left;\">\n",
       "      <th>Step</th>\n",
       "      <th>Training Loss</th>\n",
       "    </tr>\n",
       "  </thead>\n",
       "  <tbody>\n",
       "  </tbody>\n",
       "</table><p>"
      ],
      "text/plain": [
       "<IPython.core.display.HTML object>"
      ]
     },
     "metadata": {},
     "output_type": "display_data"
    },
    {
     "name": "stderr",
     "output_type": "stream",
     "text": [
      "***** Running evaluation *****\n"
     ]
    },
    {
     "name": "stdout",
     "output_type": "stream",
     "text": [
      "{'accuracy': 0.8555555555555555, 'precision': 0.875, 'recall': 0.8393665158371041, 'f1': 0.847238542890717}\n",
      "50\n"
     ]
    },
    {
     "data": {
      "application/vnd.jupyter.widget-view+json": {
       "model_id": "da0cfce607734bcbb2b857e40b555781",
       "version_major": 2,
       "version_minor": 0
      },
      "text/plain": [
       "Map:   0%|          | 0/100 [00:00<?, ? examples/s]"
      ]
     },
     "metadata": {},
     "output_type": "display_data"
    },
    {
     "name": "stderr",
     "output_type": "stream",
     "text": [
      "***** Running training *****\n",
      "  Num unique pairs = 5100\n",
      "  Batch size = 16\n",
      "  Num epochs = 1\n",
      "  Total optimization steps = 319\n"
     ]
    },
    {
     "data": {
      "text/html": [
       "\n",
       "    <div>\n",
       "      \n",
       "      <progress value='319' max='319' style='width:300px; height:20px; vertical-align: middle;'></progress>\n",
       "      [319/319 01:34, Epoch 1/0]\n",
       "    </div>\n",
       "    <table border=\"1\" class=\"dataframe\">\n",
       "  <thead>\n",
       " <tr style=\"text-align: left;\">\n",
       "      <th>Step</th>\n",
       "      <th>Training Loss</th>\n",
       "    </tr>\n",
       "  </thead>\n",
       "  <tbody>\n",
       "  </tbody>\n",
       "</table><p>"
      ],
      "text/plain": [
       "<IPython.core.display.HTML object>"
      ]
     },
     "metadata": {},
     "output_type": "display_data"
    },
    {
     "name": "stderr",
     "output_type": "stream",
     "text": [
      "***** Running evaluation *****\n"
     ]
    },
    {
     "name": "stdout",
     "output_type": "stream",
     "text": [
      "{'accuracy': 0.8444444444444444, 'precision': 0.8671565856416055, 'recall': 0.8265460030165912, 'f1': 0.8345588235294118}\n",
      "75\n"
     ]
    },
    {
     "data": {
      "application/vnd.jupyter.widget-view+json": {
       "model_id": "7ccaaa3aac4a4e65b8636f9070a4a8f4",
       "version_major": 2,
       "version_minor": 0
      },
      "text/plain": [
       "Map:   0%|          | 0/150 [00:00<?, ? examples/s]"
      ]
     },
     "metadata": {},
     "output_type": "display_data"
    },
    {
     "name": "stderr",
     "output_type": "stream",
     "text": [
      "***** Running training *****\n",
      "  Num unique pairs = 11400\n",
      "  Batch size = 16\n",
      "  Num epochs = 1\n",
      "  Total optimization steps = 713\n"
     ]
    },
    {
     "data": {
      "text/html": [
       "\n",
       "    <div>\n",
       "      \n",
       "      <progress value='713' max='713' style='width:300px; height:20px; vertical-align: middle;'></progress>\n",
       "      [713/713 03:32, Epoch 1/0]\n",
       "    </div>\n",
       "    <table border=\"1\" class=\"dataframe\">\n",
       "  <thead>\n",
       " <tr style=\"text-align: left;\">\n",
       "      <th>Step</th>\n",
       "      <th>Training Loss</th>\n",
       "    </tr>\n",
       "  </thead>\n",
       "  <tbody>\n",
       "  </tbody>\n",
       "</table><p>"
      ],
      "text/plain": [
       "<IPython.core.display.HTML object>"
      ]
     },
     "metadata": {},
     "output_type": "display_data"
    },
    {
     "name": "stderr",
     "output_type": "stream",
     "text": [
      "***** Running evaluation *****\n"
     ]
    },
    {
     "name": "stdout",
     "output_type": "stream",
     "text": [
      "{'accuracy': 0.8555555555555555, 'precision': 0.875, 'recall': 0.8393665158371041, 'f1': 0.847238542890717}\n",
      "100\n"
     ]
    },
    {
     "data": {
      "application/vnd.jupyter.widget-view+json": {
       "model_id": "a8370c82e46943298e39fe4d7172f2f6",
       "version_major": 2,
       "version_minor": 0
      },
      "text/plain": [
       "Map:   0%|          | 0/200 [00:00<?, ? examples/s]"
      ]
     },
     "metadata": {},
     "output_type": "display_data"
    },
    {
     "name": "stderr",
     "output_type": "stream",
     "text": [
      "***** Running training *****\n",
      "  Num unique pairs = 20200\n",
      "  Batch size = 16\n",
      "  Num epochs = 1\n",
      "  Total optimization steps = 1263\n"
     ]
    },
    {
     "data": {
      "text/html": [
       "\n",
       "    <div>\n",
       "      \n",
       "      <progress value='1263' max='1263' style='width:300px; height:20px; vertical-align: middle;'></progress>\n",
       "      [1263/1263 06:16, Epoch 1/0]\n",
       "    </div>\n",
       "    <table border=\"1\" class=\"dataframe\">\n",
       "  <thead>\n",
       " <tr style=\"text-align: left;\">\n",
       "      <th>Step</th>\n",
       "      <th>Training Loss</th>\n",
       "    </tr>\n",
       "  </thead>\n",
       "  <tbody>\n",
       "  </tbody>\n",
       "</table><p>"
      ],
      "text/plain": [
       "<IPython.core.display.HTML object>"
      ]
     },
     "metadata": {},
     "output_type": "display_data"
    },
    {
     "name": "stderr",
     "output_type": "stream",
     "text": [
      "***** Running evaluation *****\n"
     ]
    },
    {
     "name": "stdout",
     "output_type": "stream",
     "text": [
      "{'accuracy': 0.8666666666666667, 'precision': 0.9047619047619048, 'recall': 0.8461538461538461, 'f1': 0.8564593301435406}\n",
      "125\n"
     ]
    },
    {
     "data": {
      "application/vnd.jupyter.widget-view+json": {
       "model_id": "bd56001d557f4c80b43acdd54acfd444",
       "version_major": 2,
       "version_minor": 0
      },
      "text/plain": [
       "Map:   0%|          | 0/250 [00:00<?, ? examples/s]"
      ]
     },
     "metadata": {},
     "output_type": "display_data"
    },
    {
     "name": "stderr",
     "output_type": "stream",
     "text": [
      "***** Running training *****\n",
      "  Num unique pairs = 31500\n",
      "  Batch size = 16\n",
      "  Num epochs = 1\n",
      "  Total optimization steps = 1969\n"
     ]
    },
    {
     "data": {
      "text/html": [
       "\n",
       "    <div>\n",
       "      \n",
       "      <progress value='1969' max='1969' style='width:300px; height:20px; vertical-align: middle;'></progress>\n",
       "      [1969/1969 09:47, Epoch 1/0]\n",
       "    </div>\n",
       "    <table border=\"1\" class=\"dataframe\">\n",
       "  <thead>\n",
       " <tr style=\"text-align: left;\">\n",
       "      <th>Step</th>\n",
       "      <th>Training Loss</th>\n",
       "    </tr>\n",
       "  </thead>\n",
       "  <tbody>\n",
       "  </tbody>\n",
       "</table><p>"
      ],
      "text/plain": [
       "<IPython.core.display.HTML object>"
      ]
     },
     "metadata": {},
     "output_type": "display_data"
    },
    {
     "name": "stderr",
     "output_type": "stream",
     "text": [
      "***** Running evaluation *****\n"
     ]
    },
    {
     "name": "stdout",
     "output_type": "stream",
     "text": [
      "{'accuracy': 0.8555555555555555, 'precision': 0.88536866359447, 'recall': 0.8363499245852186, 'f1': 0.8454629507330603}\n",
      "150\n"
     ]
    },
    {
     "data": {
      "application/vnd.jupyter.widget-view+json": {
       "model_id": "3228320bb8774e93acb8bb3ab38b7171",
       "version_major": 2,
       "version_minor": 0
      },
      "text/plain": [
       "Map:   0%|          | 0/300 [00:00<?, ? examples/s]"
      ]
     },
     "metadata": {},
     "output_type": "display_data"
    },
    {
     "name": "stderr",
     "output_type": "stream",
     "text": [
      "***** Running training *****\n",
      "  Num unique pairs = 45300\n",
      "  Batch size = 16\n",
      "  Num epochs = 1\n",
      "  Total optimization steps = 2832\n"
     ]
    },
    {
     "data": {
      "text/html": [
       "\n",
       "    <div>\n",
       "      \n",
       "      <progress value='2832' max='2832' style='width:300px; height:20px; vertical-align: middle;'></progress>\n",
       "      [2832/2832 14:05, Epoch 1/0]\n",
       "    </div>\n",
       "    <table border=\"1\" class=\"dataframe\">\n",
       "  <thead>\n",
       " <tr style=\"text-align: left;\">\n",
       "      <th>Step</th>\n",
       "      <th>Training Loss</th>\n",
       "    </tr>\n",
       "  </thead>\n",
       "  <tbody>\n",
       "  </tbody>\n",
       "</table><p>"
      ],
      "text/plain": [
       "<IPython.core.display.HTML object>"
      ]
     },
     "metadata": {},
     "output_type": "display_data"
    },
    {
     "name": "stderr",
     "output_type": "stream",
     "text": [
      "***** Running evaluation *****\n"
     ]
    },
    {
     "name": "stdout",
     "output_type": "stream",
     "text": [
      "{'accuracy': 0.8888888888888888, 'precision': 0.8995215311004785, 'recall': 0.8778280542986425, 'f1': 0.8842592592592593}\n"
     ]
    }
   ],
   "source": [
    "from setfit import Trainer\n",
    "\n",
    "for i in [5, 10, 25, 50, 75, 100, 125, 150]:\n",
    "    print(i)\n",
    "    train_dataset = sample_dataset(dataset[\"train\"], label_column=\"label\", num_samples=i)\n",
    "    trainer = Trainer(\n",
    "        model=model,\n",
    "        args=args,\n",
    "        train_dataset=train_dataset,\n",
    "        metric=compute_metrics,\n",
    "    )\n",
    "    trainer.train()\n",
    "    metrics = trainer.evaluate(eval_dataset)\n",
    "    print(metrics)"
   ]
  },
  {
   "cell_type": "code",
   "execution_count": null,
   "id": "fc027de1-313e-439a-b8ee-1cc2275a0671",
   "metadata": {},
   "outputs": [],
   "source": []
  },
  {
   "cell_type": "markdown",
   "id": "fbe2cc61-a68f-46dd-a44e-201cc1cd0ba6",
   "metadata": {},
   "source": [
    "### Hyperparameter Optimization"
   ]
  },
  {
   "cell_type": "code",
   "execution_count": 74,
   "id": "52ad86ea-c937-4312-8c0b-7d637bd4c748",
   "metadata": {
    "execution": {
     "iopub.execute_input": "2024-03-18T14:57:40.923670Z",
     "iopub.status.busy": "2024-03-18T14:57:40.923333Z",
     "iopub.status.idle": "2024-03-18T14:57:40.926655Z",
     "shell.execute_reply": "2024-03-18T14:57:40.926349Z",
     "shell.execute_reply.started": "2024-03-18T14:57:40.923656Z"
    }
   },
   "outputs": [],
   "source": [
    "from setfit import SetFitModel\n",
    "from typing import Dict, Any\n",
    "\n",
    "def model_init(params: Dict[str, Any]) -> SetFitModel:\n",
    "    params = params or {}\n",
    "    max_iter = params.get(\"max_iter\", 100)\n",
    "    solver = params.get(\"solver\", \"liblinear\")\n",
    "    params = {\n",
    "        \"head_params\": {\n",
    "            \"max_iter\": max_iter,\n",
    "            \"solver\": solver,\n",
    "        }\n",
    "    }\n",
    "    return SetFitModel.from_pretrained(\"BAAI/bge-small-en-v1.5\", **params)"
   ]
  },
  {
   "cell_type": "code",
   "execution_count": 106,
   "id": "e0d55a9c-aa6d-44f3-bf05-f3d2e8e331ea",
   "metadata": {
    "execution": {
     "iopub.execute_input": "2024-03-18T16:24:09.772452Z",
     "iopub.status.busy": "2024-03-18T16:24:09.771955Z",
     "iopub.status.idle": "2024-03-18T16:24:09.775781Z",
     "shell.execute_reply": "2024-03-18T16:24:09.775377Z",
     "shell.execute_reply.started": "2024-03-18T16:24:09.772437Z"
    }
   },
   "outputs": [],
   "source": [
    "from optuna import Trial\n",
    "from typing import Dict, Union\n",
    "\n",
    "def hp_space(trial: Trial) -> Dict[str, Union[float, int, str]]:\n",
    "    return {\n",
    "        \"body_learning_rate\": trial.suggest_float(\"body_learning_rate\", 1e-5, 1e-3, log=True),\n",
    "        \"num_epochs\": trial.suggest_int(\"num_epochs\", 1, 3),\n",
    "        \"batch_size\": trial.suggest_categorical(\"batch_size\", [8, 16, 32, 64]),\n",
    "        \"seed\": trial.suggest_int(\"seed\", 1, 40),\n",
    "        \"max_iter\": trial.suggest_int(\"max_iter\", 50, 300),\n",
    "        \"solver\": trial.suggest_categorical(\"solver\", [\"newton-cg\", \"lbfgs\", \"liblinear\"]),\n",
    "    }"
   ]
  },
  {
   "cell_type": "code",
   "execution_count": 107,
   "id": "34972990-24b4-40cb-a40d-c24b3d6f2649",
   "metadata": {
    "execution": {
     "iopub.execute_input": "2024-03-18T16:24:12.976023Z",
     "iopub.status.busy": "2024-03-18T16:24:12.975579Z",
     "iopub.status.idle": "2024-03-18T16:25:52.919468Z",
     "shell.execute_reply": "2024-03-18T16:25:52.918977Z",
     "shell.execute_reply.started": "2024-03-18T16:24:12.976009Z"
    },
    "scrolled": true
   },
   "outputs": [
    {
     "name": "stderr",
     "output_type": "stream",
     "text": [
      "model_head.pkl not found on HuggingFace Hub, initialising classification head with random weights. You should TRAIN this model on a downstream task to use it for predictions and inference.\n"
     ]
    },
    {
     "data": {
      "application/vnd.jupyter.widget-view+json": {
       "model_id": "a44bb8cc31da469296464107f1da9e94",
       "version_major": 2,
       "version_minor": 0
      },
      "text/plain": [
       "Map:   0%|          | 0/20 [00:00<?, ? examples/s]"
      ]
     },
     "metadata": {},
     "output_type": "display_data"
    },
    {
     "name": "stderr",
     "output_type": "stream",
     "text": [
      "[I 2024-03-18 17:24:13,653] A new study created in memory with name: no-name-79619705-441e-45a3-88c5-e21a85cd7b3c\n",
      "Trial: {'body_learning_rate': 1.1065254207186703e-05, 'num_epochs': 2, 'batch_size': 8, 'solver': 'newton-cg'}\n",
      "model_head.pkl not found on HuggingFace Hub, initialising classification head with random weights. You should TRAIN this model on a downstream task to use it for predictions and inference.\n",
      "***** Running training *****\n",
      "  Num unique pairs = 220\n",
      "  Batch size = 8\n",
      "  Num epochs = 2\n",
      "  Total optimization steps = 56\n"
     ]
    },
    {
     "data": {
      "text/html": [
       "\n",
       "    <div>\n",
       "      \n",
       "      <progress value='56' max='56' style='width:300px; height:20px; vertical-align: middle;'></progress>\n",
       "      [56/56 00:08, Epoch 2/0]\n",
       "    </div>\n",
       "    <table border=\"1\" class=\"dataframe\">\n",
       "  <thead>\n",
       " <tr style=\"text-align: left;\">\n",
       "      <th>Step</th>\n",
       "      <th>Training Loss</th>\n",
       "    </tr>\n",
       "  </thead>\n",
       "  <tbody>\n",
       "  </tbody>\n",
       "</table><p>"
      ],
      "text/plain": [
       "<IPython.core.display.HTML object>"
      ]
     },
     "metadata": {},
     "output_type": "display_data"
    },
    {
     "name": "stderr",
     "output_type": "stream",
     "text": [
      "***** Running evaluation *****\n",
      "[I 2024-03-18 17:24:23,377] Trial 0 finished with value: 2.8595674513828735 and parameters: {'body_learning_rate': 1.1065254207186703e-05, 'num_epochs': 2, 'batch_size': 8, 'solver': 'newton-cg'}. Best is trial 0 with value: 2.8595674513828735.\n",
      "Trial: {'body_learning_rate': 1.1216026167266768e-05, 'num_epochs': 2, 'batch_size': 64, 'solver': 'lbfgs'}\n",
      "model_head.pkl not found on HuggingFace Hub, initialising classification head with random weights. You should TRAIN this model on a downstream task to use it for predictions and inference.\n",
      "***** Running training *****\n",
      "  Num unique pairs = 220\n",
      "  Batch size = 64\n",
      "  Num epochs = 2\n",
      "  Total optimization steps = 8\n"
     ]
    },
    {
     "data": {
      "text/html": [
       "\n",
       "    <div>\n",
       "      \n",
       "      <progress value='8' max='8' style='width:300px; height:20px; vertical-align: middle;'></progress>\n",
       "      [8/8 00:06, Epoch 2/0]\n",
       "    </div>\n",
       "    <table border=\"1\" class=\"dataframe\">\n",
       "  <thead>\n",
       " <tr style=\"text-align: left;\">\n",
       "      <th>Step</th>\n",
       "      <th>Training Loss</th>\n",
       "    </tr>\n",
       "  </thead>\n",
       "  <tbody>\n",
       "  </tbody>\n",
       "</table><p>"
      ],
      "text/plain": [
       "<IPython.core.display.HTML object>"
      ]
     },
     "metadata": {},
     "output_type": "display_data"
    },
    {
     "name": "stderr",
     "output_type": "stream",
     "text": [
      "***** Running evaluation *****\n",
      "[I 2024-03-18 17:24:32,042] Trial 1 finished with value: 2.7232334859269844 and parameters: {'body_learning_rate': 1.1216026167266768e-05, 'num_epochs': 2, 'batch_size': 64, 'solver': 'lbfgs'}. Best is trial 0 with value: 2.8595674513828735.\n",
      "Trial: {'body_learning_rate': 2.7631214620544078e-05, 'num_epochs': 3, 'batch_size': 64, 'solver': 'lbfgs'}\n",
      "model_head.pkl not found on HuggingFace Hub, initialising classification head with random weights. You should TRAIN this model on a downstream task to use it for predictions and inference.\n",
      "***** Running training *****\n",
      "  Num unique pairs = 220\n",
      "  Batch size = 64\n",
      "  Num epochs = 3\n",
      "  Total optimization steps = 12\n"
     ]
    },
    {
     "data": {
      "text/html": [
       "\n",
       "    <div>\n",
       "      \n",
       "      <progress value='12' max='12' style='width:300px; height:20px; vertical-align: middle;'></progress>\n",
       "      [12/12 00:10, Epoch 3/0]\n",
       "    </div>\n",
       "    <table border=\"1\" class=\"dataframe\">\n",
       "  <thead>\n",
       " <tr style=\"text-align: left;\">\n",
       "      <th>Step</th>\n",
       "      <th>Training Loss</th>\n",
       "    </tr>\n",
       "  </thead>\n",
       "  <tbody>\n",
       "  </tbody>\n",
       "</table><p>"
      ],
      "text/plain": [
       "<IPython.core.display.HTML object>"
      ]
     },
     "metadata": {},
     "output_type": "display_data"
    },
    {
     "name": "stderr",
     "output_type": "stream",
     "text": [
      "***** Running evaluation *****\n",
      "[I 2024-03-18 17:24:44,421] Trial 2 finished with value: 2.8151517356625715 and parameters: {'body_learning_rate': 2.7631214620544078e-05, 'num_epochs': 3, 'batch_size': 64, 'solver': 'lbfgs'}. Best is trial 0 with value: 2.8595674513828735.\n",
      "Trial: {'body_learning_rate': 0.00010708913425331542, 'num_epochs': 2, 'batch_size': 8, 'solver': 'lbfgs'}\n",
      "model_head.pkl not found on HuggingFace Hub, initialising classification head with random weights. You should TRAIN this model on a downstream task to use it for predictions and inference.\n",
      "***** Running training *****\n",
      "  Num unique pairs = 220\n",
      "  Batch size = 8\n",
      "  Num epochs = 2\n",
      "  Total optimization steps = 56\n"
     ]
    },
    {
     "data": {
      "text/html": [
       "\n",
       "    <div>\n",
       "      \n",
       "      <progress value='56' max='56' style='width:300px; height:20px; vertical-align: middle;'></progress>\n",
       "      [56/56 00:08, Epoch 2/0]\n",
       "    </div>\n",
       "    <table border=\"1\" class=\"dataframe\">\n",
       "  <thead>\n",
       " <tr style=\"text-align: left;\">\n",
       "      <th>Step</th>\n",
       "      <th>Training Loss</th>\n",
       "    </tr>\n",
       "  </thead>\n",
       "  <tbody>\n",
       "  </tbody>\n",
       "</table><p>"
      ],
      "text/plain": [
       "<IPython.core.display.HTML object>"
      ]
     },
     "metadata": {},
     "output_type": "display_data"
    },
    {
     "name": "stderr",
     "output_type": "stream",
     "text": [
      "***** Running evaluation *****\n",
      "[I 2024-03-18 17:24:54,039] Trial 3 finished with value: 3.1488875503581384 and parameters: {'body_learning_rate': 0.00010708913425331542, 'num_epochs': 2, 'batch_size': 8, 'solver': 'lbfgs'}. Best is trial 3 with value: 3.1488875503581384.\n",
      "Trial: {'body_learning_rate': 0.0004084231796269281, 'num_epochs': 2, 'batch_size': 32, 'solver': 'newton-cg'}\n",
      "model_head.pkl not found on HuggingFace Hub, initialising classification head with random weights. You should TRAIN this model on a downstream task to use it for predictions and inference.\n",
      "***** Running training *****\n",
      "  Num unique pairs = 220\n",
      "  Batch size = 32\n",
      "  Num epochs = 2\n",
      "  Total optimization steps = 14\n"
     ]
    },
    {
     "data": {
      "text/html": [
       "\n",
       "    <div>\n",
       "      \n",
       "      <progress value='14' max='14' style='width:300px; height:20px; vertical-align: middle;'></progress>\n",
       "      [14/14 00:07, Epoch 2/0]\n",
       "    </div>\n",
       "    <table border=\"1\" class=\"dataframe\">\n",
       "  <thead>\n",
       " <tr style=\"text-align: left;\">\n",
       "      <th>Step</th>\n",
       "      <th>Training Loss</th>\n",
       "    </tr>\n",
       "  </thead>\n",
       "  <tbody>\n",
       "  </tbody>\n",
       "</table><p>"
      ],
      "text/plain": [
       "<IPython.core.display.HTML object>"
      ]
     },
     "metadata": {},
     "output_type": "display_data"
    },
    {
     "name": "stderr",
     "output_type": "stream",
     "text": [
      "***** Running evaluation *****\n",
      "[I 2024-03-18 17:25:03,017] Trial 4 finished with value: 3.18282473460492 and parameters: {'body_learning_rate': 0.0004084231796269281, 'num_epochs': 2, 'batch_size': 32, 'solver': 'newton-cg'}. Best is trial 4 with value: 3.18282473460492.\n",
      "Trial: {'body_learning_rate': 0.0002213225330798612, 'num_epochs': 2, 'batch_size': 32, 'solver': 'newton-cg'}\n",
      "model_head.pkl not found on HuggingFace Hub, initialising classification head with random weights. You should TRAIN this model on a downstream task to use it for predictions and inference.\n",
      "***** Running training *****\n",
      "  Num unique pairs = 220\n",
      "  Batch size = 32\n",
      "  Num epochs = 2\n",
      "  Total optimization steps = 14\n"
     ]
    },
    {
     "data": {
      "text/html": [
       "\n",
       "    <div>\n",
       "      \n",
       "      <progress value='14' max='14' style='width:300px; height:20px; vertical-align: middle;'></progress>\n",
       "      [14/14 00:07, Epoch 2/0]\n",
       "    </div>\n",
       "    <table border=\"1\" class=\"dataframe\">\n",
       "  <thead>\n",
       " <tr style=\"text-align: left;\">\n",
       "      <th>Step</th>\n",
       "      <th>Training Loss</th>\n",
       "    </tr>\n",
       "  </thead>\n",
       "  <tbody>\n",
       "  </tbody>\n",
       "</table><p>"
      ],
      "text/plain": [
       "<IPython.core.display.HTML object>"
      ]
     },
     "metadata": {},
     "output_type": "display_data"
    },
    {
     "name": "stderr",
     "output_type": "stream",
     "text": [
      "***** Running evaluation *****\n",
      "[I 2024-03-18 17:25:12,660] Trial 5 finished with value: 3.092648870229336 and parameters: {'body_learning_rate': 0.0002213225330798612, 'num_epochs': 2, 'batch_size': 32, 'solver': 'newton-cg'}. Best is trial 4 with value: 3.18282473460492.\n",
      "Trial: {'body_learning_rate': 2.7610479366444215e-05, 'num_epochs': 2, 'batch_size': 32, 'solver': 'liblinear'}\n",
      "model_head.pkl not found on HuggingFace Hub, initialising classification head with random weights. You should TRAIN this model on a downstream task to use it for predictions and inference.\n",
      "***** Running training *****\n",
      "  Num unique pairs = 220\n",
      "  Batch size = 32\n",
      "  Num epochs = 2\n",
      "  Total optimization steps = 14\n"
     ]
    },
    {
     "data": {
      "text/html": [
       "\n",
       "    <div>\n",
       "      \n",
       "      <progress value='14' max='14' style='width:300px; height:20px; vertical-align: middle;'></progress>\n",
       "      [14/14 00:07, Epoch 2/0]\n",
       "    </div>\n",
       "    <table border=\"1\" class=\"dataframe\">\n",
       "  <thead>\n",
       " <tr style=\"text-align: left;\">\n",
       "      <th>Step</th>\n",
       "      <th>Training Loss</th>\n",
       "    </tr>\n",
       "  </thead>\n",
       "  <tbody>\n",
       "  </tbody>\n",
       "</table><p>"
      ],
      "text/plain": [
       "<IPython.core.display.HTML object>"
      ]
     },
     "metadata": {},
     "output_type": "display_data"
    },
    {
     "name": "stderr",
     "output_type": "stream",
     "text": [
      "***** Running evaluation *****\n",
      "[I 2024-03-18 17:25:21,516] Trial 6 finished with value: 2.857070098822017 and parameters: {'body_learning_rate': 2.7610479366444215e-05, 'num_epochs': 2, 'batch_size': 32, 'solver': 'liblinear'}. Best is trial 4 with value: 3.18282473460492.\n",
      "Trial: {'body_learning_rate': 0.0003103369900521842, 'num_epochs': 2, 'batch_size': 32, 'solver': 'newton-cg'}\n",
      "model_head.pkl not found on HuggingFace Hub, initialising classification head with random weights. You should TRAIN this model on a downstream task to use it for predictions and inference.\n",
      "***** Running training *****\n",
      "  Num unique pairs = 220\n",
      "  Batch size = 32\n",
      "  Num epochs = 2\n",
      "  Total optimization steps = 14\n"
     ]
    },
    {
     "data": {
      "text/html": [
       "\n",
       "    <div>\n",
       "      \n",
       "      <progress value='14' max='14' style='width:300px; height:20px; vertical-align: middle;'></progress>\n",
       "      [14/14 00:07, Epoch 2/0]\n",
       "    </div>\n",
       "    <table border=\"1\" class=\"dataframe\">\n",
       "  <thead>\n",
       " <tr style=\"text-align: left;\">\n",
       "      <th>Step</th>\n",
       "      <th>Training Loss</th>\n",
       "    </tr>\n",
       "  </thead>\n",
       "  <tbody>\n",
       "  </tbody>\n",
       "</table><p>"
      ],
      "text/plain": [
       "<IPython.core.display.HTML object>"
      ]
     },
     "metadata": {},
     "output_type": "display_data"
    },
    {
     "name": "stderr",
     "output_type": "stream",
     "text": [
      "***** Running evaluation *****\n",
      "[I 2024-03-18 17:25:30,370] Trial 7 finished with value: 3.2325796215100073 and parameters: {'body_learning_rate': 0.0003103369900521842, 'num_epochs': 2, 'batch_size': 32, 'solver': 'newton-cg'}. Best is trial 7 with value: 3.2325796215100073.\n",
      "Trial: {'body_learning_rate': 0.00020750426513882773, 'num_epochs': 2, 'batch_size': 64, 'solver': 'lbfgs'}\n",
      "model_head.pkl not found on HuggingFace Hub, initialising classification head with random weights. You should TRAIN this model on a downstream task to use it for predictions and inference.\n",
      "***** Running training *****\n",
      "  Num unique pairs = 220\n",
      "  Batch size = 64\n",
      "  Num epochs = 2\n",
      "  Total optimization steps = 8\n"
     ]
    },
    {
     "data": {
      "text/html": [
       "\n",
       "    <div>\n",
       "      \n",
       "      <progress value='8' max='8' style='width:300px; height:20px; vertical-align: middle;'></progress>\n",
       "      [8/8 00:06, Epoch 2/0]\n",
       "    </div>\n",
       "    <table border=\"1\" class=\"dataframe\">\n",
       "  <thead>\n",
       " <tr style=\"text-align: left;\">\n",
       "      <th>Step</th>\n",
       "      <th>Training Loss</th>\n",
       "    </tr>\n",
       "  </thead>\n",
       "  <tbody>\n",
       "  </tbody>\n",
       "</table><p>"
      ],
      "text/plain": [
       "<IPython.core.display.HTML object>"
      ]
     },
     "metadata": {},
     "output_type": "display_data"
    },
    {
     "name": "stderr",
     "output_type": "stream",
     "text": [
      "***** Running evaluation *****\n",
      "[I 2024-03-18 17:25:39,006] Trial 8 finished with value: 2.733119195619926 and parameters: {'body_learning_rate': 0.00020750426513882773, 'num_epochs': 2, 'batch_size': 64, 'solver': 'lbfgs'}. Best is trial 7 with value: 3.2325796215100073.\n",
      "Trial: {'body_learning_rate': 1.6459223544468137e-06, 'num_epochs': 3, 'batch_size': 8, 'solver': 'liblinear'}\n",
      "model_head.pkl not found on HuggingFace Hub, initialising classification head with random weights. You should TRAIN this model on a downstream task to use it for predictions and inference.\n",
      "***** Running training *****\n",
      "  Num unique pairs = 220\n",
      "  Batch size = 8\n",
      "  Num epochs = 3\n",
      "  Total optimization steps = 84\n"
     ]
    },
    {
     "data": {
      "text/html": [
       "\n",
       "    <div>\n",
       "      \n",
       "      <progress value='84' max='84' style='width:300px; height:20px; vertical-align: middle;'></progress>\n",
       "      [84/84 00:12, Epoch 3/0]\n",
       "    </div>\n",
       "    <table border=\"1\" class=\"dataframe\">\n",
       "  <thead>\n",
       " <tr style=\"text-align: left;\">\n",
       "      <th>Step</th>\n",
       "      <th>Training Loss</th>\n",
       "    </tr>\n",
       "  </thead>\n",
       "  <tbody>\n",
       "  </tbody>\n",
       "</table><p>"
      ],
      "text/plain": [
       "<IPython.core.display.HTML object>"
      ]
     },
     "metadata": {},
     "output_type": "display_data"
    },
    {
     "name": "stderr",
     "output_type": "stream",
     "text": [
      "***** Running evaluation *****\n",
      "[I 2024-03-18 17:25:52,916] Trial 9 finished with value: 2.9031098015585766 and parameters: {'body_learning_rate': 1.6459223544468137e-06, 'num_epochs': 3, 'batch_size': 8, 'solver': 'liblinear'}. Best is trial 7 with value: 3.2325796215100073.\n"
     ]
    }
   ],
   "source": [
    "train_dataset = sample_dataset(dataset[\"train\"], label_column=\"label\", num_samples=10)\n",
    "\n",
    "trainer = Trainer(\n",
    "    train_dataset=train_dataset,\n",
    "    eval_dataset=eval_dataset,\n",
    "    model_init=model_init,\n",
    "    metric=compute_metrics,\n",
    ")\n",
    "best_run = trainer.hyperparameter_search(direction=\"maximize\", hp_space=hp_space, n_trials=10)"
   ]
  },
  {
   "cell_type": "code",
   "execution_count": 108,
   "id": "d8d1c1a6-47fb-416f-aee0-6cc1ab1fdb86",
   "metadata": {
    "execution": {
     "iopub.execute_input": "2024-03-18T16:25:52.932481Z",
     "iopub.status.busy": "2024-03-18T16:25:52.932283Z",
     "iopub.status.idle": "2024-03-18T16:25:52.934670Z",
     "shell.execute_reply": "2024-03-18T16:25:52.934309Z",
     "shell.execute_reply.started": "2024-03-18T16:25:52.932470Z"
    }
   },
   "outputs": [
    {
     "name": "stdout",
     "output_type": "stream",
     "text": [
      "BestRun(run_id='7', objective=3.2325796215100073, hyperparameters={'body_learning_rate': 0.0003103369900521842, 'num_epochs': 2, 'batch_size': 32, 'solver': 'newton-cg'}, backend=<optuna.study.study.Study object at 0x15256eb161d0>)\n"
     ]
    }
   ],
   "source": [
    "print(best_run)"
   ]
  },
  {
   "cell_type": "code",
   "execution_count": 109,
   "id": "74de30c2-4d17-43b4-aea1-ae049fa833ca",
   "metadata": {
    "execution": {
     "iopub.execute_input": "2024-03-18T16:26:03.250402Z",
     "iopub.status.busy": "2024-03-18T16:26:03.250012Z",
     "iopub.status.idle": "2024-03-18T16:26:11.829446Z",
     "shell.execute_reply": "2024-03-18T16:26:11.828950Z",
     "shell.execute_reply.started": "2024-03-18T16:26:03.250388Z"
    }
   },
   "outputs": [
    {
     "name": "stderr",
     "output_type": "stream",
     "text": [
      "model_head.pkl not found on HuggingFace Hub, initialising classification head with random weights. You should TRAIN this model on a downstream task to use it for predictions and inference.\n",
      "***** Running training *****\n",
      "  Num unique pairs = 220\n",
      "  Batch size = 32\n",
      "  Num epochs = 2\n",
      "  Total optimization steps = 14\n"
     ]
    },
    {
     "data": {
      "text/html": [
       "\n",
       "    <div>\n",
       "      \n",
       "      <progress value='14' max='14' style='width:300px; height:20px; vertical-align: middle;'></progress>\n",
       "      [14/14 00:07, Epoch 2/0]\n",
       "    </div>\n",
       "    <table border=\"1\" class=\"dataframe\">\n",
       "  <thead>\n",
       " <tr style=\"text-align: left;\">\n",
       "      <th>Step</th>\n",
       "      <th>Training Loss</th>\n",
       "    </tr>\n",
       "  </thead>\n",
       "  <tbody>\n",
       "  </tbody>\n",
       "</table><p>"
      ],
      "text/plain": [
       "<IPython.core.display.HTML object>"
      ]
     },
     "metadata": {},
     "output_type": "display_data"
    }
   ],
   "source": [
    "trainer.apply_hyperparameters(best_run.hyperparameters, final_model=True)\n",
    "trainer.train()"
   ]
  },
  {
   "cell_type": "code",
   "execution_count": 110,
   "id": "1fc4eca4-3e2d-41a0-a26e-35fec4be218c",
   "metadata": {
    "execution": {
     "iopub.execute_input": "2024-03-18T16:26:11.840642Z",
     "iopub.status.busy": "2024-03-18T16:26:11.840525Z",
     "iopub.status.idle": "2024-03-18T16:26:12.166131Z",
     "shell.execute_reply": "2024-03-18T16:26:12.165796Z",
     "shell.execute_reply.started": "2024-03-18T16:26:11.840631Z"
    }
   },
   "outputs": [
    {
     "name": "stderr",
     "output_type": "stream",
     "text": [
      "***** Running evaluation *****\n"
     ]
    },
    {
     "data": {
      "text/plain": [
       "{'accuracy': 0.8111111111111111,\n",
       " 'precision': 0.8081983805668016,\n",
       " 'recall': 0.806184012066365,\n",
       " 'f1': 0.8070861177657295}"
      ]
     },
     "execution_count": 110,
     "metadata": {},
     "output_type": "execute_result"
    }
   ],
   "source": [
    "trainer.evaluate(eval_dataset)"
   ]
  },
  {
   "cell_type": "code",
   "execution_count": 111,
   "id": "c89f5c4e-b95a-434c-bc15-1cdb675479ac",
   "metadata": {
    "execution": {
     "iopub.execute_input": "2024-03-18T16:26:16.830347Z",
     "iopub.status.busy": "2024-03-18T16:26:16.830044Z",
     "iopub.status.idle": "2024-03-18T16:26:17.193172Z",
     "shell.execute_reply": "2024-03-18T16:26:17.192811Z",
     "shell.execute_reply.started": "2024-03-18T16:26:16.830335Z"
    }
   },
   "outputs": [
    {
     "name": "stderr",
     "output_type": "stream",
     "text": [
      "***** Running evaluation *****\n"
     ]
    },
    {
     "data": {
      "text/plain": [
       "{'accuracy': 0.7555555555555555,\n",
       " 'precision': 0.7570509648688768,\n",
       " 'recall': 0.7570509648688768,\n",
       " 'f1': 0.7555555555555555}"
      ]
     },
     "execution_count": 111,
     "metadata": {},
     "output_type": "execute_result"
    }
   ],
   "source": [
    "trainer.evaluate(test_dataset)"
   ]
  },
  {
   "cell_type": "markdown",
   "id": "5b00d21f-8923-4193-a075-25d35dd696a9",
   "metadata": {},
   "source": [
    "### Making predictions"
   ]
  },
  {
   "cell_type": "code",
   "execution_count": null,
   "id": "c3e82e41-ff30-4a84-a117-9eef5495384a",
   "metadata": {},
   "outputs": [],
   "source": [
    "preds = model.predict()"
   ]
  },
  {
   "cell_type": "code",
   "execution_count": null,
   "id": "f7136cfd-cd23-4048-9bef-2a6993cca8c4",
   "metadata": {},
   "outputs": [],
   "source": []
  }
 ],
 "metadata": {
  "kernelspec": {
   "display_name": "Python 3 (ipykernel)",
   "language": "python",
   "name": "python3"
  },
  "language_info": {
   "codemirror_mode": {
    "name": "ipython",
    "version": 3
   },
   "file_extension": ".py",
   "mimetype": "text/x-python",
   "name": "python",
   "nbconvert_exporter": "python",
   "pygments_lexer": "ipython3",
   "version": "3.9.18"
  }
 },
 "nbformat": 4,
 "nbformat_minor": 5
}
